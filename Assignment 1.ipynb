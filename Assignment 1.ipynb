{
 "cells": [
  {
   "cell_type": "code",
   "execution_count": 9,
   "id": "cf1de5e2",
   "metadata": {},
   "outputs": [
    {
     "name": "stdout",
     "output_type": "stream",
     "text": [
      "num 1 = 0.36 ,num 2 = 2.5\n"
     ]
    }
   ],
   "source": [
    "num1= 2.5\n",
    "num2= 0.36\n",
    "\n",
    "a= num1\n",
    "num1= num2\n",
    "num2= a\n",
    "\n",
    "print (\"num 1 =\", num1, \",\" \"num 2 =\",num2)\n"
   ]
  },
  {
   "cell_type": "code",
   "execution_count": 10,
   "id": "b1d62e7d",
   "metadata": {},
   "outputs": [
    {
     "data": {
      "text/plain": [
       "2.5"
      ]
     },
     "execution_count": 10,
     "metadata": {},
     "output_type": "execute_result"
    }
   ],
   "source": [
    "num2"
   ]
  },
  {
   "attachments": {
    "image.png": {
     "image/png": "[encoded data removed]"
    }
   },
   "cell_type": "markdown",
   "id": "0520c67a",
   "metadata": {},
   "source": [
    "![image.png](attachment:image.png)"
   ]
  },
  {
   "cell_type": "code",
   "execution_count": 11,
   "id": "7081ae26",
   "metadata": {},
   "outputs": [
    {
     "name": "stdout",
     "output_type": "stream",
     "text": [
      "70\n",
      "62\n"
     ]
    }
   ],
   "source": [
    "x= 62\n",
    "y= 70\n",
    "x, y = y, x\n",
    "print (x)\n",
    "print (y)"
   ]
  },
  {
   "cell_type": "code",
   "execution_count": 1,
   "id": "22c9c45a",
   "metadata": {},
   "outputs": [
    {
     "data": {
      "text/plain": [
       "6.215040397762586"
      ]
     },
     "execution_count": 1,
     "metadata": {},
     "output_type": "execute_result"
    }
   ],
   "source": [
    "kmtomile= 10/1.609\n",
    "kmtomile"
   ]
  },
  {
   "cell_type": "code",
   "execution_count": 2,
   "id": "24d5bd12",
   "metadata": {},
   "outputs": [
    {
     "data": {
      "text/plain": [
       "42.7"
      ]
     },
     "execution_count": 2,
     "metadata": {},
     "output_type": "execute_result"
    }
   ],
   "source": [
    "timeinmin= 42+42/60\n",
    "timeinmin"
   ]
  },
  {
   "cell_type": "code",
   "execution_count": 12,
   "id": "9ec6460f",
   "metadata": {},
   "outputs": [
    {
     "name": "stdout",
     "output_type": "stream",
     "text": [
      "0.1455512973714891\n"
     ]
    },
    {
     "data": {
      "text/plain": [
       "0.145551"
      ]
     },
     "execution_count": 12,
     "metadata": {},
     "output_type": "execute_result"
    }
   ],
   "source": [
    "speed= kmtomile/timeinmin\n",
    "print (speed)\n",
    "round (speed, 6)"
   ]
  },
  {
   "cell_type": "code",
   "execution_count": 5,
   "id": "9dd9bf4b",
   "metadata": {},
   "outputs": [],
   "source": [
    "# round(speed, 6)"
   ]
  },
  {
   "cell_type": "markdown",
   "id": "bb8a5258",
   "metadata": {},
   "source": [
    "# Volume of sphere\n",
    "\n",
    "$volume(v)= \\frac{4}{3}\\pi r^3$"
   ]
  },
  {
   "cell_type": "code",
   "execution_count": 9,
   "id": "4a021111",
   "metadata": {},
   "outputs": [
    {
     "name": "stdout",
     "output_type": "stream",
     "text": [
      "Enter radius:5\n",
      " The volume of sphere is 523.6\n"
     ]
    }
   ],
   "source": [
    "import math\n",
    "PI= math.pi\n",
    "radius= float(input(\"Enter radius:\"))\n",
    "volume= 4/3 * PI * radius**3\n",
    "print(f\" The volume of sphere is {round(volume, 2)}\")"
   ]
  },
  {
   "cell_type": "markdown",
   "id": "901866ef",
   "metadata": {},
   "source": [
    "# Operator Precedence"
   ]
  },
  {
   "cell_type": "code",
   "execution_count": 13,
   "id": "a8eceae2",
   "metadata": {},
   "outputs": [
    {
     "data": {
      "text/plain": [
       "18"
      ]
     },
     "execution_count": 13,
     "metadata": {},
     "output_type": "execute_result"
    }
   ],
   "source": [
    "2*3**2"
   ]
  },
  {
   "cell_type": "code",
   "execution_count": 14,
   "id": "a4b5ca2b",
   "metadata": {},
   "outputs": [
    {
     "data": {
      "text/plain": [
       "18"
      ]
     },
     "execution_count": 14,
     "metadata": {},
     "output_type": "execute_result"
    }
   ],
   "source": [
    "# equivalent to \n",
    "2* 9"
   ]
  },
  {
   "cell_type": "code",
   "execution_count": 17,
   "id": "bd0eaa36",
   "metadata": {},
   "outputs": [
    {
     "data": {
      "text/plain": [
       "256"
      ]
     },
     "execution_count": 17,
     "metadata": {},
     "output_type": "execute_result"
    }
   ],
   "source": [
    "2 ** 2**3"
   ]
  },
  {
   "cell_type": "code",
   "execution_count": 20,
   "id": "2161532d",
   "metadata": {},
   "outputs": [
    {
     "data": {
      "text/plain": [
       "256"
      ]
     },
     "execution_count": 20,
     "metadata": {},
     "output_type": "execute_result"
    }
   ],
   "source": [
    "2**8\n",
    "# equivalent: right to left -- for exponentiation operator only; left to right for others"
   ]
  },
  {
   "cell_type": "code",
   "execution_count": null,
   "id": "0a4d77fb",
   "metadata": {},
   "outputs": [],
   "source": []
  }
 ],
 "metadata": {
  "kernelspec": {
   "display_name": "Python 3 (ipykernel)",
   "language": "python",
   "name": "python3"
  },
  "language_info": {
   "codemirror_mode": {
    "name": "ipython",
    "version": 3
   },
   "file_extension": ".py",
   "mimetype": "text/x-python",
   "name": "python",
   "nbconvert_exporter": "python",
   "pygments_lexer": "ipython3",
   "version": "3.10.11"
  }
 },
 "nbformat": 4,
 "nbformat_minor": 5
}
