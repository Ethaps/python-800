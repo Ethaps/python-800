{
 "cells": [
  {
   "cell_type": "markdown",
   "id": "eff82433",
   "metadata": {},
   "source": [
    "# `input()` method takes input from the user"
   ]
  },
  {
   "cell_type": "code",
   "execution_count": 1,
   "id": "853bd316",
   "metadata": {},
   "outputs": [
    {
     "name": "stdout",
     "output_type": "stream",
     "text": [
      "5\n"
     ]
    },
    {
     "data": {
      "text/plain": [
       "'5'"
      ]
     },
     "execution_count": 1,
     "metadata": {},
     "output_type": "execute_result"
    }
   ],
   "source": [
    "input ()"
   ]
  },
  {
   "cell_type": "code",
   "execution_count": 3,
   "id": "80cf1073",
   "metadata": {},
   "outputs": [
    {
     "name": "stdout",
     "output_type": "stream",
     "text": [
      "Enter a Number55\n",
      "55\n"
     ]
    }
   ],
   "source": [
    "number= input (\"Enter a Number\")\n",
    "print (number)"
   ]
  },
  {
   "cell_type": "code",
   "execution_count": 4,
   "id": "c09126ed",
   "metadata": {},
   "outputs": [
    {
     "name": "stdout",
     "output_type": "stream",
     "text": [
      "Enter first number:2\n",
      "Enter second number44\n",
      "The total sum is 244\n"
     ]
    }
   ],
   "source": [
    "num1= input(\"Enter first number:\")\n",
    "num2= input (\"Enter second number\")\n",
    "total= num1 + num2\n",
    "print (f'The total sum is {total}')"
   ]
  },
  {
   "cell_type": "code",
   "execution_count": 6,
   "id": "22914d0b",
   "metadata": {},
   "outputs": [
    {
     "name": "stdout",
     "output_type": "stream",
     "text": [
      "Enter first number: 2\n"
     ]
    },
    {
     "data": {
      "text/plain": [
       "str"
      ]
     },
     "execution_count": 6,
     "metadata": {},
     "output_type": "execute_result"
    }
   ],
   "source": [
    "num1= input (\"Enter first number: \")\n",
    "type(num1) # by default input takes any value in string, we want to convert it into integer"
   ]
  },
  {
   "cell_type": "markdown",
   "id": "0c7946d5",
   "metadata": {},
   "source": [
    "# Type casting\n",
    "\n",
    "user casts data type explicitly from one to other"
   ]
  },
  {
   "cell_type": "code",
   "execution_count": 7,
   "id": "a2a8e222",
   "metadata": {},
   "outputs": [
    {
     "name": "stdout",
     "output_type": "stream",
     "text": [
      "Enter first Number: 2\n"
     ]
    },
    {
     "data": {
      "text/plain": [
       "int"
      ]
     },
     "execution_count": 7,
     "metadata": {},
     "output_type": "execute_result"
    }
   ],
   "source": [
    "num1= int (input (\"Enter first Number: \"))\n",
    "type(num1)"
   ]
  },
  {
   "cell_type": "code",
   "execution_count": 9,
   "id": "96a3a27c",
   "metadata": {},
   "outputs": [
    {
     "name": "stdout",
     "output_type": "stream",
     "text": [
      "Enter first number: 3\n",
      "Enter second number: 44\n",
      "The total sum is 47\n"
     ]
    }
   ],
   "source": [
    "num1= int (input(\"Enter first number: \"))\n",
    "num2= int (input (\"Enter second number: \"))\n",
    "total= num1 + num2\n",
    "print (f'The total sum is {total}')"
   ]
  },
  {
   "cell_type": "code",
   "execution_count": 10,
   "id": "50a7ab0a",
   "metadata": {},
   "outputs": [
    {
     "name": "stdout",
     "output_type": "stream",
     "text": [
      "Enter numberHello\n"
     ]
    },
    {
     "ename": "ValueError",
     "evalue": "invalid literal for int() with base 10: 'Hello'",
     "output_type": "error",
     "traceback": [
      "\u001b[1;31m---------------------------------------------------------------------------\u001b[0m",
      "\u001b[1;31mValueError\u001b[0m                                Traceback (most recent call last)",
      "Cell \u001b[1;32mIn[10], line 1\u001b[0m\n\u001b[1;32m----> 1\u001b[0m \u001b[38;5;28;43mint\u001b[39;49m\u001b[43m \u001b[49m\u001b[43m(\u001b[49m\u001b[38;5;28;43minput\u001b[39;49m\u001b[43m(\u001b[49m\u001b[38;5;124;43m\"\u001b[39;49m\u001b[38;5;124;43mEnter number\u001b[39;49m\u001b[38;5;124;43m\"\u001b[39;49m\u001b[43m)\u001b[49m\u001b[43m)\u001b[49m\n",
      "\u001b[1;31mValueError\u001b[0m: invalid literal for int() with base 10: 'Hello'"
     ]
    }
   ],
   "source": [
    "int (input(\"Enter number\"))"
   ]
  },
  {
   "cell_type": "code",
   "execution_count": null,
   "id": "f03a8bcf",
   "metadata": {},
   "outputs": [],
   "source": []
  }
 ],
 "metadata": {
  "kernelspec": {
   "display_name": "Python 3 (ipykernel)",
   "language": "python",
   "name": "python3"
  },
  "language_info": {
   "codemirror_mode": {
    "name": "ipython",
    "version": 3
   },
   "file_extension": ".py",
   "mimetype": "text/x-python",
   "name": "python",
   "nbconvert_exporter": "python",
   "pygments_lexer": "ipython3",
   "version": "3.10.11"
  }
 },
 "nbformat": 4,
 "nbformat_minor": 5
}
