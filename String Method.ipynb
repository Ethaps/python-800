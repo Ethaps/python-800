{
 "cells": [
  {
   "cell_type": "code",
   "execution_count": 1,
   "id": "b6f2e4de",
   "metadata": {},
   "outputs": [],
   "source": [
    "name = \"k$hitix\""
   ]
  },
  {
   "cell_type": "code",
   "execution_count": 2,
   "id": "9f89ac7e",
   "metadata": {},
   "outputs": [
    {
     "data": {
      "text/plain": [
       "'$'"
      ]
     },
     "execution_count": 2,
     "metadata": {},
     "output_type": "execute_result"
    }
   ],
   "source": [
    "name[1]"
   ]
  },
  {
   "cell_type": "code",
   "execution_count": 4,
   "id": "4ab12d22",
   "metadata": {},
   "outputs": [
    {
     "ename": "TypeError",
     "evalue": "'str' object does not support item assignment",
     "output_type": "error",
     "traceback": [
      "\u001b[1;31m---------------------------------------------------------------------------\u001b[0m",
      "\u001b[1;31mTypeError\u001b[0m                                 Traceback (most recent call last)",
      "Cell \u001b[1;32mIn[4], line 1\u001b[0m\n\u001b[1;32m----> 1\u001b[0m \u001b[43mname\u001b[49m\u001b[43m[\u001b[49m\u001b[38;5;241;43m1\u001b[39;49m\u001b[43m]\u001b[49m\u001b[38;5;241m=\u001b[39m\u001b[38;5;124m\"\u001b[39m\u001b[38;5;124ms\u001b[39m\u001b[38;5;124m\"\u001b[39m \u001b[38;5;66;03m# string is immutable\u001b[39;00m\n",
      "\u001b[1;31mTypeError\u001b[0m: 'str' object does not support item assignment"
     ]
    }
   ],
   "source": [
    "name[1]=\"s\" # string is immutable"
   ]
  },
  {
   "cell_type": "code",
   "execution_count": 5,
   "id": "eb272ed3",
   "metadata": {},
   "outputs": [],
   "source": [
    "# immutable ma same memory location ma gayer variable ko value upade garna mildaina"
   ]
  },
  {
   "cell_type": "code",
   "execution_count": 6,
   "id": "244aed95",
   "metadata": {},
   "outputs": [
    {
     "data": {
      "text/plain": [
       "1815763578800"
      ]
     },
     "execution_count": 6,
     "metadata": {},
     "output_type": "execute_result"
    }
   ],
   "source": [
    "# memory location id() method le dincha\n",
    "id (name)"
   ]
  },
  {
   "cell_type": "markdown",
   "id": "290e7e8f",
   "metadata": {},
   "source": [
    "# String has .replace() method that replaces character or substring"
   ]
  },
  {
   "cell_type": "code",
   "execution_count": 7,
   "id": "c2f0ea98",
   "metadata": {},
   "outputs": [
    {
     "data": {
      "text/plain": [
       "1815786100016"
      ]
     },
     "execution_count": 7,
     "metadata": {},
     "output_type": "execute_result"
    }
   ],
   "source": [
    "name = \"k$hitiz\"\n",
    "id(name)"
   ]
  },
  {
   "cell_type": "code",
   "execution_count": 8,
   "id": "d5190f59",
   "metadata": {},
   "outputs": [
    {
     "data": {
      "text/plain": [
       "'kshitiz'"
      ]
     },
     "execution_count": 8,
     "metadata": {},
     "output_type": "execute_result"
    }
   ],
   "source": [
    "name.replace(\"$\", \"s\") # new memory location"
   ]
  },
  {
   "cell_type": "code",
   "execution_count": 9,
   "id": "680fff14",
   "metadata": {},
   "outputs": [
    {
     "data": {
      "text/plain": [
       "'k$hitiz'"
      ]
     },
     "execution_count": 9,
     "metadata": {},
     "output_type": "execute_result"
    }
   ],
   "source": [
    "name"
   ]
  },
  {
   "cell_type": "code",
   "execution_count": 10,
   "id": "025b3d2d",
   "metadata": {},
   "outputs": [
    {
     "data": {
      "text/plain": [
       "1815786099120"
      ]
     },
     "execution_count": 10,
     "metadata": {},
     "output_type": "execute_result"
    }
   ],
   "source": [
    "name= name.replace(\"$\", 's')\n",
    "id(name)"
   ]
  },
  {
   "cell_type": "code",
   "execution_count": 11,
   "id": "cfabb3ae",
   "metadata": {},
   "outputs": [
    {
     "data": {
      "text/plain": [
       "'Fantastic new year'"
      ]
     },
     "execution_count": 11,
     "metadata": {},
     "output_type": "execute_result"
    }
   ],
   "source": [
    "\"Happy new year\". replace(\"Happy\", \"Fantastic\")"
   ]
  },
  {
   "cell_type": "markdown",
   "id": "68b56983",
   "metadata": {},
   "source": [
    "# .lower() and .upper()"
   ]
  },
  {
   "cell_type": "code",
   "execution_count": 12,
   "id": "31e50c49",
   "metadata": {},
   "outputs": [],
   "source": [
    "msg= \"Hi\""
   ]
  },
  {
   "cell_type": "code",
   "execution_count": 13,
   "id": "e3838cac",
   "metadata": {},
   "outputs": [
    {
     "data": {
      "text/plain": [
       "'HI'"
      ]
     },
     "execution_count": 13,
     "metadata": {},
     "output_type": "execute_result"
    }
   ],
   "source": [
    "msg.upper()"
   ]
  },
  {
   "cell_type": "code",
   "execution_count": 14,
   "id": "4b1f27d7",
   "metadata": {},
   "outputs": [
    {
     "data": {
      "text/plain": [
       "'hi'"
      ]
     },
     "execution_count": 14,
     "metadata": {},
     "output_type": "execute_result"
    }
   ],
   "source": [
    "msg.lower()"
   ]
  },
  {
   "cell_type": "code",
   "execution_count": 15,
   "id": "ef64364a",
   "metadata": {},
   "outputs": [
    {
     "data": {
      "text/plain": [
       "'Hi'"
      ]
     },
     "execution_count": 15,
     "metadata": {},
     "output_type": "execute_result"
    }
   ],
   "source": [
    "msg"
   ]
  },
  {
   "cell_type": "code",
   "execution_count": 16,
   "id": "49dae0bf",
   "metadata": {},
   "outputs": [],
   "source": [
    "msg= \"Hehe ma timro hari bahadur\""
   ]
  },
  {
   "cell_type": "code",
   "execution_count": 17,
   "id": "bc869e59",
   "metadata": {},
   "outputs": [
    {
     "data": {
      "text/plain": [
       "'Hehe Ma Timro Hari Bahadur'"
      ]
     },
     "execution_count": 17,
     "metadata": {},
     "output_type": "execute_result"
    }
   ],
   "source": [
    "msg.title()"
   ]
  },
  {
   "cell_type": "markdown",
   "id": "8741fd24",
   "metadata": {},
   "source": [
    "# strip(), lstrip(), rstrip()"
   ]
  },
  {
   "cell_type": "code",
   "execution_count": 18,
   "id": "2b18b56b",
   "metadata": {},
   "outputs": [],
   "source": [
    "msg= \"    Shankar ho mero naam Shankar   \""
   ]
  },
  {
   "cell_type": "code",
   "execution_count": 19,
   "id": "378e3155",
   "metadata": {},
   "outputs": [
    {
     "data": {
      "text/plain": [
       "'Shankar ho mero naam Shankar'"
      ]
     },
     "execution_count": 19,
     "metadata": {},
     "output_type": "execute_result"
    }
   ],
   "source": [
    "msg.strip()"
   ]
  },
  {
   "cell_type": "code",
   "execution_count": 20,
   "id": "ca10d185",
   "metadata": {},
   "outputs": [
    {
     "data": {
      "text/plain": [
       "'Shankar ho mero naam Shankar   '"
      ]
     },
     "execution_count": 20,
     "metadata": {},
     "output_type": "execute_result"
    }
   ],
   "source": [
    "msg.lstrip()"
   ]
  },
  {
   "cell_type": "code",
   "execution_count": 21,
   "id": "ba9e65db",
   "metadata": {},
   "outputs": [
    {
     "data": {
      "text/plain": [
       "'    Shankar ho mero naam Shankar'"
      ]
     },
     "execution_count": 21,
     "metadata": {},
     "output_type": "execute_result"
    }
   ],
   "source": [
    "msg.rstrip()"
   ]
  },
  {
   "cell_type": "markdown",
   "id": "2e83012c",
   "metadata": {},
   "source": [
    "# .split()"
   ]
  },
  {
   "cell_type": "code",
   "execution_count": 22,
   "id": "de7528b8",
   "metadata": {},
   "outputs": [],
   "source": [
    "note = \"Abishek ra Bishwo dherai halla garchan class ma.\""
   ]
  },
  {
   "cell_type": "code",
   "execution_count": 30,
   "id": "16837d8b",
   "metadata": {},
   "outputs": [],
   "source": [
    "words= note.split(\" \")"
   ]
  },
  {
   "cell_type": "code",
   "execution_count": 31,
   "id": "1033734c",
   "metadata": {},
   "outputs": [
    {
     "data": {
      "text/plain": [
       "['Abishek', 'ra', 'Bishwo', 'dherai', 'halla', 'garchan', 'class', 'ma.']"
      ]
     },
     "execution_count": 31,
     "metadata": {},
     "output_type": "execute_result"
    }
   ],
   "source": [
    "words"
   ]
  },
  {
   "cell_type": "code",
   "execution_count": 32,
   "id": "6d652329",
   "metadata": {},
   "outputs": [
    {
     "data": {
      "text/plain": [
       "list"
      ]
     },
     "execution_count": 32,
     "metadata": {},
     "output_type": "execute_result"
    }
   ],
   "source": [
    "type(words)"
   ]
  },
  {
   "cell_type": "code",
   "execution_count": 33,
   "id": "9a470881",
   "metadata": {},
   "outputs": [
    {
     "data": {
      "text/plain": [
       "['Abishek ra Bishwo', ' dherai halla garchan class ma.']"
      ]
     },
     "execution_count": 33,
     "metadata": {},
     "output_type": "execute_result"
    }
   ],
   "source": [
    "note = \"Abishek ra Bishwo, dherai halla garchan class ma.\"\n",
    "note.split(',')"
   ]
  },
  {
   "cell_type": "code",
   "execution_count": 34,
   "id": "57e0b9c8",
   "metadata": {},
   "outputs": [],
   "source": [
    "color= 'red-green-blue'"
   ]
  },
  {
   "cell_type": "code",
   "execution_count": 35,
   "id": "a82dbf62",
   "metadata": {},
   "outputs": [
    {
     "data": {
      "text/plain": [
       "['red', 'green', 'blue']"
      ]
     },
     "execution_count": 35,
     "metadata": {},
     "output_type": "execute_result"
    }
   ],
   "source": [
    "color.split('-')"
   ]
  },
  {
   "cell_type": "code",
   "execution_count": 37,
   "id": "3b9469be",
   "metadata": {},
   "outputs": [
    {
     "data": {
      "text/plain": [
       "'r,e,d,-,g,r,e,e,n,-,b,l,u,e'"
      ]
     },
     "execution_count": 37,
     "metadata": {},
     "output_type": "execute_result"
    }
   ],
   "source": [
    "\",\".join(color)"
   ]
  },
  {
   "cell_type": "code",
   "execution_count": 38,
   "id": "d27d16c0",
   "metadata": {},
   "outputs": [
    {
     "data": {
      "text/plain": [
       "'r-e-d---g-r-e-e-n---b-l-u-e'"
      ]
     },
     "execution_count": 38,
     "metadata": {},
     "output_type": "execute_result"
    }
   ],
   "source": [
    "\"-\".join(color)"
   ]
  },
  {
   "cell_type": "code",
   "execution_count": 39,
   "id": "e1b474d5",
   "metadata": {},
   "outputs": [
    {
     "data": {
      "text/plain": [
       "'r e d - g r e e n - b l u e'"
      ]
     },
     "execution_count": 39,
     "metadata": {},
     "output_type": "execute_result"
    }
   ],
   "source": [
    "\" \".join(color)"
   ]
  },
  {
   "cell_type": "code",
   "execution_count": 40,
   "id": "92f5d3e3",
   "metadata": {},
   "outputs": [],
   "source": [
    "test = ('hi', 'hello')"
   ]
  },
  {
   "cell_type": "code",
   "execution_count": 41,
   "id": "13741295",
   "metadata": {},
   "outputs": [
    {
     "data": {
      "text/plain": [
       "'hi hello'"
      ]
     },
     "execution_count": 41,
     "metadata": {},
     "output_type": "execute_result"
    }
   ],
   "source": [
    "\" \".join(test)"
   ]
  },
  {
   "cell_type": "code",
   "execution_count": null,
   "id": "e028b713",
   "metadata": {},
   "outputs": [],
   "source": []
  }
 ],
 "metadata": {
  "kernelspec": {
   "display_name": "Python 3 (ipykernel)",
   "language": "python",
   "name": "python3"
  },
  "language_info": {
   "codemirror_mode": {
    "name": "ipython",
    "version": 3
   },
   "file_extension": ".py",
   "mimetype": "text/x-python",
   "name": "python",
   "nbconvert_exporter": "python",
   "pygments_lexer": "ipython3",
   "version": "3.10.11"
  }
 },
 "nbformat": 4,
 "nbformat_minor": 5
}
