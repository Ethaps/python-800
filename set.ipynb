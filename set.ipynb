{
 "cells": [
  {
   "cell_type": "markdown",
   "id": "5e0ce154",
   "metadata": {},
   "source": [
    "# set\n",
    "* collection of item under one variable name\n",
    "* one of 4 built in data type in python\n",
    "* written inside {} separated by comma\n",
    "* dont allow duplicate\n",
    "* exactly like maths set\n",
    "* allow multiple data type\n",
    "* unordered"
   ]
  },
  {
   "cell_type": "code",
   "execution_count": 1,
   "id": "34c242aa",
   "metadata": {},
   "outputs": [],
   "source": [
    "thakali_set = {'Bhat', 'Achar', 'Tarkari', 'Sag', 'Kakro', 'Gheu', 'Dal', 'Papad'}"
   ]
  },
  {
   "cell_type": "code",
   "execution_count": 2,
   "id": "f2e413b5",
   "metadata": {},
   "outputs": [
    {
     "data": {
      "text/plain": [
       "{'Achar', 'Bhat', 'Dal', 'Gheu', 'Kakro', 'Papad', 'Sag', 'Tarkari'}"
      ]
     },
     "execution_count": 2,
     "metadata": {},
     "output_type": "execute_result"
    }
   ],
   "source": [
    "thakali_set"
   ]
  },
  {
   "cell_type": "code",
   "execution_count": 4,
   "id": "32d17df1",
   "metadata": {},
   "outputs": [
    {
     "ename": "TypeError",
     "evalue": "'set' object is not subscriptable",
     "output_type": "error",
     "traceback": [
      "\u001b[1;31m---------------------------------------------------------------------------\u001b[0m",
      "\u001b[1;31mTypeError\u001b[0m                                 Traceback (most recent call last)",
      "Cell \u001b[1;32mIn[4], line 1\u001b[0m\n\u001b[1;32m----> 1\u001b[0m \u001b[43mthakali_set\u001b[49m\u001b[43m[\u001b[49m\u001b[38;5;241;43m0\u001b[39;49m\u001b[43m]\u001b[49m \u001b[38;5;66;03m# unindexed\u001b[39;00m\n",
      "\u001b[1;31mTypeError\u001b[0m: 'set' object is not subscriptable"
     ]
    }
   ],
   "source": [
    "thakali_set[0] # unindexed"
   ]
  },
  {
   "cell_type": "markdown",
   "id": "24120281",
   "metadata": {},
   "source": [
    "# set is a mutable data type allows us to add and remove items"
   ]
  },
  {
   "cell_type": "code",
   "execution_count": 5,
   "id": "7fc78546",
   "metadata": {},
   "outputs": [],
   "source": [
    "thakali_set = {'Bhat', 'Achar', 'Tarkari', 'Sag', 'Kakro', 'Gheu', 'Dal', 'Papad'}"
   ]
  },
  {
   "cell_type": "code",
   "execution_count": 6,
   "id": "afce610a",
   "metadata": {},
   "outputs": [],
   "source": [
    "thakali_set.add('Dahi')"
   ]
  },
  {
   "cell_type": "code",
   "execution_count": 7,
   "id": "6ea393c2",
   "metadata": {},
   "outputs": [
    {
     "data": {
      "text/plain": [
       "{'Achar', 'Bhat', 'Dahi', 'Dal', 'Gheu', 'Kakro', 'Papad', 'Sag', 'Tarkari'}"
      ]
     },
     "execution_count": 7,
     "metadata": {},
     "output_type": "execute_result"
    }
   ],
   "source": [
    "thakali_set"
   ]
  },
  {
   "cell_type": "code",
   "execution_count": 8,
   "id": "c3d87f3f",
   "metadata": {},
   "outputs": [],
   "source": [
    "thakali_set.remove(\"Sag\")"
   ]
  },
  {
   "cell_type": "code",
   "execution_count": 9,
   "id": "51c67a9c",
   "metadata": {},
   "outputs": [
    {
     "data": {
      "text/plain": [
       "{'Achar', 'Bhat', 'Dahi', 'Dal', 'Gheu', 'Kakro', 'Papad', 'Tarkari'}"
      ]
     },
     "execution_count": 9,
     "metadata": {},
     "output_type": "execute_result"
    }
   ],
   "source": [
    "thakali_set"
   ]
  },
  {
   "cell_type": "code",
   "execution_count": 10,
   "id": "7c28a3c4",
   "metadata": {},
   "outputs": [
    {
     "ename": "KeyError",
     "evalue": "'Paneer'",
     "output_type": "error",
     "traceback": [
      "\u001b[1;31m---------------------------------------------------------------------------\u001b[0m",
      "\u001b[1;31mKeyError\u001b[0m                                  Traceback (most recent call last)",
      "Cell \u001b[1;32mIn[10], line 1\u001b[0m\n\u001b[1;32m----> 1\u001b[0m \u001b[43mthakali_set\u001b[49m\u001b[38;5;241;43m.\u001b[39;49m\u001b[43mremove\u001b[49m\u001b[43m(\u001b[49m\u001b[38;5;124;43m'\u001b[39;49m\u001b[38;5;124;43mPaneer\u001b[39;49m\u001b[38;5;124;43m'\u001b[39;49m\u001b[43m)\u001b[49m\n",
      "\u001b[1;31mKeyError\u001b[0m: 'Paneer'"
     ]
    }
   ],
   "source": [
    "thakali_set.remove('Paneer')"
   ]
  },
  {
   "cell_type": "code",
   "execution_count": 11,
   "id": "6607e6e8",
   "metadata": {},
   "outputs": [],
   "source": [
    "thakali_set.discard('Paneer')"
   ]
  },
  {
   "cell_type": "code",
   "execution_count": 12,
   "id": "2aee1882",
   "metadata": {},
   "outputs": [
    {
     "data": {
      "text/plain": [
       "{'Achar', 'Bhat', 'Dahi', 'Dal', 'Gheu', 'Kakro', 'Papad', 'Tarkari'}"
      ]
     },
     "execution_count": 12,
     "metadata": {},
     "output_type": "execute_result"
    }
   ],
   "source": [
    "thakali_set"
   ]
  },
  {
   "cell_type": "markdown",
   "id": "a3f4732c",
   "metadata": {},
   "source": [
    "# set operation union (), intersection(), difference()"
   ]
  },
  {
   "cell_type": "code",
   "execution_count": 13,
   "id": "61af39b7",
   "metadata": {},
   "outputs": [],
   "source": [
    "A= {'apple','banana','cherry'}\n",
    "B= {'google', 'microsoft', 'apple'}"
   ]
  },
  {
   "cell_type": "code",
   "execution_count": 14,
   "id": "e38d06b6",
   "metadata": {},
   "outputs": [
    {
     "data": {
      "text/plain": [
       "{'apple', 'banana', 'cherry', 'google', 'microsoft'}"
      ]
     },
     "execution_count": 14,
     "metadata": {},
     "output_type": "execute_result"
    }
   ],
   "source": [
    "A.union(B)"
   ]
  },
  {
   "cell_type": "code",
   "execution_count": 15,
   "id": "fe35a7f5",
   "metadata": {},
   "outputs": [
    {
     "data": {
      "text/plain": [
       "{'apple', 'banana', 'cherry', 'google', 'microsoft'}"
      ]
     },
     "execution_count": 15,
     "metadata": {},
     "output_type": "execute_result"
    }
   ],
   "source": [
    "B.union(A)"
   ]
  },
  {
   "cell_type": "code",
   "execution_count": 16,
   "id": "ca9e66cb",
   "metadata": {},
   "outputs": [
    {
     "data": {
      "text/plain": [
       "{'apple'}"
      ]
     },
     "execution_count": 16,
     "metadata": {},
     "output_type": "execute_result"
    }
   ],
   "source": [
    "A.intersection(B)"
   ]
  },
  {
   "cell_type": "code",
   "execution_count": 17,
   "id": "05cce9ea",
   "metadata": {},
   "outputs": [
    {
     "data": {
      "text/plain": [
       "{'apple'}"
      ]
     },
     "execution_count": 17,
     "metadata": {},
     "output_type": "execute_result"
    }
   ],
   "source": [
    "B.intersection(A)"
   ]
  },
  {
   "cell_type": "code",
   "execution_count": 18,
   "id": "b20fe5b2",
   "metadata": {},
   "outputs": [
    {
     "data": {
      "text/plain": [
       "{'banana', 'cherry'}"
      ]
     },
     "execution_count": 18,
     "metadata": {},
     "output_type": "execute_result"
    }
   ],
   "source": [
    "A.difference(B)"
   ]
  },
  {
   "cell_type": "code",
   "execution_count": 19,
   "id": "47bc970a",
   "metadata": {},
   "outputs": [
    {
     "data": {
      "text/plain": [
       "{'banana', 'cherry'}"
      ]
     },
     "execution_count": 19,
     "metadata": {},
     "output_type": "execute_result"
    }
   ],
   "source": [
    "A-B"
   ]
  },
  {
   "cell_type": "code",
   "execution_count": 20,
   "id": "6fe52666",
   "metadata": {},
   "outputs": [
    {
     "data": {
      "text/plain": [
       "{'google', 'microsoft'}"
      ]
     },
     "execution_count": 20,
     "metadata": {},
     "output_type": "execute_result"
    }
   ],
   "source": [
    "B-A"
   ]
  },
  {
   "cell_type": "code",
   "execution_count": 21,
   "id": "b4ae709e",
   "metadata": {},
   "outputs": [
    {
     "name": "stdout",
     "output_type": "stream",
     "text": [
      "Papad\n",
      "Gheu\n",
      "Bhat\n",
      "Dal\n",
      "Achar\n",
      "Sag\n",
      "Kakro\n",
      "Tarkari\n"
     ]
    }
   ],
   "source": [
    "thakali_set = {'Bhat', 'Achar', 'Tarkari', 'Sag', 'Kakro', 'Gheu', 'Dal', 'Papad'}\n",
    "for item in thakali_set:\n",
    "    print(item)"
   ]
  },
  {
   "cell_type": "markdown",
   "id": "d4adbf15",
   "metadata": {},
   "source": [
    "# frozenset\n",
    "* immutable version of python set is frozenset"
   ]
  },
  {
   "cell_type": "code",
   "execution_count": 23,
   "id": "30fd90f4",
   "metadata": {},
   "outputs": [],
   "source": [
    "thakali_set = {'Bhat', 'Achar', 'Tarkari', 'Sag', 'Kakro', 'Gheu', 'Dal', 'Papad'}\n",
    "\n",
    "thakali_set = frozenset(thakali_set)\n"
   ]
  },
  {
   "cell_type": "code",
   "execution_count": 24,
   "id": "967afed5",
   "metadata": {},
   "outputs": [
    {
     "data": {
      "text/plain": [
       "frozenset"
      ]
     },
     "execution_count": 24,
     "metadata": {},
     "output_type": "execute_result"
    }
   ],
   "source": [
    "type(thakali_set)"
   ]
  },
  {
   "cell_type": "code",
   "execution_count": 25,
   "id": "1b8a8fdc",
   "metadata": {},
   "outputs": [
    {
     "ename": "AttributeError",
     "evalue": "'frozenset' object has no attribute 'add'",
     "output_type": "error",
     "traceback": [
      "\u001b[1;31m---------------------------------------------------------------------------\u001b[0m",
      "\u001b[1;31mAttributeError\u001b[0m                            Traceback (most recent call last)",
      "Cell \u001b[1;32mIn[25], line 1\u001b[0m\n\u001b[1;32m----> 1\u001b[0m \u001b[43mthakali_set\u001b[49m\u001b[38;5;241;43m.\u001b[39;49m\u001b[43madd\u001b[49m(\u001b[38;5;124m\"\u001b[39m\u001b[38;5;124mDahi\u001b[39m\u001b[38;5;124m\"\u001b[39m)\n",
      "\u001b[1;31mAttributeError\u001b[0m: 'frozenset' object has no attribute 'add'"
     ]
    }
   ],
   "source": [
    "thakali_set.add(\"Dahi\")"
   ]
  },
  {
   "cell_type": "code",
   "execution_count": null,
   "id": "bf330127",
   "metadata": {},
   "outputs": [],
   "source": []
  }
 ],
 "metadata": {
  "kernelspec": {
   "display_name": "Python 3 (ipykernel)",
   "language": "python",
   "name": "python3"
  },
  "language_info": {
   "codemirror_mode": {
    "name": "ipython",
    "version": 3
   },
   "file_extension": ".py",
   "mimetype": "text/x-python",
   "name": "python",
   "nbconvert_exporter": "python",
   "pygments_lexer": "ipython3",
   "version": "3.10.11"
  }
 },
 "nbformat": 4,
 "nbformat_minor": 5
}
