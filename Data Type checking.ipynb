{
 "cells": [
  {
   "cell_type": "code",
   "execution_count": 1,
   "id": "1c2d2faf",
   "metadata": {},
   "outputs": [],
   "source": [
    "a, b, c= 2, 0.3, 0.5+0.1j"
   ]
  },
  {
   "cell_type": "code",
   "execution_count": 2,
   "id": "57ce111e",
   "metadata": {},
   "outputs": [
    {
     "data": {
      "text/plain": [
       "int"
      ]
     },
     "execution_count": 2,
     "metadata": {},
     "output_type": "execute_result"
    }
   ],
   "source": [
    "type (a)"
   ]
  },
  {
   "cell_type": "code",
   "execution_count": 3,
   "id": "bcc303e4",
   "metadata": {},
   "outputs": [
    {
     "data": {
      "text/plain": [
       "float"
      ]
     },
     "execution_count": 3,
     "metadata": {},
     "output_type": "execute_result"
    }
   ],
   "source": [
    "type (b)"
   ]
  },
  {
   "cell_type": "code",
   "execution_count": 4,
   "id": "2b4ecf9f",
   "metadata": {},
   "outputs": [
    {
     "data": {
      "text/plain": [
       "complex"
      ]
     },
     "execution_count": 4,
     "metadata": {},
     "output_type": "execute_result"
    }
   ],
   "source": [
    "type (c)"
   ]
  },
  {
   "cell_type": "code",
   "execution_count": 5,
   "id": "b6d86250",
   "metadata": {},
   "outputs": [
    {
     "data": {
      "text/plain": [
       "str"
      ]
     },
     "execution_count": 5,
     "metadata": {},
     "output_type": "execute_result"
    }
   ],
   "source": [
    "name = \"Ram\"\n",
    "type (name)"
   ]
  },
  {
   "cell_type": "code",
   "execution_count": 9,
   "id": "dcf45dec",
   "metadata": {},
   "outputs": [
    {
     "data": {
      "text/plain": [
       "True"
      ]
     },
     "execution_count": 9,
     "metadata": {},
     "output_type": "execute_result"
    }
   ],
   "source": [
    "isinstance(name, str) #data type validation"
   ]
  },
  {
   "cell_type": "code",
   "execution_count": 7,
   "id": "830ad364",
   "metadata": {},
   "outputs": [
    {
     "data": {
      "text/plain": [
       "False"
      ]
     },
     "execution_count": 7,
     "metadata": {},
     "output_type": "execute_result"
    }
   ],
   "source": [
    "isinstance(name, float)"
   ]
  },
  {
   "cell_type": "code",
   "execution_count": 11,
   "id": "158a645f",
   "metadata": {},
   "outputs": [],
   "source": [
    "# True and flase are booleans in python"
   ]
  },
  {
   "cell_type": "markdown",
   "id": "293e6975",
   "metadata": {},
   "source": [
    "# Data types in Python\n",
    "\n",
    "* Python numbers: int, float, complex\n",
    "* Python Strings\n",
    "* Python List\n",
    "* Python Tuple\n",
    "* Python set\n",
    "* Python Dictionary\n"
   ]
  },
  {
   "cell_type": "code",
   "execution_count": null,
   "id": "bbec853f",
   "metadata": {},
   "outputs": [],
   "source": []
  }
 ],
 "metadata": {
  "kernelspec": {
   "display_name": "Python 3 (ipykernel)",
   "language": "python",
   "name": "python3"
  },
  "language_info": {
   "codemirror_mode": {
    "name": "ipython",
    "version": 3
   },
   "file_extension": ".py",
   "mimetype": "text/x-python",
   "name": "python",
   "nbconvert_exporter": "python",
   "pygments_lexer": "ipython3",
   "version": "3.10.11"
  }
 },
 "nbformat": 4,
 "nbformat_minor": 5
}
