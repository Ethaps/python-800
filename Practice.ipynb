{
 "cells": [
  {
   "cell_type": "code",
   "execution_count": null,
   "id": "f2de79f7",
   "metadata": {},
   "outputs": [],
   "source": [
    "2+2"
   ]
  },
  {
   "cell_type": "markdown",
   "id": "b040ec83",
   "metadata": {},
   "source": [
    "text"
   ]
  },
  {
   "cell_type": "markdown",
   "id": "4d92ec03",
   "metadata": {},
   "source": [
    "This is a markdown cell. Documentation/ explanation of codes are written here"
   ]
  },
  {
   "cell_type": "markdown",
   "id": "e95d7495",
   "metadata": {},
   "source": [
    "# Hash in the front creates this type of headline"
   ]
  },
  {
   "cell_type": "markdown",
   "id": "9a63f8c4",
   "metadata": {},
   "source": [
    "* star and space for bullet points"
   ]
  },
  {
   "cell_type": "code",
   "execution_count": 2,
   "id": "e2be013c",
   "metadata": {},
   "outputs": [
    {
     "name": "stdout",
     "output_type": "stream",
     "text": [
      "Hello world!\n"
     ]
    }
   ],
   "source": [
    "print ('Hello world!')# string or text is written inside quotes"
   ]
  },
  {
   "cell_type": "code",
   "execution_count": null,
   "id": "03181415",
   "metadata": {},
   "outputs": [],
   "source": []
  }
 ],
 "metadata": {
  "kernelspec": {
   "display_name": "Python 3 (ipykernel)",
   "language": "python",
   "name": "python3"
  },
  "language_info": {
   "codemirror_mode": {
    "name": "ipython",
    "version": 3
   },
   "file_extension": ".py",
   "mimetype": "text/x-python",
   "name": "python",
   "nbconvert_exporter": "python",
   "pygments_lexer": "ipython3",
   "version": "3.10.11"
  }
 },
 "nbformat": 4,
 "nbformat_minor": 5
}
