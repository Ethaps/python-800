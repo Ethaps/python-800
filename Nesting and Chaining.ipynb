{
 "cells": [
  {
   "cell_type": "markdown",
   "id": "3ba7922f",
   "metadata": {},
   "source": [
    "# What if I want to check multiple Expression? - Nesting and chaining of conditionals"
   ]
  },
  {
   "cell_type": "code",
   "execution_count": 1,
   "id": "036cddbb",
   "metadata": {},
   "outputs": [
    {
     "name": "stdout",
     "output_type": "stream",
     "text": [
      "Positive\n"
     ]
    }
   ],
   "source": [
    "number = 5\n",
    "if number < 0:\n",
    "    print (\"Negative\")\n",
    "    \n",
    "if number == 0:\n",
    "    print (\"Neutral\")\n",
    "    \n",
    "if number > 0:\n",
    "    print (\"Positive\")"
   ]
  },
  {
   "cell_type": "code",
   "execution_count": 4,
   "id": "f0f751d3",
   "metadata": {},
   "outputs": [
    {
     "name": "stdout",
     "output_type": "stream",
     "text": [
      "Positive\n"
     ]
    }
   ],
   "source": [
    "# nesting of conditional: if else inside if else\n",
    "number = 5\n",
    "if number < 0:\n",
    "    print (\"Negative\")\n",
    "else:\n",
    "    if number == 0:\n",
    "        print (\"Neutral\")\n",
    "    else:\n",
    "        print (\"Positive\")"
   ]
  },
  {
   "cell_type": "code",
   "execution_count": 5,
   "id": "29e1826d",
   "metadata": {},
   "outputs": [
    {
     "name": "stdout",
     "output_type": "stream",
     "text": [
      "positive\n"
     ]
    }
   ],
   "source": [
    "# Chaining\n",
    "number = 5\n",
    "if number<0:\n",
    "    print (\"negative\")\n",
    "\n",
    "elif number == 0:\n",
    "    print (\"neutral\")\n",
    "    \n",
    "else:\n",
    "    print (\"positive\")\n",
    "\n",
    "    "
   ]
  },
  {
   "cell_type": "code",
   "execution_count": 7,
   "id": "6ed4dff2",
   "metadata": {},
   "outputs": [
    {
     "name": "stdout",
     "output_type": "stream",
     "text": [
      "neutral\n"
     ]
    }
   ],
   "source": [
    "# Chaining\n",
    "number = 0\n",
    "if number<0:\n",
    "    print (\"negative\")\n",
    "\n",
    "elif number == 0:\n",
    "    print (\"neutral\")\n",
    "    \n",
    "elif number == 0:\n",
    "    pritn (\"another elif neutral wont run\")\n",
    "    \n",
    "else:\n",
    "    print (\"positive\")\n"
   ]
  },
  {
   "cell_type": "code",
   "execution_count": null,
   "id": "11988d98",
   "metadata": {},
   "outputs": [],
   "source": []
  }
 ],
 "metadata": {
  "kernelspec": {
   "display_name": "Python 3 (ipykernel)",
   "language": "python",
   "name": "python3"
  },
  "language_info": {
   "codemirror_mode": {
    "name": "ipython",
    "version": 3
   },
   "file_extension": ".py",
   "mimetype": "text/x-python",
   "name": "python",
   "nbconvert_exporter": "python",
   "pygments_lexer": "ipython3",
   "version": "3.10.11"
  }
 },
 "nbformat": 4,
 "nbformat_minor": 5
}
