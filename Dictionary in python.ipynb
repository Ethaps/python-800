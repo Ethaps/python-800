{
 "cells": [
  {
   "cell_type": "markdown",
   "id": "00db895d",
   "metadata": {},
   "source": [
    "# Dictionary\n",
    "\n",
    "* mapping data type\n",
    "* key: value pair\n",
    "* written in `{}` each `key:value` is separated by comma\n",
    "* Keys cannot be duplicate"
   ]
  },
  {
   "cell_type": "code",
   "execution_count": 1,
   "id": "cb2456f0",
   "metadata": {},
   "outputs": [],
   "source": [
    "# eg creating empty dictionary "
   ]
  },
  {
   "cell_type": "code",
   "execution_count": 2,
   "id": "8ef2fb83",
   "metadata": {},
   "outputs": [],
   "source": [
    "about = {}"
   ]
  },
  {
   "cell_type": "code",
   "execution_count": 3,
   "id": "94eba167",
   "metadata": {},
   "outputs": [
    {
     "data": {
      "text/plain": [
       "dict"
      ]
     },
     "execution_count": 3,
     "metadata": {},
     "output_type": "execute_result"
    }
   ],
   "source": [
    "type(about)"
   ]
  },
  {
   "cell_type": "code",
   "execution_count": 4,
   "id": "6a3c5067",
   "metadata": {},
   "outputs": [
    {
     "data": {
      "text/plain": [
       "dict"
      ]
     },
     "execution_count": 4,
     "metadata": {},
     "output_type": "execute_result"
    }
   ],
   "source": [
    "about = dict()\n",
    "type(about)"
   ]
  },
  {
   "cell_type": "markdown",
   "id": "0257e81f",
   "metadata": {},
   "source": [
    "# examples"
   ]
  },
  {
   "cell_type": "code",
   "execution_count": 5,
   "id": "fe679e14",
   "metadata": {},
   "outputs": [],
   "source": [
    "a = {1:'Ayush', 2: 'Bibek', 3:'Champa'} # int can be keys"
   ]
  },
  {
   "cell_type": "code",
   "execution_count": 6,
   "id": "816a7d8a",
   "metadata": {},
   "outputs": [
    {
     "data": {
      "text/plain": [
       "{1: 'Ayush', 2: 'Bibek', 3: 'Champa'}"
      ]
     },
     "execution_count": 6,
     "metadata": {},
     "output_type": "execute_result"
    }
   ],
   "source": [
    "a"
   ]
  },
  {
   "cell_type": "code",
   "execution_count": 7,
   "id": "f49017d7",
   "metadata": {},
   "outputs": [],
   "source": [
    "student = {\n",
    "    'name':['Bikash', 'Pranil', 'Nabin']  \n",
    "}  #string can be keys "
   ]
  },
  {
   "cell_type": "code",
   "execution_count": 8,
   "id": "126c566c",
   "metadata": {},
   "outputs": [
    {
     "data": {
      "text/plain": [
       "{'name': ['Bikash', 'Pranil', 'Nabin']}"
      ]
     },
     "execution_count": 8,
     "metadata": {},
     "output_type": "execute_result"
    }
   ],
   "source": [
    "student"
   ]
  },
  {
   "cell_type": "code",
   "execution_count": 9,
   "id": "7aea7578",
   "metadata": {},
   "outputs": [
    {
     "data": {
      "text/plain": [
       "{1.2: 88}"
      ]
     },
     "execution_count": 9,
     "metadata": {},
     "output_type": "execute_result"
    }
   ],
   "source": [
    "{1.2:88} # float can be keys"
   ]
  },
  {
   "cell_type": "code",
   "execution_count": 10,
   "id": "22d642c1",
   "metadata": {},
   "outputs": [],
   "source": [
    "# tuple, list set cannot be keys"
   ]
  },
  {
   "cell_type": "markdown",
   "id": "c24bc856",
   "metadata": {},
   "source": [
    "# adding key value pair in dictionary"
   ]
  },
  {
   "cell_type": "code",
   "execution_count": 11,
   "id": "1d15144a",
   "metadata": {},
   "outputs": [
    {
     "data": {
      "text/plain": [
       "{'name': 'kshitiz'}"
      ]
     },
     "execution_count": 11,
     "metadata": {},
     "output_type": "execute_result"
    }
   ],
   "source": [
    "about = {'name': 'kshitiz'}\n",
    "about"
   ]
  },
  {
   "cell_type": "code",
   "execution_count": 12,
   "id": "55e14f09",
   "metadata": {},
   "outputs": [],
   "source": [
    "# first method"
   ]
  },
  {
   "cell_type": "code",
   "execution_count": 13,
   "id": "43a021c7",
   "metadata": {},
   "outputs": [],
   "source": [
    "about['teaches']= ['Python', 'AI', 'Data Science']"
   ]
  },
  {
   "cell_type": "code",
   "execution_count": 14,
   "id": "26ef809d",
   "metadata": {},
   "outputs": [
    {
     "data": {
      "text/plain": [
       "{'name': 'kshitiz', 'teaches': ['Python', 'AI', 'Data Science']}"
      ]
     },
     "execution_count": 14,
     "metadata": {},
     "output_type": "execute_result"
    }
   ],
   "source": [
    "about"
   ]
  },
  {
   "cell_type": "code",
   "execution_count": 15,
   "id": "27b3a7e2",
   "metadata": {},
   "outputs": [],
   "source": [
    "about.update({\"works at\": 'Broadway'}) # update() vitra dictionary pass garnu parcha"
   ]
  },
  {
   "cell_type": "code",
   "execution_count": 16,
   "id": "bc8f029d",
   "metadata": {},
   "outputs": [
    {
     "data": {
      "text/plain": [
       "{'name': 'kshitiz',\n",
       " 'teaches': ['Python', 'AI', 'Data Science'],\n",
       " 'works at': 'Broadway'}"
      ]
     },
     "execution_count": 16,
     "metadata": {},
     "output_type": "execute_result"
    }
   ],
   "source": [
    "about"
   ]
  },
  {
   "cell_type": "markdown",
   "id": "2e8e00eb",
   "metadata": {},
   "source": [
    "# user input classwork"
   ]
  },
  {
   "cell_type": "code",
   "execution_count": 20,
   "id": "5ff8ed10",
   "metadata": {},
   "outputs": [
    {
     "name": "stdout",
     "output_type": "stream",
     "text": [
      "enter a coutrya\n",
      "enter its capitalb\n",
      "enter a coutryc\n",
      "enter its capitald\n",
      "enter a coutrye\n",
      "enter its capitalf\n",
      "{'e': 'f'}\n"
     ]
    }
   ],
   "source": [
    "for index in (1,1,3):\n",
    "    country= input ('enter a coutry')\n",
    "    capital= input ('enter its capital')\n",
    "    \n",
    "    output = {country:capital}\n",
    "    \n",
    "    output.update({country:capital})\n",
    "\n",
    "print (output) #\n",
    "    "
   ]
  },
  {
   "cell_type": "code",
   "execution_count": 24,
   "id": "4e55b942",
   "metadata": {},
   "outputs": [
    {
     "name": "stdout",
     "output_type": "stream",
     "text": [
      "Enter a country name: Nepal\n",
      "Enter capital city: Ktm\n",
      "Enter a country name: India\n",
      "Enter capital city: Delhi\n",
      "Enter a country name: Bhutan\n",
      "Enter capital city: Thimpu\n"
     ]
    },
    {
     "data": {
      "text/plain": [
       "{'Nepal': 'Ktm', 'India': 'Delhi', 'Bhutan': 'Thimpu'}"
      ]
     },
     "execution_count": 24,
     "metadata": {},
     "output_type": "execute_result"
    }
   ],
   "source": [
    "cc={}\n",
    "\n",
    "for index in range(3):\n",
    "    country = input ('Enter a country name: ')\n",
    "    capital= input (\"Enter capital city: \")\n",
    "    cc.update({country:capital})\n",
    "cc"
   ]
  },
  {
   "cell_type": "code",
   "execution_count": 31,
   "id": "1ca50352",
   "metadata": {},
   "outputs": [],
   "source": [
    "# if key of dictionary already exists, updates the value of existing key"
   ]
  },
  {
   "cell_type": "code",
   "execution_count": 26,
   "id": "f0650816",
   "metadata": {},
   "outputs": [],
   "source": [
    "d= {'Netflix': 5000000}"
   ]
  },
  {
   "cell_type": "code",
   "execution_count": 27,
   "id": "23637633",
   "metadata": {},
   "outputs": [
    {
     "data": {
      "text/plain": [
       "{'Netflix': 5000000}"
      ]
     },
     "execution_count": 27,
     "metadata": {},
     "output_type": "execute_result"
    }
   ],
   "source": [
    "d"
   ]
  },
  {
   "cell_type": "code",
   "execution_count": 29,
   "id": "31434adb",
   "metadata": {},
   "outputs": [],
   "source": [
    "d.update({'Netflix':200})"
   ]
  },
  {
   "cell_type": "code",
   "execution_count": 30,
   "id": "897de358",
   "metadata": {},
   "outputs": [
    {
     "data": {
      "text/plain": [
       "{'Netflix': 200}"
      ]
     },
     "execution_count": 30,
     "metadata": {},
     "output_type": "execute_result"
    }
   ],
   "source": [
    "d"
   ]
  },
  {
   "cell_type": "code",
   "execution_count": 32,
   "id": "14312cac",
   "metadata": {},
   "outputs": [],
   "source": [
    "# update le key exist gardaina bhaney naya key:value pair halcha\n",
    "# if exist garcha bhaney value update garcha"
   ]
  },
  {
   "cell_type": "code",
   "execution_count": 33,
   "id": "c81a9001",
   "metadata": {},
   "outputs": [],
   "source": [
    "d= {'Netflix': 5000000}\n",
    "d['Netflix']= 600 #key already exist garcha so value change huncha"
   ]
  },
  {
   "cell_type": "markdown",
   "id": "ee82f95e",
   "metadata": {},
   "source": [
    "# accessing value of a key in a dictionary"
   ]
  },
  {
   "cell_type": "code",
   "execution_count": 37,
   "id": "ee403227",
   "metadata": {},
   "outputs": [],
   "source": [
    "about= {\n",
    "    'Name': 'Kshitiz',\n",
    "    'works_at': 'Broadway',\n",
    "    'age': 26,\n",
    "    'teaches': ['python', 'AI', 'ML']\n",
    "}"
   ]
  },
  {
   "cell_type": "code",
   "execution_count": 38,
   "id": "a4f4da11",
   "metadata": {},
   "outputs": [
    {
     "data": {
      "text/plain": [
       "{'Name': 'Kshitiz',\n",
       " 'works_at': 'Broadway',\n",
       " 'age': 26,\n",
       " 'teaches': ['python', 'AI', 'ML']}"
      ]
     },
     "execution_count": 38,
     "metadata": {},
     "output_type": "execute_result"
    }
   ],
   "source": [
    "about"
   ]
  },
  {
   "cell_type": "code",
   "execution_count": 39,
   "id": "5612dccd",
   "metadata": {},
   "outputs": [
    {
     "data": {
      "text/plain": [
       "'Broadway'"
      ]
     },
     "execution_count": 39,
     "metadata": {},
     "output_type": "execute_result"
    }
   ],
   "source": [
    "about['works_at'] # one method"
   ]
  },
  {
   "cell_type": "code",
   "execution_count": 40,
   "id": "0f46f47c",
   "metadata": {},
   "outputs": [
    {
     "data": {
      "text/plain": [
       "'Broadway'"
      ]
     },
     "execution_count": 40,
     "metadata": {},
     "output_type": "execute_result"
    }
   ],
   "source": [
    "about.get('works_at') # other method"
   ]
  },
  {
   "cell_type": "code",
   "execution_count": 41,
   "id": "aaa5d104",
   "metadata": {},
   "outputs": [
    {
     "ename": "KeyError",
     "evalue": "'gender'",
     "output_type": "error",
     "traceback": [
      "\u001b[1;31m---------------------------------------------------------------------------\u001b[0m",
      "\u001b[1;31mKeyError\u001b[0m                                  Traceback (most recent call last)",
      "Cell \u001b[1;32mIn[41], line 1\u001b[0m\n\u001b[1;32m----> 1\u001b[0m \u001b[43mabout\u001b[49m\u001b[43m[\u001b[49m\u001b[38;5;124;43m'\u001b[39;49m\u001b[38;5;124;43mgender\u001b[39;49m\u001b[38;5;124;43m'\u001b[39;49m\u001b[43m]\u001b[49m \u001b[38;5;66;03m# navako key khojera paidaina\u001b[39;00m\n",
      "\u001b[1;31mKeyError\u001b[0m: 'gender'"
     ]
    }
   ],
   "source": [
    "about['gender'] # navako key khojera paidaina"
   ]
  },
  {
   "cell_type": "code",
   "execution_count": 44,
   "id": "dc49079b",
   "metadata": {},
   "outputs": [
    {
     "data": {
      "text/plain": [
       "'Not found'"
      ]
     },
     "execution_count": 44,
     "metadata": {},
     "output_type": "execute_result"
    }
   ],
   "source": [
    "about.get('gender', 'Not found') # if gender key exist gardaina bhaney 'Not Found' print garney"
   ]
  },
  {
   "cell_type": "code",
   "execution_count": 45,
   "id": "ab418724",
   "metadata": {},
   "outputs": [],
   "source": [
    "about.get('gender', None) # default ma None huncha"
   ]
  },
  {
   "cell_type": "markdown",
   "id": "4553ca03",
   "metadata": {},
   "source": [
    "# .keys() and .values() method"
   ]
  },
  {
   "cell_type": "code",
   "execution_count": 46,
   "id": "4b67218a",
   "metadata": {},
   "outputs": [],
   "source": [
    "about= {\n",
    "    'Name': 'Kshitiz',\n",
    "    'works_at': 'Broadway',\n",
    "    'age': 26,\n",
    "    'teaches': ['python', 'AI', 'ML']\n",
    "}"
   ]
  },
  {
   "cell_type": "code",
   "execution_count": 47,
   "id": "92d7a42c",
   "metadata": {},
   "outputs": [
    {
     "data": {
      "text/plain": [
       "dict_keys(['Name', 'works_at', 'age', 'teaches'])"
      ]
     },
     "execution_count": 47,
     "metadata": {},
     "output_type": "execute_result"
    }
   ],
   "source": [
    "about.keys()"
   ]
  },
  {
   "cell_type": "code",
   "execution_count": 48,
   "id": "c6fa33d4",
   "metadata": {},
   "outputs": [
    {
     "data": {
      "text/plain": [
       "dict_values(['Kshitiz', 'Broadway', 26, ['python', 'AI', 'ML']])"
      ]
     },
     "execution_count": 48,
     "metadata": {},
     "output_type": "execute_result"
    }
   ],
   "source": [
    "about.values()"
   ]
  },
  {
   "cell_type": "code",
   "execution_count": 49,
   "id": "dc85610c",
   "metadata": {},
   "outputs": [
    {
     "data": {
      "text/plain": [
       "dict_items([('Name', 'Kshitiz'), ('works_at', 'Broadway'), ('age', 26), ('teaches', ['python', 'AI', 'ML'])])"
      ]
     },
     "execution_count": 49,
     "metadata": {},
     "output_type": "execute_result"
    }
   ],
   "source": [
    "about.items()"
   ]
  },
  {
   "cell_type": "code",
   "execution_count": 51,
   "id": "4f004fff",
   "metadata": {},
   "outputs": [
    {
     "name": "stdout",
     "output_type": "stream",
     "text": [
      "('Name', 'Kshitiz')\n",
      "('works_at', 'Broadway')\n",
      "('age', 26)\n",
      "('teaches', ['python', 'AI', 'ML'])\n"
     ]
    }
   ],
   "source": [
    "for item in about.items():\n",
    "    print(item)"
   ]
  },
  {
   "cell_type": "code",
   "execution_count": 52,
   "id": "04bafe8e",
   "metadata": {},
   "outputs": [
    {
     "name": "stdout",
     "output_type": "stream",
     "text": [
      "Kshitiz\n",
      "Broadway\n",
      "26\n",
      "['python', 'AI', 'ML']\n"
     ]
    }
   ],
   "source": [
    "for key, val in about.items():\n",
    "    print(val)"
   ]
  },
  {
   "cell_type": "code",
   "execution_count": 55,
   "id": "6a2cee97",
   "metadata": {},
   "outputs": [
    {
     "name": "stdout",
     "output_type": "stream",
     "text": [
      "The key is name an the value is kshitiz\n",
      "The key is works_at an the value is Broadway\n",
      "The key is age an the value is 26\n",
      "The key is teaches an the value is ['Python', 'AI', 'ML']\n"
     ]
    }
   ],
   "source": [
    "about= {\n",
    "    'name':'kshitiz',\n",
    "    'works_at': 'Broadway',\n",
    "    'age': 26,\n",
    "    'teaches': ['Python', 'AI', 'ML']\n",
    "    \n",
    "}\n",
    "\n",
    "for key, val in about.items():\n",
    "    print(f'The key is {key} an the value is {val}')"
   ]
  },
  {
   "cell_type": "markdown",
   "id": "b388d3c1",
   "metadata": {},
   "source": [
    "# Dictionary comprehension\n",
    "\n",
    "* swap key value pair of dictionary"
   ]
  },
  {
   "cell_type": "code",
   "execution_count": 56,
   "id": "c5c79a25",
   "metadata": {},
   "outputs": [],
   "source": [
    "d= {1: 'one', 5: 'five', 10: 'ten'}"
   ]
  },
  {
   "cell_type": "code",
   "execution_count": 57,
   "id": "57cdafd6",
   "metadata": {},
   "outputs": [
    {
     "data": {
      "text/plain": [
       "{'one': 1, 'five': 5, 'ten': 10}"
      ]
     },
     "execution_count": 57,
     "metadata": {},
     "output_type": "execute_result"
    }
   ],
   "source": [
    "{val:key for key,val in d.items()}"
   ]
  },
  {
   "cell_type": "markdown",
   "id": "f763042e",
   "metadata": {},
   "source": [
    "# zip()"
   ]
  },
  {
   "cell_type": "code",
   "execution_count": 58,
   "id": "64df7bb2",
   "metadata": {},
   "outputs": [],
   "source": [
    "country = ['Nepal', 'India', 'Bhutan']\n",
    "capital = ['kathmandu', 'New Delhi', 'Thimpu']"
   ]
  },
  {
   "cell_type": "code",
   "execution_count": 59,
   "id": "3cb916e8",
   "metadata": {},
   "outputs": [
    {
     "data": {
      "text/plain": [
       "<zip at 0x1fc682f3140>"
      ]
     },
     "execution_count": 59,
     "metadata": {},
     "output_type": "execute_result"
    }
   ],
   "source": [
    "zip(country, capital)"
   ]
  },
  {
   "cell_type": "code",
   "execution_count": 60,
   "id": "109d908f",
   "metadata": {},
   "outputs": [
    {
     "data": {
      "text/plain": [
       "{'Nepal': 'kathmandu', 'India': 'New Delhi', 'Bhutan': 'Thimpu'}"
      ]
     },
     "execution_count": 60,
     "metadata": {},
     "output_type": "execute_result"
    }
   ],
   "source": [
    "dict(zip(country, capital))"
   ]
  },
  {
   "cell_type": "markdown",
   "id": "5516e6c7",
   "metadata": {},
   "source": [
    "# Nested dictionary"
   ]
  },
  {
   "cell_type": "code",
   "execution_count": 64,
   "id": "5bc120ac",
   "metadata": {},
   "outputs": [],
   "source": [
    "child = {\n",
    "    'child1': {'name':'Roman', 'age':28},\n",
    "    'child2': {'name':'Champa','gender':'F'}\n",
    "}"
   ]
  },
  {
   "cell_type": "code",
   "execution_count": 69,
   "id": "17e567e5",
   "metadata": {},
   "outputs": [
    {
     "data": {
      "text/plain": [
       "{'name': 'Champa', 'gender': 'F'}"
      ]
     },
     "execution_count": 69,
     "metadata": {},
     "output_type": "execute_result"
    }
   ],
   "source": [
    "child['child2']"
   ]
  },
  {
   "cell_type": "code",
   "execution_count": 70,
   "id": "7129dde6",
   "metadata": {},
   "outputs": [
    {
     "data": {
      "text/plain": [
       "'Champa'"
      ]
     },
     "execution_count": 70,
     "metadata": {},
     "output_type": "execute_result"
    }
   ],
   "source": [
    "child['child2']['name']"
   ]
  },
  {
   "cell_type": "code",
   "execution_count": 73,
   "id": "c454fd38",
   "metadata": {},
   "outputs": [
    {
     "data": {
      "text/plain": [
       "28"
      ]
     },
     "execution_count": 73,
     "metadata": {},
     "output_type": "execute_result"
    }
   ],
   "source": [
    "child['child1']['age']"
   ]
  },
  {
   "cell_type": "markdown",
   "id": "0d788552",
   "metadata": {},
   "source": [
    "# list of dictionary"
   ]
  },
  {
   "cell_type": "code",
   "execution_count": 75,
   "id": "85e018ed",
   "metadata": {},
   "outputs": [],
   "source": [
    "data=[{'name':'ram', 'sem':8}, {'name':'shyam', 'sem':4}]"
   ]
  },
  {
   "cell_type": "code",
   "execution_count": 76,
   "id": "b70aec6b",
   "metadata": {},
   "outputs": [
    {
     "data": {
      "text/plain": [
       "[{'name': 'ram', 'sem': 8}, {'name': 'shyam', 'sem': 4}]"
      ]
     },
     "execution_count": 76,
     "metadata": {},
     "output_type": "execute_result"
    }
   ],
   "source": [
    "data"
   ]
  },
  {
   "cell_type": "code",
   "execution_count": 79,
   "id": "fd46e643",
   "metadata": {},
   "outputs": [
    {
     "name": "stdout",
     "output_type": "stream",
     "text": [
      "ram\n",
      "shyam\n"
     ]
    }
   ],
   "source": [
    "for item in data:# item vanya dictionary ho\n",
    "    print(item['name'])"
   ]
  },
  {
   "cell_type": "code",
   "execution_count": 78,
   "id": "b0f5c8b1",
   "metadata": {},
   "outputs": [
    {
     "name": "stdout",
     "output_type": "stream",
     "text": [
      "8\n",
      "4\n"
     ]
    }
   ],
   "source": [
    "for item in data: # item vanya dictionary ho\n",
    "    print(item['sem'])"
   ]
  },
  {
   "cell_type": "code",
   "execution_count": null,
   "id": "c64aa59e",
   "metadata": {},
   "outputs": [],
   "source": []
  }
 ],
 "metadata": {
  "kernelspec": {
   "display_name": "Python 3 (ipykernel)",
   "language": "python",
   "name": "python3"
  },
  "language_info": {
   "codemirror_mode": {
    "name": "ipython",
    "version": 3
   },
   "file_extension": ".py",
   "mimetype": "text/x-python",
   "name": "python",
   "nbconvert_exporter": "python",
   "pygments_lexer": "ipython3",
   "version": "3.10.11"
  }
 },
 "nbformat": 4,
 "nbformat_minor": 5
}
