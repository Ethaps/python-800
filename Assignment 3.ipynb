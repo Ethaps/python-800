{
 "cells": [
  {
   "cell_type": "code",
   "execution_count": 3,
   "id": "216315dc",
   "metadata": {},
   "outputs": [
    {
     "name": "stdout",
     "output_type": "stream",
     "text": [
      "enter a number: 8\n",
      "bye\n"
     ]
    }
   ],
   "source": [
    "num= int(input(\"enter a number: \"))\n",
    "a= num % 5\n",
    "if a==0:\n",
    "    print (\"helllo\")\n",
    "else:\n",
    "    print (\"bye\")"
   ]
  },
  {
   "cell_type": "code",
   "execution_count": null,
   "id": "7a4f5a14",
   "metadata": {},
   "outputs": [],
   "source": []
  }
 ],
 "metadata": {
  "kernelspec": {
   "display_name": "Python 3 (ipykernel)",
   "language": "python",
   "name": "python3"
  },
  "language_info": {
   "codemirror_mode": {
    "name": "ipython",
    "version": 3
   },
   "file_extension": ".py",
   "mimetype": "text/x-python",
   "name": "python",
   "nbconvert_exporter": "python",
   "pygments_lexer": "ipython3",
   "version": "3.10.11"
  }
 },
 "nbformat": 4,
 "nbformat_minor": 5
}
