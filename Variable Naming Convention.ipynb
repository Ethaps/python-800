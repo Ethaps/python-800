{
 "cells": [
  {
   "cell_type": "code",
   "execution_count": 1,
   "id": "9e12a00a",
   "metadata": {},
   "outputs": [
    {
     "name": "stdout",
     "output_type": "stream",
     "text": [
      "5\n"
     ]
    }
   ],
   "source": [
    "a = 5\n",
    "print (a)"
   ]
  },
  {
   "cell_type": "markdown",
   "id": "f57ee511",
   "metadata": {},
   "source": [
    "# Variable naming convention"
   ]
  },
  {
   "cell_type": "code",
   "execution_count": 2,
   "id": "2233af16",
   "metadata": {},
   "outputs": [],
   "source": [
    "a= 20"
   ]
  },
  {
   "cell_type": "code",
   "execution_count": 3,
   "id": "e13e4011",
   "metadata": {},
   "outputs": [
    {
     "ename": "SyntaxError",
     "evalue": "cannot assign to literal here. Maybe you meant '==' instead of '='? (1283333274.py, line 1)",
     "output_type": "error",
     "traceback": [
      "\u001b[1;36m  Cell \u001b[1;32mIn[3], line 1\u001b[1;36m\u001b[0m\n\u001b[1;33m    20 = p\u001b[0m\n\u001b[1;37m    ^\u001b[0m\n\u001b[1;31mSyntaxError\u001b[0m\u001b[1;31m:\u001b[0m cannot assign to literal here. Maybe you meant '==' instead of '='?\n"
     ]
    }
   ],
   "source": [
    "20 = p"
   ]
  },
  {
   "cell_type": "markdown",
   "id": "1b9419d6",
   "metadata": {},
   "source": [
    "# Python keywords cannot be varialbe name\n",
    "\n",
    "* Keywords are the reserved words in Python\n",
    "* We cannot use a keyword as a variable name, function name or any other identifier\n",
    "* They are used to define the syntax and structure of the Python language\n",
    "* In Python, keywords are case sensitive"
   ]
  },
  {
   "cell_type": "code",
   "execution_count": 4,
   "id": "b77df780",
   "metadata": {},
   "outputs": [
    {
     "name": "stdout",
     "output_type": "stream",
     "text": [
      "\n",
      "Here is a list of the Python keywords.  Enter any keyword to get more help.\n",
      "\n",
      "False               class               from                or\n",
      "None                continue            global              pass\n",
      "True                def                 if                  raise\n",
      "and                 del                 import              return\n",
      "as                  elif                in                  try\n",
      "assert              else                is                  while\n",
      "async               except              lambda              with\n",
      "await               finally             nonlocal            yield\n",
      "break               for                 not                 \n",
      "\n"
     ]
    }
   ],
   "source": [
    "help ('keywords')"
   ]
  },
  {
   "cell_type": "markdown",
   "id": "5070492d",
   "metadata": {},
   "source": [
    "# Python keywords are case sensitive\n",
    "\n",
    "* upper case and lowercase are different for programming language- case sensative language"
   ]
  },
  {
   "cell_type": "code",
   "execution_count": 8,
   "id": "02df3cfb",
   "metadata": {},
   "outputs": [
    {
     "ename": "SyntaxError",
     "evalue": "invalid syntax (349051529.py, line 1)",
     "output_type": "error",
     "traceback": [
      "\u001b[1;36m  Cell \u001b[1;32mIn[8], line 1\u001b[1;36m\u001b[0m\n\u001b[1;33m    global= 99\u001b[0m\n\u001b[1;37m          ^\u001b[0m\n\u001b[1;31mSyntaxError\u001b[0m\u001b[1;31m:\u001b[0m invalid syntax\n"
     ]
    }
   ],
   "source": [
    "global= 99"
   ]
  },
  {
   "cell_type": "code",
   "execution_count": 9,
   "id": "0bd08fc6",
   "metadata": {},
   "outputs": [
    {
     "ename": "SyntaxError",
     "evalue": "cannot assign to False (2985050778.py, line 1)",
     "output_type": "error",
     "traceback": [
      "\u001b[1;36m  Cell \u001b[1;32mIn[9], line 1\u001b[1;36m\u001b[0m\n\u001b[1;33m    False= 0\u001b[0m\n\u001b[1;37m    ^\u001b[0m\n\u001b[1;31mSyntaxError\u001b[0m\u001b[1;31m:\u001b[0m cannot assign to False\n"
     ]
    }
   ],
   "source": [
    "False= 0 # False is a keyword"
   ]
  },
  {
   "cell_type": "code",
   "execution_count": 11,
   "id": "f637b798",
   "metadata": {},
   "outputs": [],
   "source": [
    "false= 0 # false is a variable name"
   ]
  },
  {
   "cell_type": "markdown",
   "id": "85dc030d",
   "metadata": {},
   "source": [
    "## Python is a case sensative language while SQL is case insensative language"
   ]
  },
  {
   "cell_type": "code",
   "execution_count": 14,
   "id": "6c9841f4",
   "metadata": {},
   "outputs": [
    {
     "name": "stdout",
     "output_type": "stream",
     "text": [
      "The value of A is Apple\n",
      "The value of a is ace\n"
     ]
    }
   ],
   "source": [
    "A= 'Apple'\n",
    "a= 'ace'\n",
    "print (f\"The value of A is {A}\") #f string\n",
    "print (f\"The value of a is {a}\")"
   ]
  },
  {
   "cell_type": "code",
   "execution_count": 15,
   "id": "4a81c997",
   "metadata": {},
   "outputs": [
    {
     "name": "stdout",
     "output_type": "stream",
     "text": [
      "The value of A is Apple\n",
      "The value of a is ace\n"
     ]
    }
   ],
   "source": [
    "A= 'Apple'\n",
    "a= 'ace'\n",
    "print (\"The value of A is {}\".format(A)) #format string\n",
    "print (\"The value of a is {}\".format(a))"
   ]
  },
  {
   "cell_type": "markdown",
   "id": "c164d18e",
   "metadata": {},
   "source": [
    "# We cannot use special symbols like `!, @, #, $, %,` etc. in our identifier."
   ]
  },
  {
   "cell_type": "code",
   "execution_count": 16,
   "id": "eea7aadd",
   "metadata": {},
   "outputs": [
    {
     "ename": "SyntaxError",
     "evalue": "invalid syntax. Maybe you meant '==' or ':=' instead of '='? (978219023.py, line 1)",
     "output_type": "error",
     "traceback": [
      "\u001b[1;36m  Cell \u001b[1;32mIn[16], line 1\u001b[1;36m\u001b[0m\n\u001b[1;33m    @name= 'kshitiz'\u001b[0m\n\u001b[1;37m     ^\u001b[0m\n\u001b[1;31mSyntaxError\u001b[0m\u001b[1;31m:\u001b[0m invalid syntax. Maybe you meant '==' or ':=' instead of '='?\n"
     ]
    }
   ],
   "source": [
    "@name= 'kshitiz'"
   ]
  },
  {
   "cell_type": "code",
   "execution_count": 17,
   "id": "d8875667",
   "metadata": {},
   "outputs": [],
   "source": [
    "name = 'elina'"
   ]
  },
  {
   "cell_type": "code",
   "execution_count": 18,
   "id": "66fa8857",
   "metadata": {},
   "outputs": [
    {
     "ename": "SyntaxError",
     "evalue": "invalid syntax (4070906652.py, line 1)",
     "output_type": "error",
     "traceback": [
      "\u001b[1;36m  Cell \u001b[1;32mIn[18], line 1\u001b[1;36m\u001b[0m\n\u001b[1;33m    $name= 'Ram'\u001b[0m\n\u001b[1;37m    ^\u001b[0m\n\u001b[1;31mSyntaxError\u001b[0m\u001b[1;31m:\u001b[0m invalid syntax\n"
     ]
    }
   ],
   "source": [
    "$name= 'Ram'"
   ]
  },
  {
   "cell_type": "markdown",
   "id": "f65830e3",
   "metadata": {},
   "source": [
    "# You cannot use space bar in variable name"
   ]
  },
  {
   "cell_type": "code",
   "execution_count": 19,
   "id": "fb12af0f",
   "metadata": {},
   "outputs": [
    {
     "ename": "SyntaxError",
     "evalue": "invalid syntax (4142086720.py, line 1)",
     "output_type": "error",
     "traceback": [
      "\u001b[1;36m  Cell \u001b[1;32mIn[19], line 1\u001b[1;36m\u001b[0m\n\u001b[1;33m    first name= 'Ram'\u001b[0m\n\u001b[1;37m          ^\u001b[0m\n\u001b[1;31mSyntaxError\u001b[0m\u001b[1;31m:\u001b[0m invalid syntax\n"
     ]
    }
   ],
   "source": [
    "first name= 'Ram'"
   ]
  },
  {
   "cell_type": "code",
   "execution_count": 20,
   "id": "584c469e",
   "metadata": {},
   "outputs": [],
   "source": [
    "firstname = \"Ram\""
   ]
  },
  {
   "cell_type": "markdown",
   "id": "e3a90dcb",
   "metadata": {},
   "source": [
    "# You cannot use - in variable name"
   ]
  },
  {
   "cell_type": "code",
   "execution_count": 21,
   "id": "47c8a9ad",
   "metadata": {},
   "outputs": [
    {
     "ename": "SyntaxError",
     "evalue": "cannot assign to expression here. Maybe you meant '==' instead of '='? (2373640997.py, line 1)",
     "output_type": "error",
     "traceback": [
      "\u001b[1;36m  Cell \u001b[1;32mIn[21], line 1\u001b[1;36m\u001b[0m\n\u001b[1;33m    first-name= \"khsitiz\"\u001b[0m\n\u001b[1;37m    ^\u001b[0m\n\u001b[1;31mSyntaxError\u001b[0m\u001b[1;31m:\u001b[0m cannot assign to expression here. Maybe you meant '==' instead of '='?\n"
     ]
    }
   ],
   "source": [
    "first-name= \"khsitiz\""
   ]
  },
  {
   "cell_type": "markdown",
   "id": "ffa735a9",
   "metadata": {},
   "source": [
    "# Numbers cannot be first letter in variable name but numbers can appear after letters"
   ]
  },
  {
   "cell_type": "code",
   "execution_count": 22,
   "id": "9cb7c720",
   "metadata": {},
   "outputs": [
    {
     "ename": "SyntaxError",
     "evalue": "invalid decimal literal (2504960097.py, line 1)",
     "output_type": "error",
     "traceback": [
      "\u001b[1;36m  Cell \u001b[1;32mIn[22], line 1\u001b[1;36m\u001b[0m\n\u001b[1;33m    1animal = 'Cow'\u001b[0m\n\u001b[1;37m    ^\u001b[0m\n\u001b[1;31mSyntaxError\u001b[0m\u001b[1;31m:\u001b[0m invalid decimal literal\n"
     ]
    }
   ],
   "source": [
    "1animal = 'Cow'"
   ]
  },
  {
   "cell_type": "code",
   "execution_count": 23,
   "id": "26781149",
   "metadata": {},
   "outputs": [],
   "source": [
    "animal1= 'Cow'"
   ]
  },
  {
   "cell_type": "markdown",
   "id": "3d38c8fd",
   "metadata": {},
   "source": [
    "# Use underscore _ to join two words in variable name"
   ]
  },
  {
   "cell_type": "code",
   "execution_count": 24,
   "id": "7b7b6624",
   "metadata": {},
   "outputs": [],
   "source": [
    "first_name= 'Shyam' # snake_case"
   ]
  },
  {
   "cell_type": "code",
   "execution_count": 25,
   "id": "ecc9f0c6",
   "metadata": {},
   "outputs": [],
   "source": [
    "First_name= \"Elina\""
   ]
  },
  {
   "cell_type": "code",
   "execution_count": 27,
   "id": "e1c0b2ce",
   "metadata": {},
   "outputs": [],
   "source": [
    "MyObj= 88 # PascalCase"
   ]
  },
  {
   "cell_type": "code",
   "execution_count": 28,
   "id": "37c00c40",
   "metadata": {},
   "outputs": [],
   "source": [
    "o = 88 # not a good style ---PEP-8 (style-guide for python)"
   ]
  },
  {
   "cell_type": "markdown",
   "id": "cba97730",
   "metadata": {},
   "source": [
    "# Python is a dynamic typed language"
   ]
  },
  {
   "cell_type": "code",
   "execution_count": 29,
   "id": "517d6bc9",
   "metadata": {},
   "outputs": [
    {
     "data": {
      "text/plain": [
       "3"
      ]
     },
     "execution_count": 29,
     "metadata": {},
     "output_type": "execute_result"
    }
   ],
   "source": [
    "1+2"
   ]
  },
  {
   "cell_type": "code",
   "execution_count": 31,
   "id": "8208d215",
   "metadata": {},
   "outputs": [
    {
     "ename": "TypeError",
     "evalue": "can only concatenate str (not \"int\") to str",
     "output_type": "error",
     "traceback": [
      "\u001b[1;31m---------------------------------------------------------------------------\u001b[0m",
      "\u001b[1;31mTypeError\u001b[0m                                 Traceback (most recent call last)",
      "Cell \u001b[1;32mIn[31], line 1\u001b[0m\n\u001b[1;32m----> 1\u001b[0m \u001b[38;5;124;43m\"\u001b[39;49m\u001b[38;5;124;43m1\u001b[39;49m\u001b[38;5;124;43m\"\u001b[39;49m\u001b[43m \u001b[49m\u001b[38;5;241;43m+\u001b[39;49m\u001b[43m \u001b[49m\u001b[38;5;241;43m2\u001b[39;49m \u001b[38;5;66;03m# dynamic typed -- data type checked on fly in runtime\u001b[39;00m\n",
      "\u001b[1;31mTypeError\u001b[0m: can only concatenate str (not \"int\") to str"
     ]
    }
   ],
   "source": [
    "\"1\" + 2 # dynamic typed -- data type checked on fly in runtime"
   ]
  },
  {
   "cell_type": "code",
   "execution_count": 32,
   "id": "698f3a7f",
   "metadata": {},
   "outputs": [
    {
     "data": {
      "text/plain": [
       "'12'"
      ]
     },
     "execution_count": 32,
     "metadata": {},
     "output_type": "execute_result"
    }
   ],
   "source": [
    "\"1\" + \"2\""
   ]
  },
  {
   "cell_type": "markdown",
   "id": "1b6b9858",
   "metadata": {},
   "source": [
    "# updating variable values"
   ]
  },
  {
   "cell_type": "code",
   "execution_count": 35,
   "id": "19fbadd2",
   "metadata": {},
   "outputs": [
    {
     "name": "stdout",
     "output_type": "stream",
     "text": [
      "Before a =5\n",
      "After a =66\n"
     ]
    }
   ],
   "source": [
    "a = 5\n",
    "print (f'Before a ={a}')\n",
    "a = 66\n",
    "print (f'After a ={a}')"
   ]
  },
  {
   "cell_type": "code",
   "execution_count": 36,
   "id": "754fec3b",
   "metadata": {},
   "outputs": [
    {
     "name": "stdout",
     "output_type": "stream",
     "text": [
      "Before a =60.5\n",
      "After a =61.0\n"
     ]
    }
   ],
   "source": [
    "a= 60.5\n",
    "print (f'Before a ={a}')\n",
    "a = a + 0.5\n",
    "print (f'After a ={a}')"
   ]
  },
  {
   "cell_type": "markdown",
   "id": "420da924",
   "metadata": {},
   "source": [
    "# Assigning multiple values to multiple variable"
   ]
  },
  {
   "cell_type": "code",
   "execution_count": 37,
   "id": "6a8f35ea",
   "metadata": {},
   "outputs": [],
   "source": [
    "a = 2\n",
    "b = 0.2\n",
    "c = 0.6 + 0.3j"
   ]
  },
  {
   "cell_type": "code",
   "execution_count": 38,
   "id": "36f97389",
   "metadata": {},
   "outputs": [
    {
     "data": {
      "text/plain": [
       "2"
      ]
     },
     "execution_count": 38,
     "metadata": {},
     "output_type": "execute_result"
    }
   ],
   "source": [
    "a"
   ]
  },
  {
   "cell_type": "code",
   "execution_count": 39,
   "id": "55cf562c",
   "metadata": {},
   "outputs": [
    {
     "data": {
      "text/plain": [
       "0.2"
      ]
     },
     "execution_count": 39,
     "metadata": {},
     "output_type": "execute_result"
    }
   ],
   "source": [
    "b"
   ]
  },
  {
   "cell_type": "code",
   "execution_count": 40,
   "id": "3c55be2f",
   "metadata": {},
   "outputs": [
    {
     "data": {
      "text/plain": [
       "(0.6+0.3j)"
      ]
     },
     "execution_count": 40,
     "metadata": {},
     "output_type": "execute_result"
    }
   ],
   "source": [
    "c"
   ]
  },
  {
   "cell_type": "code",
   "execution_count": 41,
   "id": "03b9d444",
   "metadata": {},
   "outputs": [],
   "source": [
    "a, b, c = 2, 0.2, 0.6 + 0.4j"
   ]
  },
  {
   "cell_type": "code",
   "execution_count": 42,
   "id": "942013fa",
   "metadata": {},
   "outputs": [
    {
     "data": {
      "text/plain": [
       "2"
      ]
     },
     "execution_count": 42,
     "metadata": {},
     "output_type": "execute_result"
    }
   ],
   "source": [
    "a"
   ]
  },
  {
   "cell_type": "code",
   "execution_count": 43,
   "id": "8d47235e",
   "metadata": {},
   "outputs": [
    {
     "data": {
      "text/plain": [
       "0.2"
      ]
     },
     "execution_count": 43,
     "metadata": {},
     "output_type": "execute_result"
    }
   ],
   "source": [
    "b"
   ]
  },
  {
   "cell_type": "code",
   "execution_count": 44,
   "id": "74df5a8d",
   "metadata": {},
   "outputs": [
    {
     "data": {
      "text/plain": [
       "(0.6+0.4j)"
      ]
     },
     "execution_count": 44,
     "metadata": {},
     "output_type": "execute_result"
    }
   ],
   "source": [
    "c"
   ]
  },
  {
   "cell_type": "code",
   "execution_count": 45,
   "id": "b835588e",
   "metadata": {},
   "outputs": [],
   "source": [
    "a = 2+1"
   ]
  },
  {
   "cell_type": "code",
   "execution_count": 46,
   "id": "8c58e4d1",
   "metadata": {},
   "outputs": [
    {
     "data": {
      "text/plain": [
       "3"
      ]
     },
     "execution_count": 46,
     "metadata": {},
     "output_type": "execute_result"
    }
   ],
   "source": [
    "a"
   ]
  },
  {
   "cell_type": "code",
   "execution_count": 47,
   "id": "c90293c2",
   "metadata": {},
   "outputs": [
    {
     "ename": "ValueError",
     "evalue": "not enough values to unpack (expected 3, got 2)",
     "output_type": "error",
     "traceback": [
      "\u001b[1;31m---------------------------------------------------------------------------\u001b[0m",
      "\u001b[1;31mValueError\u001b[0m                                Traceback (most recent call last)",
      "Cell \u001b[1;32mIn[47], line 1\u001b[0m\n\u001b[1;32m----> 1\u001b[0m a, b, c \u001b[38;5;241m=\u001b[39m \u001b[38;5;241m2\u001b[39m, \u001b[38;5;241m0.2\u001b[39m\n",
      "\u001b[1;31mValueError\u001b[0m: not enough values to unpack (expected 3, got 2)"
     ]
    }
   ],
   "source": [
    "a, b, c = 2, 0.2"
   ]
  },
  {
   "cell_type": "code",
   "execution_count": 48,
   "id": "e07e71f0",
   "metadata": {},
   "outputs": [
    {
     "ename": "ValueError",
     "evalue": "too many values to unpack (expected 2)",
     "output_type": "error",
     "traceback": [
      "\u001b[1;31m---------------------------------------------------------------------------\u001b[0m",
      "\u001b[1;31mValueError\u001b[0m                                Traceback (most recent call last)",
      "Cell \u001b[1;32mIn[48], line 1\u001b[0m\n\u001b[1;32m----> 1\u001b[0m a, b\u001b[38;5;241m=\u001b[39m \u001b[38;5;241m2\u001b[39m, \u001b[38;5;241m0.2\u001b[39m, \u001b[38;5;241m0.6\u001b[39m \u001b[38;5;241m+\u001b[39m \u001b[38;5;241m0.4\u001b[39mj\n",
      "\u001b[1;31mValueError\u001b[0m: too many values to unpack (expected 2)"
     ]
    }
   ],
   "source": [
    "a, b= 2, 0.2, 0.6 + 0.4j"
   ]
  },
  {
   "cell_type": "code",
   "execution_count": null,
   "id": "afc85f9f",
   "metadata": {},
   "outputs": [],
   "source": []
  }
 ],
 "metadata": {
  "kernelspec": {
   "display_name": "Python 3 (ipykernel)",
   "language": "python",
   "name": "python3"
  },
  "language_info": {
   "codemirror_mode": {
    "name": "ipython",
    "version": 3
   },
   "file_extension": ".py",
   "mimetype": "text/x-python",
   "name": "python",
   "nbconvert_exporter": "python",
   "pygments_lexer": "ipython3",
   "version": "3.10.11"
  }
 },
 "nbformat": 4,
 "nbformat_minor": 5
}
