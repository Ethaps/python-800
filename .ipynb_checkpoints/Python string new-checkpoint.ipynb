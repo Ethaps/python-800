{
 "cells": [
  {
   "cell_type": "code",
   "execution_count": 5,
   "id": "1ce86c19",
   "metadata": {},
   "outputs": [],
   "source": [
    "msg1 = 'hello'\n",
    "msg2 = \"hello\""
   ]
  },
  {
   "cell_type": "code",
   "execution_count": 7,
   "id": "e17f70d3",
   "metadata": {},
   "outputs": [
    {
     "data": {
      "text/plain": [
       "True"
      ]
     },
     "execution_count": 7,
     "metadata": {},
     "output_type": "execute_result"
    }
   ],
   "source": [
    "msg1== msg2"
   ]
  },
  {
   "cell_type": "markdown",
   "id": "f14bdb05",
   "metadata": {},
   "source": [
    "# single line string and multiline string"
   ]
  },
  {
   "cell_type": "code",
   "execution_count": 9,
   "id": "d381eab4",
   "metadata": {},
   "outputs": [],
   "source": [
    "# single line\n",
    "speech = \"My name is Durgesh Thapa. \""
   ]
  },
  {
   "cell_type": "code",
   "execution_count": 10,
   "id": "85563adb",
   "metadata": {},
   "outputs": [
    {
     "data": {
      "text/plain": [
       "'My name is Durgesh Thapa. '"
      ]
     },
     "execution_count": 10,
     "metadata": {},
     "output_type": "execute_result"
    }
   ],
   "source": [
    "speech"
   ]
  },
  {
   "cell_type": "code",
   "execution_count": 11,
   "id": "ea236959",
   "metadata": {},
   "outputs": [
    {
     "ename": "SyntaxError",
     "evalue": "unterminated string literal (detected at line 3) (113086559.py, line 3)",
     "output_type": "error",
     "traceback": [
      "\u001b[1;36m  Cell \u001b[1;32mIn[11], line 3\u001b[1;36m\u001b[0m\n\u001b[1;33m    speech = \" Suna Saili Saili Pardesh Bata Ma Aaula\u001b[0m\n\u001b[1;37m             ^\u001b[0m\n\u001b[1;31mSyntaxError\u001b[0m\u001b[1;31m:\u001b[0m unterminated string literal (detected at line 3)\n"
     ]
    }
   ],
   "source": [
    "# you cannot use one quote to write multiline string\n",
    "\n",
    "geet = \" Suna Saili Saili Pardesh Bata Ma Aaula\n",
    "Suna Saili Saili Chalis Katesi Ramaula\n",
    "Suna Saili Saili Pardesh Bata Ma Aaula\n",
    "Suna Saili Saili Chalis Katesi Ramaula\""
   ]
  },
  {
   "cell_type": "code",
   "execution_count": 18,
   "id": "e2ee48b4",
   "metadata": {},
   "outputs": [],
   "source": [
    "# use tripple quotes\n",
    "\n",
    "geet= \"\"\"  Suna Saili Saili Pardesh Bata Ma Aaula\n",
    "Suna Saili Saili Chalis Katesi Ramaula\n",
    "Suna Saili Saili Pardesh Bata Ma Aaula\n",
    "Suna Saili Saili Chalis Katesi Ramaula \"\"\""
   ]
  },
  {
   "cell_type": "code",
   "execution_count": 19,
   "id": "d38f355c",
   "metadata": {},
   "outputs": [
    {
     "name": "stdout",
     "output_type": "stream",
     "text": [
      "  Suna Saili Saili Pardesh Bata Ma Aaula\n",
      "Suna Saili Saili Chalis Katesi Ramaula\n",
      "Suna Saili Saili Pardesh Bata Ma Aaula\n",
      "Suna Saili Saili Chalis Katesi Ramaula \n"
     ]
    }
   ],
   "source": [
    "print(geet)"
   ]
  },
  {
   "cell_type": "code",
   "execution_count": 20,
   "id": "df6ceee1",
   "metadata": {},
   "outputs": [
    {
     "data": {
      "text/plain": [
       "'  Suna Saili Saili Pardesh Bata Ma Aaula\\nSuna Saili Saili Chalis Katesi Ramaula\\nSuna Saili Saili Pardesh Bata Ma Aaula\\nSuna Saili Saili Chalis Katesi Ramaula '"
      ]
     },
     "execution_count": 20,
     "metadata": {},
     "output_type": "execute_result"
    }
   ],
   "source": [
    "geet"
   ]
  },
  {
   "cell_type": "code",
   "execution_count": 23,
   "id": "c0395593",
   "metadata": {},
   "outputs": [
    {
     "name": "stdout",
     "output_type": "stream",
     "text": [
      "that's\n"
     ]
    }
   ],
   "source": [
    "print (\"that's\")"
   ]
  },
  {
   "cell_type": "code",
   "execution_count": 26,
   "id": "6706cd0b",
   "metadata": {},
   "outputs": [
    {
     "name": "stdout",
     "output_type": "stream",
     "text": [
      "that's\n"
     ]
    }
   ],
   "source": [
    "print ('that\\'s')"
   ]
  },
  {
   "cell_type": "markdown",
   "id": "9be60155",
   "metadata": {},
   "source": [
    "# Example"
   ]
  },
  {
   "cell_type": "code",
   "execution_count": 27,
   "id": "692409b1",
   "metadata": {},
   "outputs": [],
   "source": [
    "s= 'hello world'"
   ]
  },
  {
   "cell_type": "code",
   "execution_count": 28,
   "id": "8337b72b",
   "metadata": {},
   "outputs": [
    {
     "data": {
      "text/plain": [
       "'e'"
      ]
     },
     "execution_count": 28,
     "metadata": {},
     "output_type": "execute_result"
    }
   ],
   "source": [
    "s[1]"
   ]
  },
  {
   "cell_type": "code",
   "execution_count": 30,
   "id": "2fc02e05",
   "metadata": {},
   "outputs": [
    {
     "data": {
      "text/plain": [
       "'h'"
      ]
     },
     "execution_count": 30,
     "metadata": {},
     "output_type": "execute_result"
    }
   ],
   "source": [
    "s[0] # indexing starts from zero"
   ]
  },
  {
   "cell_type": "code",
   "execution_count": 31,
   "id": "ce05f424",
   "metadata": {},
   "outputs": [
    {
     "data": {
      "text/plain": [
       "'l'"
      ]
     },
     "execution_count": 31,
     "metadata": {},
     "output_type": "execute_result"
    }
   ],
   "source": [
    "s[2]"
   ]
  },
  {
   "cell_type": "code",
   "execution_count": 32,
   "id": "050d9b1f",
   "metadata": {},
   "outputs": [
    {
     "data": {
      "text/plain": [
       "'l'"
      ]
     },
     "execution_count": 32,
     "metadata": {},
     "output_type": "execute_result"
    }
   ],
   "source": [
    "s[3]"
   ]
  },
  {
   "cell_type": "code",
   "execution_count": 33,
   "id": "7f45527d",
   "metadata": {},
   "outputs": [
    {
     "data": {
      "text/plain": [
       "'o'"
      ]
     },
     "execution_count": 33,
     "metadata": {},
     "output_type": "execute_result"
    }
   ],
   "source": [
    "s[4]"
   ]
  },
  {
   "cell_type": "code",
   "execution_count": 34,
   "id": "e0da1ad8",
   "metadata": {},
   "outputs": [
    {
     "data": {
      "text/plain": [
       "' '"
      ]
     },
     "execution_count": 34,
     "metadata": {},
     "output_type": "execute_result"
    }
   ],
   "source": [
    "s[5]"
   ]
  },
  {
   "cell_type": "code",
   "execution_count": 35,
   "id": "6cfac9f0",
   "metadata": {},
   "outputs": [
    {
     "data": {
      "text/plain": [
       "'w'"
      ]
     },
     "execution_count": 35,
     "metadata": {},
     "output_type": "execute_result"
    }
   ],
   "source": [
    "s[6]"
   ]
  },
  {
   "cell_type": "code",
   "execution_count": 36,
   "id": "7d44e9de",
   "metadata": {},
   "outputs": [
    {
     "data": {
      "text/plain": [
       "'o'"
      ]
     },
     "execution_count": 36,
     "metadata": {},
     "output_type": "execute_result"
    }
   ],
   "source": [
    "s[7]"
   ]
  },
  {
   "cell_type": "code",
   "execution_count": 37,
   "id": "61428cf4",
   "metadata": {},
   "outputs": [
    {
     "data": {
      "text/plain": [
       "'r'"
      ]
     },
     "execution_count": 37,
     "metadata": {},
     "output_type": "execute_result"
    }
   ],
   "source": [
    "s[8]"
   ]
  },
  {
   "cell_type": "code",
   "execution_count": 38,
   "id": "01fc2902",
   "metadata": {},
   "outputs": [
    {
     "data": {
      "text/plain": [
       "'l'"
      ]
     },
     "execution_count": 38,
     "metadata": {},
     "output_type": "execute_result"
    }
   ],
   "source": [
    "s[9]"
   ]
  },
  {
   "cell_type": "code",
   "execution_count": 39,
   "id": "a4e0a724",
   "metadata": {},
   "outputs": [
    {
     "data": {
      "text/plain": [
       "'d'"
      ]
     },
     "execution_count": 39,
     "metadata": {},
     "output_type": "execute_result"
    }
   ],
   "source": [
    "s[10]"
   ]
  },
  {
   "cell_type": "code",
   "execution_count": 41,
   "id": "3f613118",
   "metadata": {},
   "outputs": [
    {
     "ename": "IndexError",
     "evalue": "string index out of range",
     "output_type": "error",
     "traceback": [
      "\u001b[1;31m---------------------------------------------------------------------------\u001b[0m",
      "\u001b[1;31mIndexError\u001b[0m                                Traceback (most recent call last)",
      "Cell \u001b[1;32mIn[41], line 1\u001b[0m\n\u001b[1;32m----> 1\u001b[0m \u001b[43ms\u001b[49m\u001b[43m[\u001b[49m\u001b[38;5;241;43m11\u001b[39;49m\u001b[43m]\u001b[49m\n",
      "\u001b[1;31mIndexError\u001b[0m: string index out of range"
     ]
    }
   ],
   "source": [
    "s[11]"
   ]
  },
  {
   "cell_type": "code",
   "execution_count": 42,
   "id": "e8e9b071",
   "metadata": {},
   "outputs": [
    {
     "data": {
      "text/plain": [
       "11"
      ]
     },
     "execution_count": 42,
     "metadata": {},
     "output_type": "execute_result"
    }
   ],
   "source": [
    "len(s)"
   ]
  },
  {
   "cell_type": "code",
   "execution_count": 44,
   "id": "b0c0ea08",
   "metadata": {},
   "outputs": [
    {
     "data": {
      "text/plain": [
       "'or'"
      ]
     },
     "execution_count": 44,
     "metadata": {},
     "output_type": "execute_result"
    }
   ],
   "source": [
    "s[7:9]"
   ]
  },
  {
   "cell_type": "code",
   "execution_count": 45,
   "id": "d67e85a6",
   "metadata": {},
   "outputs": [
    {
     "data": {
      "text/plain": [
       "'ello'"
      ]
     },
     "execution_count": 45,
     "metadata": {},
     "output_type": "execute_result"
    }
   ],
   "source": [
    "s[1:5]"
   ]
  },
  {
   "cell_type": "code",
   "execution_count": null,
   "id": "0095e899",
   "metadata": {},
   "outputs": [],
   "source": []
  }
 ],
 "metadata": {
  "kernelspec": {
   "display_name": "Python 3 (ipykernel)",
   "language": "python",
   "name": "python3"
  },
  "language_info": {
   "codemirror_mode": {
    "name": "ipython",
    "version": 3
   },
   "file_extension": ".py",
   "mimetype": "text/x-python",
   "name": "python",
   "nbconvert_exporter": "python",
   "pygments_lexer": "ipython3",
   "version": "3.10.11"
  }
 },
 "nbformat": 4,
 "nbformat_minor": 5
}
