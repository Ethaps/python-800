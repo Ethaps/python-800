{
 "cells": [
  {
   "cell_type": "code",
   "execution_count": 3,
   "id": "5845422a",
   "metadata": {},
   "outputs": [],
   "source": [
    "fruits = ['Apple', 'Banana', 'Apple', 'Mango', 'Kiwi', 'Guava', 'Orange']\n",
    "new_fruits= list()\n",
    "for item in fruits:\n",
    "    new_fruits.append(item.lower())"
   ]
  },
  {
   "cell_type": "code",
   "execution_count": 4,
   "id": "d3a0f6c0",
   "metadata": {},
   "outputs": [
    {
     "data": {
      "text/plain": [
       "['apple', 'banana', 'apple', 'mango', 'kiwi', 'guava', 'orange']"
      ]
     },
     "execution_count": 4,
     "metadata": {},
     "output_type": "execute_result"
    }
   ],
   "source": [
    "new_fruits"
   ]
  },
  {
   "cell_type": "markdown",
   "id": "6eb22039",
   "metadata": {},
   "source": [
    "# using list comprehension"
   ]
  },
  {
   "cell_type": "code",
   "execution_count": 5,
   "id": "ab6fd3e7",
   "metadata": {},
   "outputs": [],
   "source": [
    "fruits = ['Apple', 'Banana', 'Apple', 'Mango', 'Kiwi', 'Guava', 'Orange']"
   ]
  },
  {
   "cell_type": "code",
   "execution_count": 6,
   "id": "11a3411c",
   "metadata": {},
   "outputs": [
    {
     "data": {
      "text/plain": [
       "['apple', 'banana', 'apple', 'mango', 'kiwi', 'guava', 'orange']"
      ]
     },
     "execution_count": 6,
     "metadata": {},
     "output_type": "execute_result"
    }
   ],
   "source": [
    "[item.lower() for item in fruits]"
   ]
  },
  {
   "cell_type": "markdown",
   "id": "8bbe0ff7",
   "metadata": {},
   "source": [
    "# use for loop and list comprehension both to find square of numbers between 1 to 10"
   ]
  },
  {
   "cell_type": "code",
   "execution_count": 37,
   "id": "6a9d5d9e",
   "metadata": {},
   "outputs": [
    {
     "name": "stdout",
     "output_type": "stream",
     "text": [
      "[1, 4, 9, 16, 25, 36, 49, 64, 81]\n"
     ]
    }
   ],
   "source": [
    "num= list()\n",
    "for i in range (1,10,1):\n",
    "    num.append(i**2)\n",
    "\n",
    "print(num)"
   ]
  },
  {
   "cell_type": "code",
   "execution_count": 17,
   "id": "0de46fcc",
   "metadata": {},
   "outputs": [
    {
     "data": {
      "text/plain": [
       "[1, 4, 9, 16, 25, 36, 49, 64, 81]"
      ]
     },
     "execution_count": 17,
     "metadata": {},
     "output_type": "execute_result"
    }
   ],
   "source": [
    "sq= []\n",
    "for index in range (1,10):\n",
    "    sq.append(index**2)\n",
    "\n",
    "sq"
   ]
  },
  {
   "cell_type": "code",
   "execution_count": 18,
   "id": "1246c1d6",
   "metadata": {},
   "outputs": [
    {
     "data": {
      "text/plain": [
       "[1, 4, 9, 16, 25, 36, 49, 64, 81]"
      ]
     },
     "execution_count": 18,
     "metadata": {},
     "output_type": "execute_result"
    }
   ],
   "source": [
    "[index**2 for index in range(1,10)]"
   ]
  },
  {
   "cell_type": "markdown",
   "id": "abc1214f",
   "metadata": {},
   "source": [
    "# syntax\n",
    "\n",
    "```python\n",
    "[expression for item in iterables]\n",
    "```"
   ]
  },
  {
   "cell_type": "markdown",
   "id": "e8a56133",
   "metadata": {},
   "source": [
    "# find even number between 1 to 20 using list comprehension"
   ]
  },
  {
   "cell_type": "code",
   "execution_count": 27,
   "id": "7b5e89e0",
   "metadata": {},
   "outputs": [
    {
     "data": {
      "text/plain": [
       "[2, 4, 6, 8, 10, 12, 14, 16, 18, 20, 22, 24]"
      ]
     },
     "execution_count": 27,
     "metadata": {},
     "output_type": "execute_result"
    }
   ],
   "source": [
    "[index for index in range (2,25,2)]"
   ]
  },
  {
   "cell_type": "markdown",
   "id": "42087a7f",
   "metadata": {},
   "source": [
    "# list comprehension with if"
   ]
  },
  {
   "cell_type": "code",
   "execution_count": 28,
   "id": "10dcfaa7",
   "metadata": {},
   "outputs": [],
   "source": [
    "# i want all negative numbers from given list"
   ]
  },
  {
   "cell_type": "code",
   "execution_count": 29,
   "id": "5690e6b3",
   "metadata": {},
   "outputs": [],
   "source": [
    "numbers = [0, -2, 3, -11, 5, 2, -8]"
   ]
  },
  {
   "cell_type": "markdown",
   "id": "f4bd7893",
   "metadata": {},
   "source": [
    "# syntax\n",
    "\n",
    "``` python \n",
    "[expression for item in iterable if True}\n",
    "```\n",
    "\n",
    "if ko condition true bhayo bhaney matra expression ko value aaucha natra skip huncha"
   ]
  },
  {
   "cell_type": "markdown",
   "id": "e79f52ea",
   "metadata": {},
   "source": []
  },
  {
   "cell_type": "code",
   "execution_count": 31,
   "id": "095a3077",
   "metadata": {},
   "outputs": [
    {
     "data": {
      "text/plain": [
       "[-2, -11, -8]"
      ]
     },
     "execution_count": 31,
     "metadata": {},
     "output_type": "execute_result"
    }
   ],
   "source": [
    "[item for item in numbers if item < 0]"
   ]
  },
  {
   "cell_type": "markdown",
   "id": "28140474",
   "metadata": {},
   "source": [
    "# list comprehension with if and else\n",
    "\n",
    "``` python\n",
    "\n",
    "[Expression if True else expression for item in iterables]\n",
    "\n",
    "```\n",
    "\n",
    "\n",
    "# Relu activation function\n",
    "\n",
    "<img src= \"https://blog.paperspace.com/content/images/2018/06/relu.png\">"
   ]
  },
  {
   "cell_type": "code",
   "execution_count": 34,
   "id": "adf5cc55",
   "metadata": {},
   "outputs": [
    {
     "data": {
      "text/plain": [
       "[0, 0, 0, 0, 0, 0, 0, 0, 0, 0, 0, 1, 2, 3, 4, 5, 6, 7, 8, 9]"
      ]
     },
     "execution_count": 34,
     "metadata": {},
     "output_type": "execute_result"
    }
   ],
   "source": [
    "[0 if z<=0  else z for z in range(-10,10)]"
   ]
  },
  {
   "cell_type": "code",
   "execution_count": 38,
   "id": "0c58e8fb",
   "metadata": {},
   "outputs": [],
   "source": [
    "# only accept fruits that are not apple from the list\n",
    "fruits= ['apple', 'banana', 'apple', 'mango']"
   ]
  },
  {
   "cell_type": "code",
   "execution_count": 41,
   "id": "d380099f",
   "metadata": {},
   "outputs": [
    {
     "data": {
      "text/plain": [
       "['banana', 'mango']"
      ]
     },
     "execution_count": 41,
     "metadata": {},
     "output_type": "execute_result"
    }
   ],
   "source": [
    "[item for item in fruits if item !='apple'] # 'if' comes after 'for' if there is no 'else' "
   ]
  },
  {
   "cell_type": "code",
   "execution_count": null,
   "id": "b9bcab18",
   "metadata": {},
   "outputs": [],
   "source": []
  }
 ],
 "metadata": {
  "kernelspec": {
   "display_name": "Python 3 (ipykernel)",
   "language": "python",
   "name": "python3"
  },
  "language_info": {
   "codemirror_mode": {
    "name": "ipython",
    "version": 3
   },
   "file_extension": ".py",
   "mimetype": "text/x-python",
   "name": "python",
   "nbconvert_exporter": "python",
   "pygments_lexer": "ipython3",
   "version": "3.10.11"
  }
 },
 "nbformat": 4,
 "nbformat_minor": 5
}
