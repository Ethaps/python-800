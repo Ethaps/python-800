{
 "cells": [
  {
   "cell_type": "markdown",
   "id": "ebf8b534",
   "metadata": {},
   "source": [
    "# Tuple\n",
    "* collection of item under one variable name\n",
    "* items are placed inside round bracket () separated by coma\n",
    "* allows duplicate\n",
    "* immutable"
   ]
  },
  {
   "cell_type": "code",
   "execution_count": 1,
   "id": "edf63e5b",
   "metadata": {},
   "outputs": [
    {
     "data": {
      "text/plain": [
       "tuple"
      ]
     },
     "execution_count": 1,
     "metadata": {},
     "output_type": "execute_result"
    }
   ],
   "source": [
    "# empty tuple\n",
    "\n",
    "fruit= tuple()\n",
    "type(fruit)"
   ]
  },
  {
   "cell_type": "code",
   "execution_count": 2,
   "id": "254bb6fa",
   "metadata": {},
   "outputs": [
    {
     "data": {
      "text/plain": [
       "tuple"
      ]
     },
     "execution_count": 2,
     "metadata": {},
     "output_type": "execute_result"
    }
   ],
   "source": [
    "# empty tuple\n",
    "\n",
    "friends = ()\n",
    "type(friends)"
   ]
  },
  {
   "cell_type": "markdown",
   "id": "40b9be4b",
   "metadata": {},
   "source": [
    "# Create a tuple of cities in Nepal"
   ]
  },
  {
   "cell_type": "code",
   "execution_count": 3,
   "id": "137621c1",
   "metadata": {},
   "outputs": [],
   "source": [
    "city = ('Kathmandu', 'Bhaktapur', 'Lalitpur', 'Dharan', 'Bharatpur', 'Biratnagar')"
   ]
  },
  {
   "cell_type": "code",
   "execution_count": 4,
   "id": "31537a24",
   "metadata": {},
   "outputs": [
    {
     "data": {
      "text/plain": [
       "('Kathmandu', 'Bhaktapur', 'Lalitpur', 'Dharan', 'Bharatpur', 'Biratnagar')"
      ]
     },
     "execution_count": 4,
     "metadata": {},
     "output_type": "execute_result"
    }
   ],
   "source": [
    "city"
   ]
  },
  {
   "cell_type": "code",
   "execution_count": 5,
   "id": "964d02f8",
   "metadata": {},
   "outputs": [
    {
     "data": {
      "text/plain": [
       "tuple"
      ]
     },
     "execution_count": 5,
     "metadata": {},
     "output_type": "execute_result"
    }
   ],
   "source": [
    "type(city)"
   ]
  },
  {
   "cell_type": "markdown",
   "id": "fba49cbb",
   "metadata": {},
   "source": [
    "# indexing"
   ]
  },
  {
   "cell_type": "code",
   "execution_count": 8,
   "id": "10ac3fd9",
   "metadata": {},
   "outputs": [
    {
     "data": {
      "text/plain": [
       "'Dharan'"
      ]
     },
     "execution_count": 8,
     "metadata": {},
     "output_type": "execute_result"
    }
   ],
   "source": [
    "city[3] #indexing"
   ]
  },
  {
   "cell_type": "markdown",
   "id": "5c2ba2c4",
   "metadata": {},
   "source": [
    "city[-2]"
   ]
  },
  {
   "cell_type": "code",
   "execution_count": 10,
   "id": "0408f030",
   "metadata": {},
   "outputs": [
    {
     "data": {
      "text/plain": [
       "'Bhaktapur'"
      ]
     },
     "execution_count": 10,
     "metadata": {},
     "output_type": "execute_result"
    }
   ],
   "source": [
    "city[1]"
   ]
  },
  {
   "cell_type": "code",
   "execution_count": 11,
   "id": "d3c6497f",
   "metadata": {},
   "outputs": [
    {
     "data": {
      "text/plain": [
       "('Lalitpur', 'Dharan')"
      ]
     },
     "execution_count": 11,
     "metadata": {},
     "output_type": "execute_result"
    }
   ],
   "source": [
    "city[2:4]"
   ]
  },
  {
   "cell_type": "markdown",
   "id": "7b8b8de4",
   "metadata": {},
   "source": [
    "# calculate mean"
   ]
  },
  {
   "cell_type": "code",
   "execution_count": 13,
   "id": "0da6d26f",
   "metadata": {},
   "outputs": [],
   "source": [
    "data = (2,4,6,8,12)"
   ]
  },
  {
   "cell_type": "code",
   "execution_count": 17,
   "id": "80e11402",
   "metadata": {},
   "outputs": [
    {
     "data": {
      "text/plain": [
       "6.4"
      ]
     },
     "execution_count": 17,
     "metadata": {},
     "output_type": "execute_result"
    }
   ],
   "source": [
    "a = 0\n",
    "for item in data:\n",
    "    a = a + item\n",
    "\n",
    "mean= a/len(data)\n",
    "\n",
    "mean"
   ]
  },
  {
   "cell_type": "markdown",
   "id": "a30a8f44",
   "metadata": {},
   "source": [
    "# Tuple is immutable"
   ]
  },
  {
   "cell_type": "code",
   "execution_count": 18,
   "id": "426f5522",
   "metadata": {},
   "outputs": [],
   "source": [
    "cars= ('BMW', 'Tesla', 'Mercedes', 'Bentley')"
   ]
  },
  {
   "cell_type": "code",
   "execution_count": 19,
   "id": "3f2052ac",
   "metadata": {},
   "outputs": [
    {
     "data": {
      "text/plain": [
       "'Tesla'"
      ]
     },
     "execution_count": 19,
     "metadata": {},
     "output_type": "execute_result"
    }
   ],
   "source": [
    "cars[1]"
   ]
  },
  {
   "cell_type": "code",
   "execution_count": 20,
   "id": "8cfbeb97",
   "metadata": {},
   "outputs": [
    {
     "ename": "TypeError",
     "evalue": "'tuple' object does not support item assignment",
     "output_type": "error",
     "traceback": [
      "\u001b[1;31m---------------------------------------------------------------------------\u001b[0m",
      "\u001b[1;31mTypeError\u001b[0m                                 Traceback (most recent call last)",
      "Cell \u001b[1;32mIn[20], line 1\u001b[0m\n\u001b[1;32m----> 1\u001b[0m \u001b[43mcars\u001b[49m\u001b[43m[\u001b[49m\u001b[38;5;241;43m1\u001b[39;49m\u001b[43m]\u001b[49m\u001b[38;5;241m=\u001b[39m \u001b[38;5;124m'\u001b[39m\u001b[38;5;124mTata\u001b[39m\u001b[38;5;124m'\u001b[39m\n",
      "\u001b[1;31mTypeError\u001b[0m: 'tuple' object does not support item assignment"
     ]
    }
   ],
   "source": [
    "cars[1]= 'Tata' #tuples are immutable"
   ]
  },
  {
   "cell_type": "code",
   "execution_count": 22,
   "id": "2b265faf",
   "metadata": {},
   "outputs": [
    {
     "data": {
      "text/plain": [
       "['BMW', 'Tata', 'Mercedes', 'Bentley']"
      ]
     },
     "execution_count": 22,
     "metadata": {},
     "output_type": "execute_result"
    }
   ],
   "source": [
    "cars= ['BMW', 'Tesla', 'Mercedes', 'Bentley'] # list are mutable\n",
    "cars[1] = 'Tata'\n",
    "cars"
   ]
  },
  {
   "cell_type": "code",
   "execution_count": 23,
   "id": "a4824cd5",
   "metadata": {},
   "outputs": [
    {
     "data": {
      "text/plain": [
       "tuple"
      ]
     },
     "execution_count": 23,
     "metadata": {},
     "output_type": "execute_result"
    }
   ],
   "source": [
    "cars= ('BMW', 'Tesla', 'Mercedes', 'Bentley')\n",
    "type(cars)"
   ]
  },
  {
   "cell_type": "code",
   "execution_count": 24,
   "id": "e2cf705a",
   "metadata": {},
   "outputs": [
    {
     "data": {
      "text/plain": [
       "list"
      ]
     },
     "execution_count": 24,
     "metadata": {},
     "output_type": "execute_result"
    }
   ],
   "source": [
    "cars = list(cars)\n",
    "type (cars)"
   ]
  },
  {
   "cell_type": "code",
   "execution_count": 25,
   "id": "87ccdc2e",
   "metadata": {},
   "outputs": [],
   "source": [
    "cars.append('Lambo')"
   ]
  },
  {
   "cell_type": "code",
   "execution_count": 26,
   "id": "54475dc2",
   "metadata": {},
   "outputs": [
    {
     "data": {
      "text/plain": [
       "['BMW', 'Tesla', 'Mercedes', 'Bentley', 'Lambo']"
      ]
     },
     "execution_count": 26,
     "metadata": {},
     "output_type": "execute_result"
    }
   ],
   "source": [
    "cars"
   ]
  },
  {
   "cell_type": "code",
   "execution_count": 28,
   "id": "7155767f",
   "metadata": {},
   "outputs": [],
   "source": [
    "cars= tuple(cars)"
   ]
  },
  {
   "cell_type": "code",
   "execution_count": 29,
   "id": "a985161c",
   "metadata": {},
   "outputs": [
    {
     "data": {
      "text/plain": [
       "('BMW', 'Tesla', 'Mercedes', 'Bentley', 'Lambo')"
      ]
     },
     "execution_count": 29,
     "metadata": {},
     "output_type": "execute_result"
    }
   ],
   "source": [
    "cars"
   ]
  },
  {
   "cell_type": "markdown",
   "id": "29822433",
   "metadata": {},
   "source": [
    "# Tuple Unpacking"
   ]
  },
  {
   "cell_type": "code",
   "execution_count": 30,
   "id": "a7fe5cd7",
   "metadata": {},
   "outputs": [],
   "source": [
    "a, b= ('hello', 'sarkar')"
   ]
  },
  {
   "cell_type": "code",
   "execution_count": 31,
   "id": "4c98b1da",
   "metadata": {},
   "outputs": [
    {
     "data": {
      "text/plain": [
       "'hello'"
      ]
     },
     "execution_count": 31,
     "metadata": {},
     "output_type": "execute_result"
    }
   ],
   "source": [
    "a"
   ]
  },
  {
   "cell_type": "code",
   "execution_count": 32,
   "id": "db91e502",
   "metadata": {},
   "outputs": [
    {
     "data": {
      "text/plain": [
       "'sarkar'"
      ]
     },
     "execution_count": 32,
     "metadata": {},
     "output_type": "execute_result"
    }
   ],
   "source": [
    "b"
   ]
  },
  {
   "cell_type": "code",
   "execution_count": 33,
   "id": "2205053c",
   "metadata": {},
   "outputs": [
    {
     "ename": "ValueError",
     "evalue": "not enough values to unpack (expected 3, got 2)",
     "output_type": "error",
     "traceback": [
      "\u001b[1;31m---------------------------------------------------------------------------\u001b[0m",
      "\u001b[1;31mValueError\u001b[0m                                Traceback (most recent call last)",
      "Cell \u001b[1;32mIn[33], line 1\u001b[0m\n\u001b[1;32m----> 1\u001b[0m a, b, c\u001b[38;5;241m=\u001b[39m (\u001b[38;5;124m'\u001b[39m\u001b[38;5;124mhello\u001b[39m\u001b[38;5;124m'\u001b[39m, \u001b[38;5;124m'\u001b[39m\u001b[38;5;124msarkar\u001b[39m\u001b[38;5;124m'\u001b[39m)\n",
      "\u001b[1;31mValueError\u001b[0m: not enough values to unpack (expected 3, got 2)"
     ]
    }
   ],
   "source": [
    "a, b, c= ('hello', 'sarkar')"
   ]
  },
  {
   "cell_type": "code",
   "execution_count": 42,
   "id": "92144e74",
   "metadata": {},
   "outputs": [],
   "source": [
    "l1= [5, 5.3, 'kshitiz', (55,6)]"
   ]
  },
  {
   "cell_type": "code",
   "execution_count": 43,
   "id": "80cb29ff",
   "metadata": {},
   "outputs": [
    {
     "data": {
      "text/plain": [
       "[5, 5.3, 'kshitiz', (55, 6)]"
      ]
     },
     "execution_count": 43,
     "metadata": {},
     "output_type": "execute_result"
    }
   ],
   "source": [
    "l1"
   ]
  },
  {
   "cell_type": "code",
   "execution_count": 44,
   "id": "08daaae8",
   "metadata": {},
   "outputs": [
    {
     "data": {
      "text/plain": [
       "(55, 6)"
      ]
     },
     "execution_count": 44,
     "metadata": {},
     "output_type": "execute_result"
    }
   ],
   "source": [
    "l1[3]"
   ]
  },
  {
   "cell_type": "code",
   "execution_count": 45,
   "id": "8cd499bc",
   "metadata": {},
   "outputs": [
    {
     "data": {
      "text/plain": [
       "'s'"
      ]
     },
     "execution_count": 45,
     "metadata": {},
     "output_type": "execute_result"
    }
   ],
   "source": [
    "l1[2][1]"
   ]
  },
  {
   "cell_type": "code",
   "execution_count": 46,
   "id": "39430d61",
   "metadata": {},
   "outputs": [
    {
     "data": {
      "text/plain": [
       "list"
      ]
     },
     "execution_count": 46,
     "metadata": {},
     "output_type": "execute_result"
    }
   ],
   "source": [
    "type(l1)"
   ]
  },
  {
   "cell_type": "code",
   "execution_count": 47,
   "id": "197151bc",
   "metadata": {},
   "outputs": [],
   "source": [
    "t1= (5, 5.3, 'kshitiz', [55,6])"
   ]
  },
  {
   "cell_type": "code",
   "execution_count": 48,
   "id": "a3c4a9cc",
   "metadata": {},
   "outputs": [
    {
     "data": {
      "text/plain": [
       "(5, 5.3, 'kshitiz', [55, 6])"
      ]
     },
     "execution_count": 48,
     "metadata": {},
     "output_type": "execute_result"
    }
   ],
   "source": [
    "t1"
   ]
  },
  {
   "cell_type": "code",
   "execution_count": 49,
   "id": "0b5c28a9",
   "metadata": {},
   "outputs": [
    {
     "data": {
      "text/plain": [
       "6"
      ]
     },
     "execution_count": 49,
     "metadata": {},
     "output_type": "execute_result"
    }
   ],
   "source": [
    "t1[3][1]"
   ]
  },
  {
   "cell_type": "code",
   "execution_count": null,
   "id": "a908712d",
   "metadata": {},
   "outputs": [],
   "source": []
  }
 ],
 "metadata": {
  "kernelspec": {
   "display_name": "Python 3 (ipykernel)",
   "language": "python",
   "name": "python3"
  },
  "language_info": {
   "codemirror_mode": {
    "name": "ipython",
    "version": 3
   },
   "file_extension": ".py",
   "mimetype": "text/x-python",
   "name": "python",
   "nbconvert_exporter": "python",
   "pygments_lexer": "ipython3",
   "version": "3.10.11"
  }
 },
 "nbformat": 4,
 "nbformat_minor": 5
}
