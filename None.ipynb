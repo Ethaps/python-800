{
 "cells": [
  {
   "cell_type": "markdown",
   "id": "fae5b4b3",
   "metadata": {},
   "source": [
    "# The None keyword is used to define a null value, or no value at all.\n",
    "\n",
    "* None is not the same as 0, False, or an empty string.\n",
    "* None is a data type of its own (None Type) and only None can be None"
   ]
  },
  {
   "cell_type": "code",
   "execution_count": 1,
   "id": "2bacc6b4",
   "metadata": {},
   "outputs": [],
   "source": [
    "x= None"
   ]
  },
  {
   "cell_type": "code",
   "execution_count": 2,
   "id": "6b42435f",
   "metadata": {},
   "outputs": [
    {
     "data": {
      "text/plain": [
       "NoneType"
      ]
     },
     "execution_count": 2,
     "metadata": {},
     "output_type": "execute_result"
    }
   ],
   "source": [
    "type(x)"
   ]
  },
  {
   "cell_type": "code",
   "execution_count": 3,
   "id": "8ed8e311",
   "metadata": {},
   "outputs": [
    {
     "data": {
      "text/plain": [
       "False"
      ]
     },
     "execution_count": 3,
     "metadata": {},
     "output_type": "execute_result"
    }
   ],
   "source": [
    "x == 0"
   ]
  },
  {
   "cell_type": "code",
   "execution_count": 5,
   "id": "976f5897",
   "metadata": {},
   "outputs": [
    {
     "data": {
      "text/plain": [
       "False"
      ]
     },
     "execution_count": 5,
     "metadata": {},
     "output_type": "execute_result"
    }
   ],
   "source": [
    "x== \"\""
   ]
  },
  {
   "cell_type": "code",
   "execution_count": 6,
   "id": "f03f7681",
   "metadata": {},
   "outputs": [
    {
     "data": {
      "text/plain": [
       "False"
      ]
     },
     "execution_count": 6,
     "metadata": {},
     "output_type": "execute_result"
    }
   ],
   "source": [
    "x== False"
   ]
  },
  {
   "cell_type": "code",
   "execution_count": 7,
   "id": "2f09be49",
   "metadata": {},
   "outputs": [
    {
     "data": {
      "text/plain": [
       "True"
      ]
     },
     "execution_count": 7,
     "metadata": {},
     "output_type": "execute_result"
    }
   ],
   "source": [
    "x == None # not a preferred way of comparision"
   ]
  },
  {
   "cell_type": "markdown",
   "id": "03517694",
   "metadata": {},
   "source": [
    "# Identity operator\n",
    "Identity operators are used to compare the objects, not if they are equal, but if they are actually the same object, with the same memory locatoin:\n",
    "\n",
    "* is \n",
    "* is not"
   ]
  },
  {
   "cell_type": "code",
   "execution_count": 8,
   "id": "9aeb701f",
   "metadata": {},
   "outputs": [],
   "source": [
    "x= None"
   ]
  },
  {
   "cell_type": "code",
   "execution_count": 9,
   "id": "63136c95",
   "metadata": {},
   "outputs": [
    {
     "data": {
      "text/plain": [
       "True"
      ]
     },
     "execution_count": 9,
     "metadata": {},
     "output_type": "execute_result"
    }
   ],
   "source": [
    "x is None # preferred way"
   ]
  },
  {
   "cell_type": "code",
   "execution_count": 10,
   "id": "cb360b06",
   "metadata": {},
   "outputs": [
    {
     "data": {
      "text/plain": [
       "False"
      ]
     },
     "execution_count": 10,
     "metadata": {},
     "output_type": "execute_result"
    }
   ],
   "source": [
    "x is not None"
   ]
  },
  {
   "cell_type": "code",
   "execution_count": 11,
   "id": "beb57c73",
   "metadata": {},
   "outputs": [],
   "source": [
    "x= None"
   ]
  },
  {
   "cell_type": "code",
   "execution_count": 13,
   "id": "e93c0268",
   "metadata": {},
   "outputs": [
    {
     "name": "stdout",
     "output_type": "stream",
     "text": [
      "True\n",
      "False\n",
      "True\n"
     ]
    }
   ],
   "source": [
    "print (x is None)\n",
    "print (x is not None)\n",
    "print (x is not float)"
   ]
  },
  {
   "cell_type": "code",
   "execution_count": null,
   "id": "7a86a488",
   "metadata": {},
   "outputs": [],
   "source": []
  }
 ],
 "metadata": {
  "kernelspec": {
   "display_name": "Python 3 (ipykernel)",
   "language": "python",
   "name": "python3"
  },
  "language_info": {
   "codemirror_mode": {
    "name": "ipython",
    "version": 3
   },
   "file_extension": ".py",
   "mimetype": "text/x-python",
   "name": "python",
   "nbconvert_exporter": "python",
   "pygments_lexer": "ipython3",
   "version": "3.10.11"
  }
 },
 "nbformat": 4,
 "nbformat_minor": 5
}
