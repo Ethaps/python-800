{
 "cells": [
  {
   "cell_type": "code",
   "execution_count": 1,
   "id": "e45fc9fb",
   "metadata": {},
   "outputs": [
    {
     "name": "stdout",
     "output_type": "stream",
     "text": [
      "Before a= 5\n",
      "After a= 21\n"
     ]
    }
   ],
   "source": [
    "a = 5\n",
    "print (f'Before a= {a}')\n",
    "a= 21\n",
    "print (f'After a= {a}')"
   ]
  },
  {
   "cell_type": "code",
   "execution_count": 4,
   "id": "5cb06485",
   "metadata": {},
   "outputs": [
    {
     "name": "stdout",
     "output_type": "stream",
     "text": [
      "Before breakfast weight = 60.5\n",
      "After breakfast weight = 61.0\n"
     ]
    }
   ],
   "source": [
    "weight = 60.5\n",
    "\n",
    "print (f\"Before breakfast weight = {weight}\")\n",
    "\n",
    "weight= weight + 0.5\n",
    "\n",
    "print (f\"After breakfast weight = {weight}\")"
   ]
  },
  {
   "cell_type": "markdown",
   "id": "6fa48f1e",
   "metadata": {},
   "source": [
    "# Assigning multiple values to multiple variables"
   ]
  },
  {
   "cell_type": "code",
   "execution_count": 5,
   "id": "6d4b16c8",
   "metadata": {},
   "outputs": [],
   "source": [
    "a= 2\n",
    "b= 0.3\n",
    "c= 0.5 + 0.1j"
   ]
  },
  {
   "cell_type": "code",
   "execution_count": 6,
   "id": "e781e028",
   "metadata": {},
   "outputs": [
    {
     "data": {
      "text/plain": [
       "2"
      ]
     },
     "execution_count": 6,
     "metadata": {},
     "output_type": "execute_result"
    }
   ],
   "source": [
    "a"
   ]
  },
  {
   "cell_type": "code",
   "execution_count": 7,
   "id": "6469cf84",
   "metadata": {},
   "outputs": [
    {
     "data": {
      "text/plain": [
       "0.3"
      ]
     },
     "execution_count": 7,
     "metadata": {},
     "output_type": "execute_result"
    }
   ],
   "source": [
    "b"
   ]
  },
  {
   "cell_type": "code",
   "execution_count": 8,
   "id": "b67812cb",
   "metadata": {},
   "outputs": [
    {
     "data": {
      "text/plain": [
       "(0.5+0.1j)"
      ]
     },
     "execution_count": 8,
     "metadata": {},
     "output_type": "execute_result"
    }
   ],
   "source": [
    "c"
   ]
  },
  {
   "cell_type": "code",
   "execution_count": 13,
   "id": "aefd1592",
   "metadata": {},
   "outputs": [],
   "source": [
    "a, b, c= 2, 0.3, 0.5+0.1j #assigning multiple values to multiple variables"
   ]
  },
  {
   "cell_type": "code",
   "execution_count": 10,
   "id": "3315fbf4",
   "metadata": {},
   "outputs": [
    {
     "data": {
      "text/plain": [
       "2"
      ]
     },
     "execution_count": 10,
     "metadata": {},
     "output_type": "execute_result"
    }
   ],
   "source": [
    "a"
   ]
  },
  {
   "cell_type": "code",
   "execution_count": 11,
   "id": "c9e48209",
   "metadata": {},
   "outputs": [
    {
     "data": {
      "text/plain": [
       "0.3"
      ]
     },
     "execution_count": 11,
     "metadata": {},
     "output_type": "execute_result"
    }
   ],
   "source": [
    "b"
   ]
  },
  {
   "cell_type": "code",
   "execution_count": 12,
   "id": "7e388316",
   "metadata": {},
   "outputs": [
    {
     "data": {
      "text/plain": [
       "(0.5+0.1j)"
      ]
     },
     "execution_count": 12,
     "metadata": {},
     "output_type": "execute_result"
    }
   ],
   "source": [
    "c"
   ]
  },
  {
   "cell_type": "code",
   "execution_count": null,
   "id": "a3b7b5d6",
   "metadata": {},
   "outputs": [],
   "source": []
  }
 ],
 "metadata": {
  "kernelspec": {
   "display_name": "Python 3 (ipykernel)",
   "language": "python",
   "name": "python3"
  },
  "language_info": {
   "codemirror_mode": {
    "name": "ipython",
    "version": 3
   },
   "file_extension": ".py",
   "mimetype": "text/x-python",
   "name": "python",
   "nbconvert_exporter": "python",
   "pygments_lexer": "ipython3",
   "version": "3.10.11"
  }
 },
 "nbformat": 4,
 "nbformat_minor": 5
}
