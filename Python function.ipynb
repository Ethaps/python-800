{
 "cells": [
  {
   "cell_type": "code",
   "execution_count": 1,
   "id": "82106af2",
   "metadata": {},
   "outputs": [
    {
     "name": "stdout",
     "output_type": "stream",
     "text": [
      "14\n"
     ]
    }
   ],
   "source": [
    "a = 5\n",
    "b = 9\n",
    "c = a+b\n",
    "print(c)"
   ]
  },
  {
   "cell_type": "code",
   "execution_count": 3,
   "id": "6a017a9f",
   "metadata": {},
   "outputs": [],
   "source": [
    "def add_two_numbers ():\n",
    "    a = 5\n",
    "    b = 9\n",
    "    c = a+b\n",
    "    print (c)"
   ]
  },
  {
   "cell_type": "code",
   "execution_count": 4,
   "id": "ad2fd20a",
   "metadata": {},
   "outputs": [
    {
     "name": "stdout",
     "output_type": "stream",
     "text": [
      "14\n"
     ]
    }
   ],
   "source": [
    "add_two_numbers()"
   ]
  },
  {
   "cell_type": "code",
   "execution_count": 5,
   "id": "5e0e72db",
   "metadata": {},
   "outputs": [
    {
     "name": "stdout",
     "output_type": "stream",
     "text": [
      "14\n"
     ]
    }
   ],
   "source": [
    "add_two_numbers()"
   ]
  },
  {
   "cell_type": "code",
   "execution_count": 6,
   "id": "6892914b",
   "metadata": {},
   "outputs": [
    {
     "name": "stdout",
     "output_type": "stream",
     "text": [
      "14\n"
     ]
    }
   ],
   "source": [
    "add_two_numbers()"
   ]
  },
  {
   "cell_type": "code",
   "execution_count": 8,
   "id": "78375e5c",
   "metadata": {},
   "outputs": [],
   "source": [
    "def add_two_numbers(a,b): # arguments of a function\n",
    "    C= a+b\n",
    "    print(c)"
   ]
  },
  {
   "cell_type": "code",
   "execution_count": 10,
   "id": "0c2cd6eb",
   "metadata": {},
   "outputs": [
    {
     "name": "stdout",
     "output_type": "stream",
     "text": [
      "14\n"
     ]
    }
   ],
   "source": [
    "add_two_numbers(a= 9, b=7)"
   ]
  },
  {
   "cell_type": "code",
   "execution_count": 12,
   "id": "d165e1c2",
   "metadata": {},
   "outputs": [
    {
     "name": "stdout",
     "output_type": "stream",
     "text": [
      "14\n"
     ]
    }
   ],
   "source": [
    "add_two_numbers(a= 2, b=-88)"
   ]
  },
  {
   "cell_type": "code",
   "execution_count": 13,
   "id": "c6dee0f3",
   "metadata": {},
   "outputs": [
    {
     "name": "stdout",
     "output_type": "stream",
     "text": [
      "14\n"
     ]
    }
   ],
   "source": [
    "add_two_numbers(a= -88, b=2)"
   ]
  },
  {
   "cell_type": "code",
   "execution_count": 14,
   "id": "8103c98d",
   "metadata": {},
   "outputs": [],
   "source": [
    "def div(a,b):\n",
    "    print (a/b)"
   ]
  },
  {
   "cell_type": "code",
   "execution_count": 15,
   "id": "13255a81",
   "metadata": {},
   "outputs": [
    {
     "name": "stdout",
     "output_type": "stream",
     "text": [
      "4.0\n"
     ]
    }
   ],
   "source": [
    "div(8,2)"
   ]
  },
  {
   "cell_type": "code",
   "execution_count": 17,
   "id": "1b03718b",
   "metadata": {},
   "outputs": [
    {
     "name": "stdout",
     "output_type": "stream",
     "text": [
      "0.25\n"
     ]
    }
   ],
   "source": [
    "div(2,8)"
   ]
  },
  {
   "cell_type": "code",
   "execution_count": 18,
   "id": "2cfb655d",
   "metadata": {},
   "outputs": [
    {
     "name": "stdout",
     "output_type": "stream",
     "text": [
      "4.0\n"
     ]
    }
   ],
   "source": [
    "div(a=8, b=2)"
   ]
  },
  {
   "cell_type": "code",
   "execution_count": 20,
   "id": "35ed2a6f",
   "metadata": {},
   "outputs": [
    {
     "name": "stdout",
     "output_type": "stream",
     "text": [
      "4.0\n"
     ]
    }
   ],
   "source": [
    "div(b=2, a=8)"
   ]
  },
  {
   "cell_type": "code",
   "execution_count": 21,
   "id": "4f4c367c",
   "metadata": {},
   "outputs": [],
   "source": [
    "def div(a,b):\n",
    "    print (a/b)"
   ]
  },
  {
   "cell_type": "code",
   "execution_count": 22,
   "id": "69975f60",
   "metadata": {},
   "outputs": [
    {
     "name": "stdout",
     "output_type": "stream",
     "text": [
      "4.0\n"
     ]
    }
   ],
   "source": [
    "a= 8\n",
    "b= 2\n",
    "div(a=a, b=b)"
   ]
  },
  {
   "cell_type": "code",
   "execution_count": 23,
   "id": "fa26b33b",
   "metadata": {},
   "outputs": [
    {
     "name": "stdout",
     "output_type": "stream",
     "text": [
      "4.0\n"
     ]
    }
   ],
   "source": [
    "x=8\n",
    "y=2\n",
    "output= div(a=x, b=y)"
   ]
  },
  {
   "cell_type": "code",
   "execution_count": 29,
   "id": "fc4b1174",
   "metadata": {},
   "outputs": [],
   "source": [
    "def div(a,b):\n",
    "    c=a/b\n",
    "    return c"
   ]
  },
  {
   "cell_type": "code",
   "execution_count": 30,
   "id": "215c5954",
   "metadata": {},
   "outputs": [
    {
     "data": {
      "text/plain": [
       "11.0"
      ]
     },
     "execution_count": 30,
     "metadata": {},
     "output_type": "execute_result"
    }
   ],
   "source": [
    "x= 8\n",
    "y= 2\n",
    "output = div(a=x, b=y)\n",
    "output + 7"
   ]
  },
  {
   "cell_type": "markdown",
   "id": "60ef9ba2",
   "metadata": {},
   "source": [
    "# syntax\n",
    "\n",
    "```python\n",
    "def function_name(arguments):\n",
    "    # function body\n",
    "    return Expression\n",
    "```"
   ]
  },
  {
   "cell_type": "code",
   "execution_count": 33,
   "id": "dead79a2",
   "metadata": {},
   "outputs": [],
   "source": [
    "def greet(name, msg):\n",
    "    print(f'Hi{name}, {msg}')"
   ]
  },
  {
   "cell_type": "code",
   "execution_count": 34,
   "id": "6bbc27d6",
   "metadata": {},
   "outputs": [
    {
     "name": "stdout",
     "output_type": "stream",
     "text": [
      "HiKshitiz, Good morning\n"
     ]
    }
   ],
   "source": [
    "greet(name= 'Kshitiz', msg= 'Good morning')"
   ]
  },
  {
   "cell_type": "code",
   "execution_count": 35,
   "id": "4011ca83",
   "metadata": {},
   "outputs": [
    {
     "name": "stdout",
     "output_type": "stream",
     "text": [
      "HiChampa, Good morning\n"
     ]
    }
   ],
   "source": [
    "greet(name='Champa', msg= 'Good morning')"
   ]
  },
  {
   "cell_type": "markdown",
   "id": "dfe5696d",
   "metadata": {},
   "source": [
    "# Default argument"
   ]
  },
  {
   "cell_type": "code",
   "execution_count": 42,
   "id": "8b6bed4c",
   "metadata": {},
   "outputs": [],
   "source": [
    "def greet(name, msg='Good morning'): # msg is a default argument\n",
    "    print(f\"Hi {name}, {msg}\")"
   ]
  },
  {
   "cell_type": "code",
   "execution_count": 40,
   "id": "8e66a42f",
   "metadata": {},
   "outputs": [
    {
     "name": "stdout",
     "output_type": "stream",
     "text": [
      "Hi Champa, Good morning\n"
     ]
    }
   ],
   "source": [
    "greet(name='Champa')"
   ]
  },
  {
   "cell_type": "code",
   "execution_count": 41,
   "id": "f686eb1c",
   "metadata": {},
   "outputs": [
    {
     "name": "stdout",
     "output_type": "stream",
     "text": [
      "Hi Neta Jeu, Good Afternoon\n"
     ]
    }
   ],
   "source": [
    "greet(name='Neta Jeu', msg='Good Afternoon')"
   ]
  },
  {
   "cell_type": "markdown",
   "id": "f22d48be",
   "metadata": {},
   "source": [
    "# non-default argument does not follow default argument\n",
    "\n",
    "* msg is a default argument\n",
    "* name is not-default argument"
   ]
  },
  {
   "cell_type": "markdown",
   "id": "f13b00de",
   "metadata": {},
   "source": [
    "def greet(msg=\"Good Morning\", name): # msg is a default argument\n",
    "    print(f'Hi{name},{msg}\"\")"
   ]
  },
  {
   "cell_type": "markdown",
   "id": "fe25b3f5",
   "metadata": {},
   "source": [
    "# local and global variable"
   ]
  },
  {
   "cell_type": "code",
   "execution_count": 53,
   "id": "5d76f613",
   "metadata": {},
   "outputs": [],
   "source": [
    "x= 'awesome'\n",
    "def say():\n",
    "    x= 'fantastic'\n",
    "    print(f\"{x}\")\n",
    "          "
   ]
  },
  {
   "cell_type": "code",
   "execution_count": 54,
   "id": "ac2b140f",
   "metadata": {},
   "outputs": [
    {
     "data": {
      "text/plain": [
       "'awesome'"
      ]
     },
     "execution_count": 54,
     "metadata": {},
     "output_type": "execute_result"
    }
   ],
   "source": [
    "x"
   ]
  },
  {
   "cell_type": "code",
   "execution_count": 51,
   "id": "810f8d0e",
   "metadata": {},
   "outputs": [
    {
     "name": "stdout",
     "output_type": "stream",
     "text": [
      "fantastic\n"
     ]
    }
   ],
   "source": [
    "say()"
   ]
  },
  {
   "cell_type": "code",
   "execution_count": 55,
   "id": "a80f161f",
   "metadata": {},
   "outputs": [],
   "source": [
    "x= 'awesome'\n",
    "def say():\n",
    "    global x\n",
    "    x= 'fantastic'\n",
    "    print(f\"{x}\")"
   ]
  },
  {
   "cell_type": "code",
   "execution_count": 56,
   "id": "96253305",
   "metadata": {},
   "outputs": [
    {
     "data": {
      "text/plain": [
       "'awesome'"
      ]
     },
     "execution_count": 56,
     "metadata": {},
     "output_type": "execute_result"
    }
   ],
   "source": [
    "x"
   ]
  },
  {
   "cell_type": "markdown",
   "id": "843fde05",
   "metadata": {},
   "source": [
    "# Classwork: write a function to check if the given input number is prime or not if prime return true else return false"
   ]
  },
  {
   "cell_type": "markdown",
   "id": "4df8f71e",
   "metadata": {},
   "source": [
    "Write a python function that accepts a string and calculate the number of upper-case letters and lower-case letters"
   ]
  },
  {
   "cell_type": "code",
   "execution_count": 60,
   "id": "f929c462",
   "metadata": {},
   "outputs": [
    {
     "name": "stdout",
     "output_type": "stream",
     "text": [
      "enter a number3\n"
     ]
    },
    {
     "ename": "TypeError",
     "evalue": "'str' object cannot be interpreted as an integer",
     "output_type": "error",
     "traceback": [
      "\u001b[1;31m---------------------------------------------------------------------------\u001b[0m",
      "\u001b[1;31mTypeError\u001b[0m                                 Traceback (most recent call last)",
      "Cell \u001b[1;32mIn[60], line 3\u001b[0m\n\u001b[0;32m      1\u001b[0m x\u001b[38;5;241m=\u001b[39m \u001b[38;5;28minput\u001b[39m(\u001b[38;5;124m'\u001b[39m\u001b[38;5;124menter a number\u001b[39m\u001b[38;5;124m'\u001b[39m)\n\u001b[0;32m      2\u001b[0m y\u001b[38;5;241m=\u001b[39m\u001b[38;5;241m0\u001b[39m\n\u001b[1;32m----> 3\u001b[0m \u001b[38;5;28;01mfor\u001b[39;00m index \u001b[38;5;129;01min\u001b[39;00m \u001b[38;5;28;43mrange\u001b[39;49m\u001b[43m \u001b[49m\u001b[43m(\u001b[49m\u001b[38;5;241;43m1\u001b[39;49m\u001b[43m,\u001b[49m\u001b[43mx\u001b[49m\u001b[43m,\u001b[49m\u001b[38;5;241;43m1\u001b[39;49m\u001b[43m)\u001b[49m:\n\u001b[0;32m      4\u001b[0m     y\u001b[38;5;241m=\u001b[39m y \u001b[38;5;241m+\u001b[39m x\u001b[38;5;241m%\u001b[39mindex\n\u001b[0;32m      6\u001b[0m \u001b[38;5;28;01mif\u001b[39;00m y\u001b[38;5;241m==\u001b[39m\u001b[38;5;241m2\u001b[39m:\n",
      "\u001b[1;31mTypeError\u001b[0m: 'str' object cannot be interpreted as an integer"
     ]
    }
   ],
   "source": [
    "\n",
    "    x= input('enter a number')\n",
    "    y=0\n",
    "    for index in range (1,x,1):\n",
    "        y= y + x%index\n",
    "    \n",
    "    if y==2:\n",
    "        print(\"Prime\")\n",
    "    else:\n",
    "        print('Not prime')\n",
    "        \n",
    "        \n",
    "        "
   ]
  },
  {
   "cell_type": "code",
   "execution_count": null,
   "id": "567cac1f",
   "metadata": {},
   "outputs": [],
   "source": []
  }
 ],
 "metadata": {
  "kernelspec": {
   "display_name": "Python 3 (ipykernel)",
   "language": "python",
   "name": "python3"
  },
  "language_info": {
   "codemirror_mode": {
    "name": "ipython",
    "version": 3
   },
   "file_extension": ".py",
   "mimetype": "text/x-python",
   "name": "python",
   "nbconvert_exporter": "python",
   "pygments_lexer": "ipython3",
   "version": "3.10.11"
  }
 },
 "nbformat": 4,
 "nbformat_minor": 5
}
