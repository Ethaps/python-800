{
 "cells": [
  {
   "cell_type": "code",
   "execution_count": 5,
   "id": "d083e282",
   "metadata": {},
   "outputs": [],
   "source": [
    "msg1 = 'hello'\n",
    "msg2 = \"hello\""
   ]
  },
  {
   "cell_type": "code",
   "execution_count": 7,
   "id": "b66f24ae",
   "metadata": {},
   "outputs": [
    {
     "data": {
      "text/plain": [
       "True"
      ]
     },
     "execution_count": 7,
     "metadata": {},
     "output_type": "execute_result"
    }
   ],
   "source": [
    "msg1== msg2"
   ]
  },
  {
   "cell_type": "markdown",
   "id": "50387608",
   "metadata": {},
   "source": [
    "# single line string and multiline string"
   ]
  },
  {
   "cell_type": "code",
   "execution_count": 9,
   "id": "0ea8e0f5",
   "metadata": {},
   "outputs": [],
   "source": [
    "# single line\n",
    "speech = \"My name is Durgesh Thapa. \""
   ]
  },
  {
   "cell_type": "code",
   "execution_count": 10,
   "id": "f6c5488d",
   "metadata": {},
   "outputs": [
    {
     "data": {
      "text/plain": [
       "'My name is Durgesh Thapa. '"
      ]
     },
     "execution_count": 10,
     "metadata": {},
     "output_type": "execute_result"
    }
   ],
   "source": [
    "speech"
   ]
  },
  {
   "cell_type": "code",
   "execution_count": 11,
   "id": "bcc95c11",
   "metadata": {},
   "outputs": [
    {
     "ename": "SyntaxError",
     "evalue": "unterminated string literal (detected at line 3) (113086559.py, line 3)",
     "output_type": "error",
     "traceback": [
      "\u001b[1;36m  Cell \u001b[1;32mIn[11], line 3\u001b[1;36m\u001b[0m\n\u001b[1;33m    speech = \" Suna Saili Saili Pardesh Bata Ma Aaula\u001b[0m\n\u001b[1;37m             ^\u001b[0m\n\u001b[1;31mSyntaxError\u001b[0m\u001b[1;31m:\u001b[0m unterminated string literal (detected at line 3)\n"
     ]
    }
   ],
   "source": [
    "# you cannot use one quote to write multiline string\n",
    "\n",
    "geet = \" Suna Saili Saili Pardesh Bata Ma Aaula\n",
    "Suna Saili Saili Chalis Katesi Ramaula\n",
    "Suna Saili Saili Pardesh Bata Ma Aaula\n",
    "Suna Saili Saili Chalis Katesi Ramaula\""
   ]
  },
  {
   "cell_type": "code",
   "execution_count": 18,
   "id": "dab03225",
   "metadata": {},
   "outputs": [],
   "source": [
    "# use tripple quotes\n",
    "\n",
    "geet= \"\"\"  Suna Saili Saili Pardesh Bata Ma Aaula\n",
    "Suna Saili Saili Chalis Katesi Ramaula\n",
    "Suna Saili Saili Pardesh Bata Ma Aaula\n",
    "Suna Saili Saili Chalis Katesi Ramaula \"\"\""
   ]
  },
  {
   "cell_type": "code",
   "execution_count": 19,
   "id": "bec6b7a0",
   "metadata": {},
   "outputs": [
    {
     "name": "stdout",
     "output_type": "stream",
     "text": [
      "  Suna Saili Saili Pardesh Bata Ma Aaula\n",
      "Suna Saili Saili Chalis Katesi Ramaula\n",
      "Suna Saili Saili Pardesh Bata Ma Aaula\n",
      "Suna Saili Saili Chalis Katesi Ramaula \n"
     ]
    }
   ],
   "source": [
    "print(geet)"
   ]
  },
  {
   "cell_type": "code",
   "execution_count": 20,
   "id": "f9b5220b",
   "metadata": {},
   "outputs": [
    {
     "data": {
      "text/plain": [
       "'  Suna Saili Saili Pardesh Bata Ma Aaula\\nSuna Saili Saili Chalis Katesi Ramaula\\nSuna Saili Saili Pardesh Bata Ma Aaula\\nSuna Saili Saili Chalis Katesi Ramaula '"
      ]
     },
     "execution_count": 20,
     "metadata": {},
     "output_type": "execute_result"
    }
   ],
   "source": [
    "geet"
   ]
  },
  {
   "cell_type": "code",
   "execution_count": 23,
   "id": "eefbd21a",
   "metadata": {},
   "outputs": [
    {
     "name": "stdout",
     "output_type": "stream",
     "text": [
      "that's\n"
     ]
    }
   ],
   "source": [
    "print (\"that's\")"
   ]
  },
  {
   "cell_type": "code",
   "execution_count": 26,
   "id": "27668012",
   "metadata": {},
   "outputs": [
    {
     "name": "stdout",
     "output_type": "stream",
     "text": [
      "that's\n"
     ]
    }
   ],
   "source": [
    "print ('that\\'s')"
   ]
  },
  {
   "cell_type": "markdown",
   "id": "5ffd050b",
   "metadata": {},
   "source": [
    "# Example"
   ]
  },
  {
   "cell_type": "code",
   "execution_count": 27,
   "id": "5ada8438",
   "metadata": {},
   "outputs": [],
   "source": [
    "s= 'hello world'"
   ]
  },
  {
   "cell_type": "code",
   "execution_count": 28,
   "id": "8ac81da6",
   "metadata": {},
   "outputs": [
    {
     "data": {
      "text/plain": [
       "'e'"
      ]
     },
     "execution_count": 28,
     "metadata": {},
     "output_type": "execute_result"
    }
   ],
   "source": [
    "s[1]"
   ]
  },
  {
   "cell_type": "code",
   "execution_count": 30,
   "id": "3ea377e7",
   "metadata": {},
   "outputs": [
    {
     "data": {
      "text/plain": [
       "'h'"
      ]
     },
     "execution_count": 30,
     "metadata": {},
     "output_type": "execute_result"
    }
   ],
   "source": [
    "s[0] # indexing starts from zero"
   ]
  },
  {
   "cell_type": "code",
   "execution_count": 31,
   "id": "4887be77",
   "metadata": {},
   "outputs": [
    {
     "data": {
      "text/plain": [
       "'l'"
      ]
     },
     "execution_count": 31,
     "metadata": {},
     "output_type": "execute_result"
    }
   ],
   "source": [
    "s[2]"
   ]
  },
  {
   "cell_type": "code",
   "execution_count": 32,
   "id": "a9dea34f",
   "metadata": {},
   "outputs": [
    {
     "data": {
      "text/plain": [
       "'l'"
      ]
     },
     "execution_count": 32,
     "metadata": {},
     "output_type": "execute_result"
    }
   ],
   "source": [
    "s[3]"
   ]
  },
  {
   "cell_type": "code",
   "execution_count": 33,
   "id": "53433f1f",
   "metadata": {},
   "outputs": [
    {
     "data": {
      "text/plain": [
       "'o'"
      ]
     },
     "execution_count": 33,
     "metadata": {},
     "output_type": "execute_result"
    }
   ],
   "source": [
    "s[4]"
   ]
  },
  {
   "cell_type": "code",
   "execution_count": 34,
   "id": "26671ae9",
   "metadata": {},
   "outputs": [
    {
     "data": {
      "text/plain": [
       "' '"
      ]
     },
     "execution_count": 34,
     "metadata": {},
     "output_type": "execute_result"
    }
   ],
   "source": [
    "s[5]"
   ]
  },
  {
   "cell_type": "code",
   "execution_count": 35,
   "id": "1e1dc499",
   "metadata": {},
   "outputs": [
    {
     "data": {
      "text/plain": [
       "'w'"
      ]
     },
     "execution_count": 35,
     "metadata": {},
     "output_type": "execute_result"
    }
   ],
   "source": [
    "s[6]"
   ]
  },
  {
   "cell_type": "code",
   "execution_count": 36,
   "id": "83b1a1f9",
   "metadata": {},
   "outputs": [
    {
     "data": {
      "text/plain": [
       "'o'"
      ]
     },
     "execution_count": 36,
     "metadata": {},
     "output_type": "execute_result"
    }
   ],
   "source": [
    "s[7]"
   ]
  },
  {
   "cell_type": "code",
   "execution_count": 37,
   "id": "3826bc35",
   "metadata": {},
   "outputs": [
    {
     "data": {
      "text/plain": [
       "'r'"
      ]
     },
     "execution_count": 37,
     "metadata": {},
     "output_type": "execute_result"
    }
   ],
   "source": [
    "s[8]"
   ]
  },
  {
   "cell_type": "code",
   "execution_count": 38,
   "id": "63ae188c",
   "metadata": {},
   "outputs": [
    {
     "data": {
      "text/plain": [
       "'l'"
      ]
     },
     "execution_count": 38,
     "metadata": {},
     "output_type": "execute_result"
    }
   ],
   "source": [
    "s[9]"
   ]
  },
  {
   "cell_type": "code",
   "execution_count": 39,
   "id": "cd0a13c4",
   "metadata": {},
   "outputs": [
    {
     "data": {
      "text/plain": [
       "'d'"
      ]
     },
     "execution_count": 39,
     "metadata": {},
     "output_type": "execute_result"
    }
   ],
   "source": [
    "s[10]"
   ]
  },
  {
   "cell_type": "code",
   "execution_count": 41,
   "id": "243cc9ca",
   "metadata": {},
   "outputs": [
    {
     "ename": "IndexError",
     "evalue": "string index out of range",
     "output_type": "error",
     "traceback": [
      "\u001b[1;31m---------------------------------------------------------------------------\u001b[0m",
      "\u001b[1;31mIndexError\u001b[0m                                Traceback (most recent call last)",
      "Cell \u001b[1;32mIn[41], line 1\u001b[0m\n\u001b[1;32m----> 1\u001b[0m \u001b[43ms\u001b[49m\u001b[43m[\u001b[49m\u001b[38;5;241;43m11\u001b[39;49m\u001b[43m]\u001b[49m\n",
      "\u001b[1;31mIndexError\u001b[0m: string index out of range"
     ]
    }
   ],
   "source": [
    "s[11]"
   ]
  },
  {
   "cell_type": "code",
   "execution_count": 42,
   "id": "21d83611",
   "metadata": {},
   "outputs": [
    {
     "data": {
      "text/plain": [
       "11"
      ]
     },
     "execution_count": 42,
     "metadata": {},
     "output_type": "execute_result"
    }
   ],
   "source": [
    "len(s)"
   ]
  },
  {
   "cell_type": "code",
   "execution_count": 44,
   "id": "1d851c67",
   "metadata": {},
   "outputs": [
    {
     "data": {
      "text/plain": [
       "'or'"
      ]
     },
     "execution_count": 44,
     "metadata": {},
     "output_type": "execute_result"
    }
   ],
   "source": [
    "s[7:9]"
   ]
  },
  {
   "cell_type": "code",
   "execution_count": 46,
   "id": "74acb81c",
   "metadata": {},
   "outputs": [
    {
     "data": {
      "text/plain": [
       "range(0, 11)"
      ]
     },
     "execution_count": 46,
     "metadata": {},
     "output_type": "execute_result"
    }
   ],
   "source": [
    "range(0, len(s), 1)"
   ]
  },
  {
   "cell_type": "code",
   "execution_count": 47,
   "id": "da642469",
   "metadata": {},
   "outputs": [
    {
     "data": {
      "text/plain": [
       "[0, 1, 2, 3, 4, 5, 6, 7, 8, 9, 10]"
      ]
     },
     "execution_count": 47,
     "metadata": {},
     "output_type": "execute_result"
    }
   ],
   "source": [
    "list (range(0, len(s), 1))"
   ]
  },
  {
   "cell_type": "code",
   "execution_count": 48,
   "id": "f59a6246",
   "metadata": {},
   "outputs": [
    {
     "name": "stdout",
     "output_type": "stream",
     "text": [
      "0\n",
      "1\n",
      "2\n",
      "3\n",
      "4\n",
      "5\n",
      "6\n",
      "7\n",
      "8\n",
      "9\n",
      "10\n"
     ]
    }
   ],
   "source": [
    "for index in range(0, len(s), 1):\n",
    "    print (index)"
   ]
  },
  {
   "cell_type": "code",
   "execution_count": 49,
   "id": "9bdc8ec3",
   "metadata": {},
   "outputs": [
    {
     "name": "stdout",
     "output_type": "stream",
     "text": [
      "0\n",
      "2\n",
      "4\n",
      "6\n",
      "8\n",
      "10\n"
     ]
    }
   ],
   "source": [
    "for index in range (0, len(s), 2):\n",
    "    print (index)"
   ]
  },
  {
   "cell_type": "code",
   "execution_count": 50,
   "id": "9aec4f10",
   "metadata": {},
   "outputs": [
    {
     "name": "stdout",
     "output_type": "stream",
     "text": [
      "h\n",
      "e\n",
      "l\n",
      "l\n",
      "o\n",
      " \n",
      "w\n",
      "o\n",
      "r\n",
      "l\n",
      "d\n"
     ]
    }
   ],
   "source": [
    "for index in range (0, len(s), 1):\n",
    "    print (s[index])"
   ]
  },
  {
   "cell_type": "code",
   "execution_count": 51,
   "id": "4111adfc",
   "metadata": {},
   "outputs": [
    {
     "name": "stdout",
     "output_type": "stream",
     "text": [
      "0 h\n",
      "1 e\n",
      "2 l\n",
      "3 l\n",
      "4 o\n",
      "5  \n",
      "6 w\n",
      "7 o\n",
      "8 r\n",
      "9 l\n",
      "10 d\n"
     ]
    }
   ],
   "source": [
    "for index in range (0, len(s), 1):\n",
    "    print (index, s[index])"
   ]
  },
  {
   "cell_type": "code",
   "execution_count": null,
   "id": "9d3775db",
   "metadata": {},
   "outputs": [],
   "source": []
  }
 ],
 "metadata": {
  "kernelspec": {
   "display_name": "Python 3 (ipykernel)",
   "language": "python",
   "name": "python3"
  },
  "language_info": {
   "codemirror_mode": {
    "name": "ipython",
    "version": 3
   },
   "file_extension": ".py",
   "mimetype": "text/x-python",
   "name": "python",
   "nbconvert_exporter": "python",
   "pygments_lexer": "ipython3",
   "version": "3.10.11"
  }
 },
 "nbformat": 4,
 "nbformat_minor": 5
}
