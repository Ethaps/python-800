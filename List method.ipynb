{
 "cells": [
  {
   "cell_type": "markdown",
   "id": "356f061c",
   "metadata": {},
   "source": [
    "# .append()"
   ]
  },
  {
   "cell_type": "code",
   "execution_count": 3,
   "id": "249384e0",
   "metadata": {},
   "outputs": [],
   "source": [
    "student = []"
   ]
  },
  {
   "cell_type": "code",
   "execution_count": 4,
   "id": "3a370098",
   "metadata": {},
   "outputs": [
    {
     "data": {
      "text/plain": [
       "[]"
      ]
     },
     "execution_count": 4,
     "metadata": {},
     "output_type": "execute_result"
    }
   ],
   "source": [
    "student"
   ]
  },
  {
   "cell_type": "code",
   "execution_count": 5,
   "id": "de4f18cc",
   "metadata": {},
   "outputs": [],
   "source": [
    "student.append('Susan')"
   ]
  },
  {
   "cell_type": "code",
   "execution_count": 6,
   "id": "9e08f334",
   "metadata": {},
   "outputs": [
    {
     "data": {
      "text/plain": [
       "['Susan']"
      ]
     },
     "execution_count": 6,
     "metadata": {},
     "output_type": "execute_result"
    }
   ],
   "source": [
    "student"
   ]
  },
  {
   "cell_type": "code",
   "execution_count": 8,
   "id": "eee67184",
   "metadata": {},
   "outputs": [],
   "source": [
    "student.append('Punam')"
   ]
  },
  {
   "cell_type": "code",
   "execution_count": 9,
   "id": "e2cdd02d",
   "metadata": {},
   "outputs": [
    {
     "data": {
      "text/plain": [
       "['Susan', 'Punam']"
      ]
     },
     "execution_count": 9,
     "metadata": {},
     "output_type": "execute_result"
    }
   ],
   "source": [
    "student"
   ]
  },
  {
   "cell_type": "code",
   "execution_count": 11,
   "id": "cb75bd78",
   "metadata": {},
   "outputs": [
    {
     "data": {
      "text/plain": [
       "'Punam'"
      ]
     },
     "execution_count": 11,
     "metadata": {},
     "output_type": "execute_result"
    }
   ],
   "source": [
    "student[-1] #negative index"
   ]
  },
  {
   "cell_type": "code",
   "execution_count": 12,
   "id": "23de9f2d",
   "metadata": {},
   "outputs": [],
   "source": [
    "student.append('Thani')"
   ]
  },
  {
   "cell_type": "code",
   "execution_count": 13,
   "id": "ab6f7f89",
   "metadata": {},
   "outputs": [
    {
     "data": {
      "text/plain": [
       "['Susan', 'Punam', 'Thani']"
      ]
     },
     "execution_count": 13,
     "metadata": {},
     "output_type": "execute_result"
    }
   ],
   "source": [
    "student"
   ]
  },
  {
   "cell_type": "code",
   "execution_count": 14,
   "id": "7a943c1d",
   "metadata": {},
   "outputs": [
    {
     "data": {
      "text/plain": [
       "'Thani'"
      ]
     },
     "execution_count": 14,
     "metadata": {},
     "output_type": "execute_result"
    }
   ],
   "source": [
    "student[-1] #negative index"
   ]
  },
  {
   "cell_type": "markdown",
   "id": "7ce589ed",
   "metadata": {},
   "source": [
    "# write a program to find list of even number between 1 to 25"
   ]
  },
  {
   "cell_type": "code",
   "execution_count": 36,
   "id": "14806693",
   "metadata": {},
   "outputs": [
    {
     "ename": "SyntaxError",
     "evalue": "invalid syntax (2594518261.py, line 3)",
     "output_type": "error",
     "traceback": [
      "\u001b[1;36m  Cell \u001b[1;32mIn[36], line 3\u001b[1;36m\u001b[0m\n\u001b[1;33m    for a<25:\u001b[0m\n\u001b[1;37m         ^\u001b[0m\n\u001b[1;31mSyntaxError\u001b[0m\u001b[1;31m:\u001b[0m invalid syntax\n"
     ]
    }
   ],
   "source": [
    "a=0\n",
    "even_number= list()\n",
    "for a<25:\n",
    "    a= a+2\n",
    "    even_number.append(a)\n"
   ]
  },
  {
   "cell_type": "code",
   "execution_count": 34,
   "id": "a150012d",
   "metadata": {},
   "outputs": [],
   "source": [
    "even= list()\n",
    "for index in range(2,25,2):\n",
    "    even.append(index)\n",
    "    "
   ]
  },
  {
   "cell_type": "code",
   "execution_count": 35,
   "id": "b60ba250",
   "metadata": {},
   "outputs": [
    {
     "data": {
      "text/plain": [
       "[2, 4, 6, 8, 10, 12, 14, 16, 18, 20, 22, 24]"
      ]
     },
     "execution_count": 35,
     "metadata": {},
     "output_type": "execute_result"
    }
   ],
   "source": [
    "even"
   ]
  },
  {
   "cell_type": "code",
   "execution_count": 37,
   "id": "9f2ab3fc",
   "metadata": {},
   "outputs": [
    {
     "name": "stdout",
     "output_type": "stream",
     "text": [
      "[]\n",
      "[2]\n",
      "[2, 4]\n",
      "[2, 4, 6]\n",
      "[2, 4, 6, 8]\n",
      "[2, 4, 6, 8, 10]\n",
      "[2, 4, 6, 8, 10, 12]\n",
      "[2, 4, 6, 8, 10, 12, 14]\n",
      "[2, 4, 6, 8, 10, 12, 14, 16]\n",
      "[2, 4, 6, 8, 10, 12, 14, 16, 18]\n",
      "[2, 4, 6, 8, 10, 12, 14, 16, 18, 20]\n",
      "[2, 4, 6, 8, 10, 12, 14, 16, 18, 20, 22]\n"
     ]
    }
   ],
   "source": [
    "even= list()\n",
    "for index in range(2,25,2):\n",
    "    print(even)\n",
    "    even.append(index)\n",
    "    "
   ]
  },
  {
   "cell_type": "code",
   "execution_count": 38,
   "id": "3d129fc0",
   "metadata": {},
   "outputs": [],
   "source": [
    "even = []\n",
    "for i in range(1,23,1):\n",
    "    if i%2==0:\n",
    "        even.append(i)"
   ]
  },
  {
   "cell_type": "code",
   "execution_count": 39,
   "id": "f8ca1775",
   "metadata": {},
   "outputs": [
    {
     "data": {
      "text/plain": [
       "[2, 4, 6, 8, 10, 12, 14, 16, 18, 20, 22]"
      ]
     },
     "execution_count": 39,
     "metadata": {},
     "output_type": "execute_result"
    }
   ],
   "source": [
    "even"
   ]
  },
  {
   "cell_type": "markdown",
   "id": "b65219a4",
   "metadata": {},
   "source": [
    "# .extend()"
   ]
  },
  {
   "cell_type": "code",
   "execution_count": 40,
   "id": "171620ba",
   "metadata": {},
   "outputs": [],
   "source": [
    "l1= [2,4,6]\n",
    "l2=[1,3]"
   ]
  },
  {
   "cell_type": "code",
   "execution_count": 41,
   "id": "f237128e",
   "metadata": {},
   "outputs": [
    {
     "data": {
      "text/plain": [
       "[2, 4, 6, 1, 3]"
      ]
     },
     "execution_count": 41,
     "metadata": {},
     "output_type": "execute_result"
    }
   ],
   "source": [
    "l1 + l2"
   ]
  },
  {
   "cell_type": "code",
   "execution_count": 43,
   "id": "4c53c331",
   "metadata": {},
   "outputs": [],
   "source": [
    "l1.extend(l2)"
   ]
  },
  {
   "cell_type": "code",
   "execution_count": 44,
   "id": "b6e3d7fa",
   "metadata": {},
   "outputs": [
    {
     "data": {
      "text/plain": [
       "[2, 4, 6, 2, 4, 6, 1, 3]"
      ]
     },
     "execution_count": 44,
     "metadata": {},
     "output_type": "execute_result"
    }
   ],
   "source": [
    "l1"
   ]
  },
  {
   "cell_type": "code",
   "execution_count": 45,
   "id": "9ee5b13c",
   "metadata": {},
   "outputs": [
    {
     "data": {
      "text/plain": [
       "[1, 3]"
      ]
     },
     "execution_count": 45,
     "metadata": {},
     "output_type": "execute_result"
    }
   ],
   "source": [
    "l2"
   ]
  },
  {
   "cell_type": "code",
   "execution_count": 46,
   "id": "b77d721d",
   "metadata": {},
   "outputs": [],
   "source": [
    "l2.extend(l1)"
   ]
  },
  {
   "cell_type": "code",
   "execution_count": 47,
   "id": "3d3d3f50",
   "metadata": {},
   "outputs": [
    {
     "data": {
      "text/plain": [
       "[1, 3, 2, 4, 6, 2, 4, 6, 1, 3]"
      ]
     },
     "execution_count": 47,
     "metadata": {},
     "output_type": "execute_result"
    }
   ],
   "source": [
    "l2"
   ]
  },
  {
   "cell_type": "markdown",
   "id": "aa92e28a",
   "metadata": {},
   "source": [
    "# .remove()"
   ]
  },
  {
   "cell_type": "code",
   "execution_count": 48,
   "id": "ee3a204b",
   "metadata": {},
   "outputs": [
    {
     "name": "stdout",
     "output_type": "stream",
     "text": [
      "['banana', 'apple', 'mango']\n"
     ]
    }
   ],
   "source": [
    "fruits = ['apple', 'banana', 'apple', 'mango']\n",
    "fruits.remove(\"apple\") # first occurance item is removed\n",
    "print (fruits)"
   ]
  },
  {
   "cell_type": "markdown",
   "id": "f554f56f",
   "metadata": {},
   "source": [
    "# .pop()"
   ]
  },
  {
   "cell_type": "code",
   "execution_count": 51,
   "id": "d0932478",
   "metadata": {},
   "outputs": [
    {
     "name": "stdout",
     "output_type": "stream",
     "text": [
      "['apple', 'banana', 'apple']\n"
     ]
    }
   ],
   "source": [
    "fruits = ['apple', 'banana', 'apple', 'mango']\n",
    "fruits.pop() #removes last item\n",
    "print(fruits)"
   ]
  },
  {
   "cell_type": "code",
   "execution_count": 55,
   "id": "76d76ced",
   "metadata": {},
   "outputs": [],
   "source": [
    "fruits = ['apple', 'banana', 'apple', 'mango', 'kiwi', 'Guava', 'Orange']"
   ]
  },
  {
   "cell_type": "code",
   "execution_count": 56,
   "id": "a06c8b56",
   "metadata": {},
   "outputs": [
    {
     "data": {
      "text/plain": [
       "'kiwi'"
      ]
     },
     "execution_count": 56,
     "metadata": {},
     "output_type": "execute_result"
    }
   ],
   "source": [
    "fruits.pop(4)"
   ]
  },
  {
   "cell_type": "code",
   "execution_count": 57,
   "id": "163fd349",
   "metadata": {},
   "outputs": [
    {
     "data": {
      "text/plain": [
       "['apple', 'banana', 'apple', 'mango', 'Guava', 'Orange']"
      ]
     },
     "execution_count": 57,
     "metadata": {},
     "output_type": "execute_result"
    }
   ],
   "source": [
    "fruits"
   ]
  },
  {
   "cell_type": "markdown",
   "id": "5e8440ca",
   "metadata": {},
   "source": [
    "# .sort()"
   ]
  },
  {
   "cell_type": "code",
   "execution_count": 64,
   "id": "2c45bd2b",
   "metadata": {},
   "outputs": [],
   "source": [
    "fruits = ['Apple', 'Banana', 'Apple', 'Mango', 'Kiwi', 'Guava', 'Orange']\n",
    "fruits.sort() # ascending order"
   ]
  },
  {
   "cell_type": "code",
   "execution_count": 65,
   "id": "f3423298",
   "metadata": {},
   "outputs": [
    {
     "data": {
      "text/plain": [
       "['Apple', 'Apple', 'Banana', 'Guava', 'Kiwi', 'Mango', 'Orange']"
      ]
     },
     "execution_count": 65,
     "metadata": {},
     "output_type": "execute_result"
    }
   ],
   "source": [
    "fruits"
   ]
  },
  {
   "cell_type": "code",
   "execution_count": 66,
   "id": "c4344997",
   "metadata": {},
   "outputs": [],
   "source": [
    "fruits = ['apple', 'banana', 'apple', 'mango', 'kiwi', 'Guava', 'Orange']\n",
    "myvar= fruits.sort() #does not print because this does not have any value"
   ]
  },
  {
   "cell_type": "code",
   "execution_count": 68,
   "id": "6f4c745b",
   "metadata": {},
   "outputs": [
    {
     "data": {
      "text/plain": [
       "['Orange', 'Mango', 'Kiwi', 'Guava', 'Banana', 'Apple', 'Apple']"
      ]
     },
     "execution_count": 68,
     "metadata": {},
     "output_type": "execute_result"
    }
   ],
   "source": [
    "fruits = ['Apple', 'Banana', 'Apple', 'Mango', 'Kiwi', 'Guava', 'Orange']\n",
    "fruits.sort(reverse=True) # descending order\n",
    "fruits"
   ]
  },
  {
   "cell_type": "code",
   "execution_count": 70,
   "id": "1caba9ce",
   "metadata": {},
   "outputs": [
    {
     "data": {
      "text/plain": [
       "['Apple', 'Apple', 'Banana', 'Guava', 'Kiwi', 'Mango', 'Orange']"
      ]
     },
     "execution_count": 70,
     "metadata": {},
     "output_type": "execute_result"
    }
   ],
   "source": [
    "fruits = ['Apple', 'Banana', 'Apple', 'Mango', 'Kiwi', 'Guava', 'Orange']\n",
    "sorted_fruits= sorted(fruits) #used for assigning in variable\n",
    "sorted_fruits"
   ]
  },
  {
   "cell_type": "code",
   "execution_count": null,
   "id": "a2daa5b3",
   "metadata": {},
   "outputs": [],
   "source": []
  }
 ],
 "metadata": {
  "kernelspec": {
   "display_name": "Python 3 (ipykernel)",
   "language": "python",
   "name": "python3"
  },
  "language_info": {
   "codemirror_mode": {
    "name": "ipython",
    "version": 3
   },
   "file_extension": ".py",
   "mimetype": "text/x-python",
   "name": "python",
   "nbconvert_exporter": "python",
   "pygments_lexer": "ipython3",
   "version": "3.10.11"
  }
 },
 "nbformat": 4,
 "nbformat_minor": 5
}
