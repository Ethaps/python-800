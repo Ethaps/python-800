{
 "cells": [
  {
   "cell_type": "code",
   "execution_count": 5,
   "id": "16a728da",
   "metadata": {},
   "outputs": [
    {
     "name": "stdout",
     "output_type": "stream",
     "text": [
      "Enter any number:5\n"
     ]
    },
    {
     "data": {
      "text/plain": [
       "1"
      ]
     },
     "execution_count": 5,
     "metadata": {},
     "output_type": "execute_result"
    }
   ],
   "source": [
    "number= int(input(\"Enter any number:\"))\n",
    "rem= number%2\n",
    "rem"
   ]
  },
  {
   "cell_type": "markdown",
   "id": "4f3132af",
   "metadata": {},
   "source": [
    "# Comparision operator"
   ]
  },
  {
   "cell_type": "code",
   "execution_count": 6,
   "id": "ad7afa77",
   "metadata": {},
   "outputs": [
    {
     "data": {
      "text/plain": [
       "True"
      ]
     },
     "execution_count": 6,
     "metadata": {},
     "output_type": "execute_result"
    }
   ],
   "source": [
    "2 == 2 # equals to"
   ]
  },
  {
   "cell_type": "code",
   "execution_count": 7,
   "id": "7baf274f",
   "metadata": {},
   "outputs": [
    {
     "data": {
      "text/plain": [
       "True"
      ]
     },
     "execution_count": 7,
     "metadata": {},
     "output_type": "execute_result"
    }
   ],
   "source": [
    "2<4 # less than operator"
   ]
  },
  {
   "cell_type": "code",
   "execution_count": 8,
   "id": "db4fa8e1",
   "metadata": {},
   "outputs": [
    {
     "data": {
      "text/plain": [
       "False"
      ]
     },
     "execution_count": 8,
     "metadata": {},
     "output_type": "execute_result"
    }
   ],
   "source": [
    "2< 1 "
   ]
  },
  {
   "cell_type": "code",
   "execution_count": 10,
   "id": "cae2ed85",
   "metadata": {},
   "outputs": [
    {
     "data": {
      "text/plain": [
       "False"
      ]
     },
     "execution_count": 10,
     "metadata": {},
     "output_type": "execute_result"
    }
   ],
   "source": [
    "2> 3 # greater than operator"
   ]
  },
  {
   "cell_type": "code",
   "execution_count": 12,
   "id": "24946178",
   "metadata": {},
   "outputs": [
    {
     "data": {
      "text/plain": [
       "True"
      ]
     },
     "execution_count": 12,
     "metadata": {},
     "output_type": "execute_result"
    }
   ],
   "source": [
    "2 <= 6 # less thann or equals to"
   ]
  },
  {
   "cell_type": "code",
   "execution_count": 14,
   "id": "299f2c7b",
   "metadata": {},
   "outputs": [
    {
     "data": {
      "text/plain": [
       "False"
      ]
     },
     "execution_count": 14,
     "metadata": {},
     "output_type": "execute_result"
    }
   ],
   "source": [
    "5 >= 9 # greater or equals to"
   ]
  },
  {
   "cell_type": "code",
   "execution_count": 16,
   "id": "b36b8744",
   "metadata": {},
   "outputs": [
    {
     "data": {
      "text/plain": [
       "True"
      ]
     },
     "execution_count": 16,
     "metadata": {},
     "output_type": "execute_result"
    }
   ],
   "source": [
    "3 != 6 # not equals to"
   ]
  },
  {
   "cell_type": "code",
   "execution_count": 21,
   "id": "a627a889",
   "metadata": {},
   "outputs": [
    {
     "name": "stdout",
     "output_type": "stream",
     "text": [
      "Enter any number:5\n",
      "The number is odd\n"
     ]
    }
   ],
   "source": [
    "number= int(input(\"Enter any number:\"))\n",
    "rem= number%2\n",
    "if rem == 0: # if statement\n",
    "    print (\"The number is even\")\n",
    "    \n",
    "else: # else statement\n",
    "    print (\"The number is odd\")"
   ]
  },
  {
   "cell_type": "markdown",
   "id": "5a86b9ce",
   "metadata": {},
   "source": [
    "<img src= \"https://i.ytimg.com/vi/kqajMt_wA4Y/maxresdefault.jpg\">"
   ]
  },
  {
   "cell_type": "code",
   "execution_count": 26,
   "id": "43438ac8",
   "metadata": {},
   "outputs": [
    {
     "name": "stdout",
     "output_type": "stream",
     "text": [
      "Enter any number: -5\n",
      "Negative\n"
     ]
    }
   ],
   "source": [
    "num = int(input(\"Enter any number: \"))\n",
    "if num <0:\n",
    "    print(\"Negative\")\n",
    "else:\n",
    "    print (\"Positive\")"
   ]
  },
  {
   "cell_type": "code",
   "execution_count": 29,
   "id": "e4186e72",
   "metadata": {},
   "outputs": [
    {
     "ename": "IndentationError",
     "evalue": "expected an indented block after 'if' statement on line 1 (3575210389.py, line 2)",
     "output_type": "error",
     "traceback": [
      "\u001b[1;36m  Cell \u001b[1;32mIn[29], line 2\u001b[1;36m\u001b[0m\n\u001b[1;33m    print (\"equal\")\u001b[0m\n\u001b[1;37m    ^\u001b[0m\n\u001b[1;31mIndentationError\u001b[0m\u001b[1;31m:\u001b[0m expected an indented block after 'if' statement on line 1\n"
     ]
    }
   ],
   "source": [
    "if 10 == 10:\n",
    "print (\"equal\")"
   ]
  },
  {
   "cell_type": "code",
   "execution_count": 30,
   "id": "36389e64",
   "metadata": {},
   "outputs": [
    {
     "data": {
      "text/plain": [
       "17"
      ]
     },
     "execution_count": 30,
     "metadata": {},
     "output_type": "execute_result"
    }
   ],
   "source": [
    "17"
   ]
  },
  {
   "cell_type": "code",
   "execution_count": null,
   "id": "20fe706b",
   "metadata": {},
   "outputs": [],
   "source": []
  }
 ],
 "metadata": {
  "kernelspec": {
   "display_name": "Python 3 (ipykernel)",
   "language": "python",
   "name": "python3"
  },
  "language_info": {
   "codemirror_mode": {
    "name": "ipython",
    "version": 3
   },
   "file_extension": ".py",
   "mimetype": "text/x-python",
   "name": "python",
   "nbconvert_exporter": "python",
   "pygments_lexer": "ipython3",
   "version": "3.10.11"
  }
 },
 "nbformat": 4,
 "nbformat_minor": 5
}
