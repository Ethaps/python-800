{
 "cells": [
  {
   "cell_type": "markdown",
   "id": "9a0fc005",
   "metadata": {},
   "source": [
    "# syntax\n",
    "\n",
    "``` python\n",
    "[expression for item in iterables]\n",
    "[expression for item in iterables if True]\n",
    "[expression if True else Expression for item in iterables]\n",
    "```\n"
   ]
  },
  {
   "cell_type": "code",
   "execution_count": 1,
   "id": "10872a37",
   "metadata": {},
   "outputs": [],
   "source": [
    "x= [15, 6]"
   ]
  },
  {
   "cell_type": "code",
   "execution_count": 2,
   "id": "596aef49",
   "metadata": {},
   "outputs": [],
   "source": [
    "y=x"
   ]
  },
  {
   "cell_type": "code",
   "execution_count": 3,
   "id": "ff3f41b2",
   "metadata": {},
   "outputs": [
    {
     "data": {
      "text/plain": [
       "[15, 6]"
      ]
     },
     "execution_count": 3,
     "metadata": {},
     "output_type": "execute_result"
    }
   ],
   "source": [
    "y"
   ]
  },
  {
   "cell_type": "code",
   "execution_count": 4,
   "id": "b63f3e70",
   "metadata": {},
   "outputs": [],
   "source": [
    "p= x.copy()"
   ]
  },
  {
   "cell_type": "code",
   "execution_count": 5,
   "id": "68ebf0ea",
   "metadata": {},
   "outputs": [
    {
     "data": {
      "text/plain": [
       "[15, 6]"
      ]
     },
     "execution_count": 5,
     "metadata": {},
     "output_type": "execute_result"
    }
   ],
   "source": [
    "p"
   ]
  },
  {
   "cell_type": "code",
   "execution_count": 9,
   "id": "f3953058",
   "metadata": {},
   "outputs": [],
   "source": [
    "fruits= ['apple','banana']\n",
    "fruits.append('kiwi'.upper())"
   ]
  },
  {
   "cell_type": "code",
   "execution_count": 10,
   "id": "07e2b534",
   "metadata": {},
   "outputs": [
    {
     "data": {
      "text/plain": [
       "['apple', 'banana', 'KIWI']"
      ]
     },
     "execution_count": 10,
     "metadata": {},
     "output_type": "execute_result"
    }
   ],
   "source": [
    "fruits"
   ]
  },
  {
   "cell_type": "code",
   "execution_count": null,
   "id": "6d2c1162",
   "metadata": {},
   "outputs": [],
   "source": []
  }
 ],
 "metadata": {
  "kernelspec": {
   "display_name": "Python 3 (ipykernel)",
   "language": "python",
   "name": "python3"
  },
  "language_info": {
   "codemirror_mode": {
    "name": "ipython",
    "version": 3
   },
   "file_extension": ".py",
   "mimetype": "text/x-python",
   "name": "python",
   "nbconvert_exporter": "python",
   "pygments_lexer": "ipython3",
   "version": "3.10.11"
  }
 },
 "nbformat": 4,
 "nbformat_minor": 5
}
