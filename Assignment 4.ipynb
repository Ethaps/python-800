{
 "cells": [
  {
   "cell_type": "code",
   "execution_count": 13,
   "id": "57ccc1ad",
   "metadata": {},
   "outputs": [
    {
     "ename": "TypeError",
     "evalue": "'str' object cannot be interpreted as an integer",
     "output_type": "error",
     "traceback": [
      "\u001b[1;31m---------------------------------------------------------------------------\u001b[0m",
      "\u001b[1;31mTypeError\u001b[0m                                 Traceback (most recent call last)",
      "Cell \u001b[1;32mIn[13], line 3\u001b[0m\n\u001b[0;32m      1\u001b[0m word \u001b[38;5;241m=\u001b[39m \u001b[38;5;124m\"\u001b[39m\u001b[38;5;124mhello\u001b[39m\u001b[38;5;124m\"\u001b[39m\n\u001b[0;32m      2\u001b[0m n\u001b[38;5;241m=\u001b[39m \u001b[38;5;241m0\u001b[39m\n\u001b[1;32m----> 3\u001b[0m \u001b[38;5;28;01mfor\u001b[39;00m index \u001b[38;5;129;01min\u001b[39;00m \u001b[38;5;28;43mrange\u001b[39;49m\u001b[43m \u001b[49m\u001b[43m(\u001b[49m\u001b[43mword\u001b[49m\u001b[43m[\u001b[49m\u001b[38;5;241;43m0\u001b[39;49m\u001b[43m:\u001b[49m\u001b[38;5;241;43m5\u001b[39;49m\u001b[43m]\u001b[49m\u001b[43m)\u001b[49m:\n\u001b[0;32m      4\u001b[0m     \u001b[38;5;28;01mif\u001b[39;00m index \u001b[38;5;241m==\u001b[39m \u001b[38;5;124m\"\u001b[39m\u001b[38;5;124ma\u001b[39m\u001b[38;5;124m\"\u001b[39m \u001b[38;5;129;01mor\u001b[39;00m index \u001b[38;5;241m==\u001b[39m \u001b[38;5;124m\"\u001b[39m\u001b[38;5;124me\u001b[39m\u001b[38;5;124m\"\u001b[39m \u001b[38;5;129;01mor\u001b[39;00m index \u001b[38;5;241m==\u001b[39m \u001b[38;5;124m\"\u001b[39m\u001b[38;5;124mi\u001b[39m\u001b[38;5;124m\"\u001b[39m \u001b[38;5;129;01mor\u001b[39;00m index \u001b[38;5;241m==\u001b[39m\u001b[38;5;124m\"\u001b[39m\u001b[38;5;124mo\u001b[39m\u001b[38;5;124m\"\u001b[39m \u001b[38;5;129;01mor\u001b[39;00m index \u001b[38;5;241m==\u001b[39m \u001b[38;5;124m\"\u001b[39m\u001b[38;5;124mu\u001b[39m\u001b[38;5;124m\"\u001b[39m:\n\u001b[0;32m      5\u001b[0m         n \u001b[38;5;241m=\u001b[39m n\u001b[38;5;241m+\u001b[39m\u001b[38;5;241m1\u001b[39m\n",
      "\u001b[1;31mTypeError\u001b[0m: 'str' object cannot be interpreted as an integer"
     ]
    }
   ],
   "source": [
    "word = \"hello\"\n",
    "n= 0\n",
    "for index in range (word[0:5]):\n",
    "    if index == \"a\" or index == \"e\" or index == \"i\" or index ==\"o\" or index == \"u\":\n",
    "        n = n+1\n",
    "\n",
    "    print (f'Numbers of vowels= {n}')"
   ]
  },
  {
   "cell_type": "code",
   "execution_count": null,
   "id": "42a22bdf",
   "metadata": {},
   "outputs": [],
   "source": []
  },
  {
   "cell_type": "code",
   "execution_count": 21,
   "id": "479eb6a2",
   "metadata": {},
   "outputs": [],
   "source": [
    "s= \"hello world\""
   ]
  },
  {
   "cell_type": "code",
   "execution_count": 22,
   "id": "fffdaa1a",
   "metadata": {},
   "outputs": [
    {
     "data": {
      "text/plain": [
       "11"
      ]
     },
     "execution_count": 22,
     "metadata": {},
     "output_type": "execute_result"
    }
   ],
   "source": [
    "len (s)"
   ]
  },
  {
   "cell_type": "code",
   "execution_count": 31,
   "id": "86c99f39",
   "metadata": {},
   "outputs": [],
   "source": [
    "start= len(s)-1\n",
    "step = -1\n",
    "end = -1"
   ]
  },
  {
   "cell_type": "code",
   "execution_count": 32,
   "id": "06abed74",
   "metadata": {},
   "outputs": [
    {
     "name": "stdout",
     "output_type": "stream",
     "text": [
      "10 d\n",
      "9 l\n",
      "8 r\n",
      "7 o\n",
      "6 w\n",
      "5  \n",
      "4 o\n",
      "3 l\n",
      "2 l\n",
      "1 e\n",
      "0 h\n"
     ]
    }
   ],
   "source": [
    "for index in range(start, end, step):\n",
    "    print(index, s[index])"
   ]
  },
  {
   "cell_type": "code",
   "execution_count": 36,
   "id": "1e1864c2",
   "metadata": {},
   "outputs": [
    {
     "name": "stdout",
     "output_type": "stream",
     "text": [
      "0 h\n",
      "1 e\n",
      "2 l\n",
      "3 l\n",
      "4 o\n",
      "5  \n",
      "6 w\n",
      "7 o\n",
      "8 r\n",
      "9 l\n",
      "10 d\n"
     ]
    }
   ],
   "source": [
    "for index, letter in enumerate (s):\n",
    "    print(index, letter)"
   ]
  },
  {
   "cell_type": "markdown",
   "id": "c0bc0e1a",
   "metadata": {},
   "source": [
    "# Check vowel and consonant"
   ]
  },
  {
   "cell_type": "code",
   "execution_count": 38,
   "id": "67f96f11",
   "metadata": {},
   "outputs": [],
   "source": [
    "s= \"me timro hari bahadur\""
   ]
  },
  {
   "cell_type": "code",
   "execution_count": 40,
   "id": "f93570e6",
   "metadata": {},
   "outputs": [
    {
     "name": "stdout",
     "output_type": "stream",
     "text": [
      "the letter m is consonant\n",
      "the letter e is vowel\n",
      "the letter   is consonant\n",
      "the letter t is consonant\n",
      "the letter i is vowel\n",
      "the letter m is consonant\n",
      "the letter r is consonant\n",
      "the letter o is vowel\n",
      "the letter   is consonant\n",
      "the letter h is consonant\n",
      "the letter a is vowel\n",
      "the letter r is consonant\n",
      "the letter i is vowel\n",
      "the letter   is consonant\n",
      "the letter b is consonant\n",
      "the letter a is vowel\n",
      "the letter h is consonant\n",
      "the letter a is vowel\n",
      "the letter d is consonant\n",
      "the letter u is vowel\n",
      "the letter r is consonant\n"
     ]
    }
   ],
   "source": [
    "for letter in s:\n",
    "    if letter == \"a\" or letter== \"e\" or letter ==\"i\" or letter== \"o\" or letter == \"u\":\n",
    "        print (f\"the letter {letter} is vowel\")\n",
    "        \n",
    "    else:\n",
    "        print (f\"the letter {letter} is consonant\")"
   ]
  },
  {
   "cell_type": "markdown",
   "id": "dad6ef35",
   "metadata": {},
   "source": [
    "# Break vs continue statement"
   ]
  },
  {
   "cell_type": "code",
   "execution_count": 41,
   "id": "2b56318f",
   "metadata": {},
   "outputs": [
    {
     "name": "stdout",
     "output_type": "stream",
     "text": [
      "teh letter m is a consonant\n",
      "the letter e is vowel\n",
      "teh letter t is a consonant\n",
      "the letter i is vowel\n",
      "teh letter m is a consonant\n",
      "teh letter r is a consonant\n",
      "the letter o is vowel\n",
      "teh letter h is a consonant\n",
      "the letter a is vowel\n",
      "teh letter r is a consonant\n",
      "the letter i is vowel\n",
      "teh letter b is a consonant\n",
      "the letter a is vowel\n",
      "teh letter h is a consonant\n",
      "the letter a is vowel\n",
      "teh letter d is a consonant\n",
      "the letter u is vowel\n",
      "teh letter r is a consonant\n"
     ]
    }
   ],
   "source": [
    "s= \"me timro hari bahadur\"\n",
    "for letter in s:\n",
    "    if letter == \"a\" or letter ==\"e\" or letter == \"i\" or letter ==\"o\" or letter == \"u\":\n",
    "        print (f\"the letter {letter} is vowel\")\n",
    "    \n",
    "    elif letter ==\" \":\n",
    "        continue\n",
    "        print (\"yo statement run hudaina\")\n",
    "        \n",
    "    else:\n",
    "        print (f\"teh letter {letter} is a consonant\")"
   ]
  },
  {
   "cell_type": "code",
   "execution_count": 48,
   "id": "fc05e9d7",
   "metadata": {},
   "outputs": [
    {
     "name": "stdout",
     "output_type": "stream",
     "text": [
      "0\n",
      "1\n",
      "3\n",
      "4\n"
     ]
    }
   ],
   "source": [
    "for i in range(5):\n",
    "    if i == 2:\n",
    "        continue\n",
    "    print (i)\n",
    "    \n"
   ]
  },
  {
   "cell_type": "code",
   "execution_count": 45,
   "id": "03c8114b",
   "metadata": {},
   "outputs": [
    {
     "name": "stdout",
     "output_type": "stream",
     "text": [
      "0\n",
      "1\n",
      "loop break vayera for baira aayo\n"
     ]
    }
   ],
   "source": [
    "for i in range(5):\n",
    "    if i == 2:\n",
    "        break\n",
    "    print (i)\n",
    "    \n",
    "print (\"loop break vayera for baira aayo\")"
   ]
  },
  {
   "cell_type": "code",
   "execution_count": 49,
   "id": "368fc6ee",
   "metadata": {},
   "outputs": [
    {
     "data": {
      "text/plain": [
       "'SitaRam'"
      ]
     },
     "execution_count": 49,
     "metadata": {},
     "output_type": "execute_result"
    }
   ],
   "source": [
    "\"Sita\"+\"Ram\""
   ]
  },
  {
   "cell_type": "code",
   "execution_count": 50,
   "id": "47c7b5fe",
   "metadata": {},
   "outputs": [
    {
     "data": {
      "text/plain": [
       "'RamRamRam'"
      ]
     },
     "execution_count": 50,
     "metadata": {},
     "output_type": "execute_result"
    }
   ],
   "source": [
    "\"Ram\" * 3"
   ]
  },
  {
   "cell_type": "code",
   "execution_count": null,
   "id": "b6e2565d",
   "metadata": {},
   "outputs": [],
   "source": []
  }
 ],
 "metadata": {
  "kernelspec": {
   "display_name": "Python 3 (ipykernel)",
   "language": "python",
   "name": "python3"
  },
  "language_info": {
   "codemirror_mode": {
    "name": "ipython",
    "version": 3
   },
   "file_extension": ".py",
   "mimetype": "text/x-python",
   "name": "python",
   "nbconvert_exporter": "python",
   "pygments_lexer": "ipython3",
   "version": "3.10.11"
  }
 },
 "nbformat": 4,
 "nbformat_minor": 5
}
