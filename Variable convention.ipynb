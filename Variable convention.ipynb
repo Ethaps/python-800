{
 "cells": [
  {
   "cell_type": "code",
   "execution_count": 1,
   "id": "61aeaabb",
   "metadata": {},
   "outputs": [],
   "source": [
    "name= \"Elina\""
   ]
  },
  {
   "cell_type": "code",
   "execution_count": 2,
   "id": "fe624080",
   "metadata": {},
   "outputs": [
    {
     "ename": "SyntaxError",
     "evalue": "invalid syntax (3997582067.py, line 1)",
     "output_type": "error",
     "traceback": [
      "\u001b[1;36m  Cell \u001b[1;32mIn[2], line 1\u001b[1;36m\u001b[0m\n\u001b[1;33m    first name= \"Elina\"\u001b[0m\n\u001b[1;37m          ^\u001b[0m\n\u001b[1;31mSyntaxError\u001b[0m\u001b[1;31m:\u001b[0m invalid syntax\n"
     ]
    }
   ],
   "source": [
    "first name= \"Elina\""
   ]
  },
  {
   "cell_type": "markdown",
   "id": "6fd1aa6b",
   "metadata": {},
   "source": [
    "# Python keywords cannot be variable name\n",
    "* keywords are the reserved words in Python\n",
    "* we cannot use a keyword as a variable name, function name or any other identifier\n",
    "* they are used to define the syntax and structure of the Python language\n",
    "* in Python, keywords are case sensitive"
   ]
  },
  {
   "cell_type": "code",
   "execution_count": 4,
   "id": "be62ef99",
   "metadata": {},
   "outputs": [
    {
     "name": "stdout",
     "output_type": "stream",
     "text": [
      "\n",
      "Here is a list of the Python keywords.  Enter any keyword to get more help.\n",
      "\n",
      "False               class               from                or\n",
      "None                continue            global              pass\n",
      "True                def                 if                  raise\n",
      "and                 del                 import              return\n",
      "as                  elif                in                  try\n",
      "assert              else                is                  while\n",
      "async               except              lambda              with\n",
      "await               finally             nonlocal            yield\n",
      "break               for                 not                 \n",
      "\n"
     ]
    }
   ],
   "source": [
    "help('keywords')"
   ]
  },
  {
   "cell_type": "code",
   "execution_count": 5,
   "id": "ac2b43b3",
   "metadata": {},
   "outputs": [
    {
     "ename": "SyntaxError",
     "evalue": "cannot assign to False (2896425236.py, line 1)",
     "output_type": "error",
     "traceback": [
      "\u001b[1;36m  Cell \u001b[1;32mIn[5], line 1\u001b[1;36m\u001b[0m\n\u001b[1;33m    False = '0'\u001b[0m\n\u001b[1;37m    ^\u001b[0m\n\u001b[1;31mSyntaxError\u001b[0m\u001b[1;31m:\u001b[0m cannot assign to False\n"
     ]
    }
   ],
   "source": [
    "False = '0'"
   ]
  },
  {
   "cell_type": "code",
   "execution_count": 6,
   "id": "5b8fc66d",
   "metadata": {},
   "outputs": [],
   "source": [
    "# Python keywords are case sensitive"
   ]
  },
  {
   "cell_type": "code",
   "execution_count": 7,
   "id": "0724d87a",
   "metadata": {},
   "outputs": [],
   "source": [
    "false = \"0\""
   ]
  },
  {
   "cell_type": "code",
   "execution_count": 8,
   "id": "eb8992b4",
   "metadata": {},
   "outputs": [],
   "source": [
    "# casesensitive: uppercase and lowercase are different object"
   ]
  },
  {
   "cell_type": "markdown",
   "id": "471df56c",
   "metadata": {},
   "source": [
    "# Python is a case sensitive language while SQL is case insensative"
   ]
  },
  {
   "cell_type": "code",
   "execution_count": 10,
   "id": "4105cefa",
   "metadata": {},
   "outputs": [
    {
     "name": "stdout",
     "output_type": "stream",
     "text": [
      "the value of A is Ant\n",
      "the value of a is and\n"
     ]
    }
   ],
   "source": [
    "A= \"Ant\"\n",
    "a= 'and'\n",
    "print ('the value of A is Ant')\n",
    "print ('the value of a is and')"
   ]
  },
  {
   "cell_type": "code",
   "execution_count": 11,
   "id": "8e344f56",
   "metadata": {},
   "outputs": [
    {
     "name": "stdout",
     "output_type": "stream",
     "text": [
      "the value of A is Ant\n",
      "the value of a is and\n"
     ]
    }
   ],
   "source": [
    "A= \"Ant\"\n",
    "a= 'and'\n",
    "print (f'the value of A is {A}')\n",
    "print (f'the value of a is {a}')"
   ]
  },
  {
   "cell_type": "markdown",
   "id": "19540850",
   "metadata": {},
   "source": [
    "A= \"Ant\"\n",
    "a= 'and'\n",
    "print ('the value of A is {}'.format(A))\n",
    "print ('the value of a is {}'.format(a))"
   ]
  },
  {
   "cell_type": "markdown",
   "id": "a5311163",
   "metadata": {},
   "source": [
    "# We cannot use special symbols like '!, @, #, $, %' etc. in our identifier or variable name"
   ]
  },
  {
   "cell_type": "code",
   "execution_count": 14,
   "id": "d176939b",
   "metadata": {},
   "outputs": [
    {
     "ename": "SyntaxError",
     "evalue": "invalid syntax (4070906652.py, line 1)",
     "output_type": "error",
     "traceback": [
      "\u001b[1;36m  Cell \u001b[1;32mIn[14], line 1\u001b[1;36m\u001b[0m\n\u001b[1;33m    $name= 'Ram'\u001b[0m\n\u001b[1;37m    ^\u001b[0m\n\u001b[1;31mSyntaxError\u001b[0m\u001b[1;31m:\u001b[0m invalid syntax\n"
     ]
    }
   ],
   "source": [
    "$name= 'Ram'"
   ]
  },
  {
   "cell_type": "code",
   "execution_count": 15,
   "id": "2f413be3",
   "metadata": {},
   "outputs": [
    {
     "ename": "SyntaxError",
     "evalue": "invalid syntax. Maybe you meant '==' or ':=' instead of '='? (3201816522.py, line 1)",
     "output_type": "error",
     "traceback": [
      "\u001b[1;36m  Cell \u001b[1;32mIn[15], line 1\u001b[1;36m\u001b[0m\n\u001b[1;33m    @name= 'Shyam'\u001b[0m\n\u001b[1;37m     ^\u001b[0m\n\u001b[1;31mSyntaxError\u001b[0m\u001b[1;31m:\u001b[0m invalid syntax. Maybe you meant '==' or ':=' instead of '='?\n"
     ]
    }
   ],
   "source": [
    "@name= 'Shyam'"
   ]
  },
  {
   "cell_type": "markdown",
   "id": "4ec22f51",
   "metadata": {},
   "source": [
    "# you cannot use space in variable name"
   ]
  },
  {
   "cell_type": "code",
   "execution_count": 16,
   "id": "755df0ec",
   "metadata": {},
   "outputs": [
    {
     "ename": "SyntaxError",
     "evalue": "invalid syntax (192561139.py, line 1)",
     "output_type": "error",
     "traceback": [
      "\u001b[1;36m  Cell \u001b[1;32mIn[16], line 1\u001b[1;36m\u001b[0m\n\u001b[1;33m    first name= 'Suman'\u001b[0m\n\u001b[1;37m          ^\u001b[0m\n\u001b[1;31mSyntaxError\u001b[0m\u001b[1;31m:\u001b[0m invalid syntax\n"
     ]
    }
   ],
   "source": [
    "first name= 'Suman'"
   ]
  },
  {
   "cell_type": "markdown",
   "id": "9151d243",
   "metadata": {},
   "source": [
    "# you cannot use - in variable name"
   ]
  },
  {
   "cell_type": "code",
   "execution_count": 17,
   "id": "9a1c8dec",
   "metadata": {},
   "outputs": [
    {
     "ename": "SyntaxError",
     "evalue": "cannot assign to expression here. Maybe you meant '==' instead of '='? (3317195536.py, line 1)",
     "output_type": "error",
     "traceback": [
      "\u001b[1;36m  Cell \u001b[1;32mIn[17], line 1\u001b[1;36m\u001b[0m\n\u001b[1;33m    first-name= 'Govind'\u001b[0m\n\u001b[1;37m    ^\u001b[0m\n\u001b[1;31mSyntaxError\u001b[0m\u001b[1;31m:\u001b[0m cannot assign to expression here. Maybe you meant '==' instead of '='?\n"
     ]
    }
   ],
   "source": [
    "first-name= 'Govind'"
   ]
  },
  {
   "cell_type": "markdown",
   "id": "ad3001fe",
   "metadata": {},
   "source": [
    "# Use underscore `_` to join words in variable name"
   ]
  },
  {
   "cell_type": "code",
   "execution_count": 18,
   "id": "6b02b2da",
   "metadata": {},
   "outputs": [],
   "source": [
    "first_name= \"Krishna\""
   ]
  },
  {
   "cell_type": "markdown",
   "id": "01f0fed8",
   "metadata": {},
   "source": [
    "## Numbers cannot be first letter in variable name but numbers can appear after letters"
   ]
  },
  {
   "cell_type": "code",
   "execution_count": 19,
   "id": "79f29330",
   "metadata": {},
   "outputs": [
    {
     "ename": "SyntaxError",
     "evalue": "invalid decimal literal (2617599953.py, line 1)",
     "output_type": "error",
     "traceback": [
      "\u001b[1;36m  Cell \u001b[1;32mIn[19], line 1\u001b[1;36m\u001b[0m\n\u001b[1;33m    1name= \"Hari\"\u001b[0m\n\u001b[1;37m    ^\u001b[0m\n\u001b[1;31mSyntaxError\u001b[0m\u001b[1;31m:\u001b[0m invalid decimal literal\n"
     ]
    }
   ],
   "source": [
    "1name= \"Hari\""
   ]
  },
  {
   "cell_type": "code",
   "execution_count": 20,
   "id": "005f9d21",
   "metadata": {},
   "outputs": [],
   "source": [
    "name1= \"Hari\""
   ]
  },
  {
   "cell_type": "markdown",
   "id": "9436a16d",
   "metadata": {},
   "source": [
    "# Variable naming styles\n",
    "\n",
    "[Python Style Guide: How to write Beautiful code in Python](https://realpython.com/python-pep8/)"
   ]
  },
  {
   "cell_type": "code",
   "execution_count": null,
   "id": "b7ea01e8",
   "metadata": {},
   "outputs": [],
   "source": [
    "[] "
   ]
  }
 ],
 "metadata": {
  "kernelspec": {
   "display_name": "Python 3 (ipykernel)",
   "language": "python",
   "name": "python3"
  },
  "language_info": {
   "codemirror_mode": {
    "name": "ipython",
    "version": 3
   },
   "file_extension": ".py",
   "mimetype": "text/x-python",
   "name": "python",
   "nbconvert_exporter": "python",
   "pygments_lexer": "ipython3",
   "version": "3.10.11"
  }
 },
 "nbformat": 4,
 "nbformat_minor": 5
}
