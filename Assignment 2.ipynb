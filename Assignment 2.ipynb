{
 "cells": [
  {
   "cell_type": "code",
   "execution_count": 2,
   "id": "363ca8db",
   "metadata": {},
   "outputs": [
    {
     "name": "stdout",
     "output_type": "stream",
     "text": [
      "3\n"
     ]
    }
   ],
   "source": [
    "a= 1\n",
    "b= 2\n",
    "add= a+b\n",
    "print (add)"
   ]
  },
  {
   "cell_type": "code",
   "execution_count": 3,
   "id": "66e3fa8d",
   "metadata": {},
   "outputs": [
    {
     "name": "stdout",
     "output_type": "stream",
     "text": [
      "-1\n"
     ]
    }
   ],
   "source": [
    "a= 1\n",
    "b= 2\n",
    "sub= a-b\n",
    "print (sub)"
   ]
  },
  {
   "cell_type": "code",
   "execution_count": 4,
   "id": "b5d67740",
   "metadata": {},
   "outputs": [
    {
     "name": "stdout",
     "output_type": "stream",
     "text": [
      "2\n"
     ]
    }
   ],
   "source": [
    "a= 1\n",
    "b= 2\n",
    "mul= a*b\n",
    "print (mul)"
   ]
  },
  {
   "cell_type": "code",
   "execution_count": 5,
   "id": "d5d2b0d3",
   "metadata": {},
   "outputs": [
    {
     "name": "stdout",
     "output_type": "stream",
     "text": [
      "0.5\n"
     ]
    }
   ],
   "source": [
    "a= 1\n",
    "b= 2\n",
    "div= a/b\n",
    "print (div)"
   ]
  },
  {
   "cell_type": "code",
   "execution_count": 8,
   "id": "deb7e3e1",
   "metadata": {},
   "outputs": [
    {
     "name": "stdout",
     "output_type": "stream",
     "text": [
      "1\n"
     ]
    }
   ],
   "source": [
    "a= 1\n",
    "b= 2\n",
    "expo= a**b\n",
    "print (expo)"
   ]
  },
  {
   "cell_type": "code",
   "execution_count": 7,
   "id": "75a99c12",
   "metadata": {},
   "outputs": [
    {
     "name": "stdout",
     "output_type": "stream",
     "text": [
      "1\n"
     ]
    }
   ],
   "source": [
    "a= 1\n",
    "b= 2\n",
    "mod= a%b\n",
    "print (mod)"
   ]
  },
  {
   "cell_type": "code",
   "execution_count": null,
   "id": "dcd6976e",
   "metadata": {},
   "outputs": [],
   "source": []
  }
 ],
 "metadata": {
  "kernelspec": {
   "display_name": "Python 3 (ipykernel)",
   "language": "python",
   "name": "python3"
  },
  "language_info": {
   "codemirror_mode": {
    "name": "ipython",
    "version": 3
   },
   "file_extension": ".py",
   "mimetype": "text/x-python",
   "name": "python",
   "nbconvert_exporter": "python",
   "pygments_lexer": "ipython3",
   "version": "3.10.11"
  }
 },
 "nbformat": 4,
 "nbformat_minor": 5
}
